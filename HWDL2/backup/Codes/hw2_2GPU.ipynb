{
 "cells": [
  {
   "cell_type": "markdown",
   "metadata": {},
   "source": [
    "# CS-GY 9223-D: Deep Learning Homework 2\n",
    "Due on Friday, 12th March 2019, 11:55 PM\n",
    "\n",
    "This homework can be done in pairs.\n",
    "\n",
    "Write down the UNIs (NetIDs) of your group (if applicable)\n",
    "\n",
    "Member 1: Hupo Tang, ht1073\n",
    "\n",
    "Member 2: Name, NetID"
   ]
  },
  {
   "cell_type": "code",
   "execution_count": 1,
   "metadata": {},
   "outputs": [
    {
     "name": "stderr",
     "output_type": "stream",
     "text": [
      "Using TensorFlow backend.\n"
     ]
    }
   ],
   "source": [
    "import os\n",
    "import numpy as np\n",
    "import glob\n",
    "import tensorflow as tf\n",
    "from keras.utils import multi_gpu_model\n",
    "from keras.applications import Xception\n",
    "\n",
    "from keras.models import Sequential, Model\n",
    "\n",
    "from keras.layers.core import Flatten, Dense, Dropout, Lambda, Reshape\n",
    "from keras.layers.convolutional import Convolution2D, MaxPooling2D, ZeroPadding2D\n",
    "\n",
    "from keras.layers import Input\n",
    "from keras.layers import Dense, Dropout, BatchNormalization, AveragePooling2D, concatenate, ZeroPadding2D\n",
    "from keras.layers import Flatten\n",
    "from keras.layers import Conv2D, MaxPooling2D, Activation\n",
    "from keras import regularizers\n",
    "from keras.optimizers import SGD, RMSprop, Adam\n",
    "from keras.models import load_model\n",
    "\n",
    "import cv2\n",
    "# import matplotlib.pylab as plt\n",
    "# %matplotlib inline"
   ]
  },
  {
   "cell_type": "code",
   "execution_count": 2,
   "metadata": {},
   "outputs": [],
   "source": [
    "import warnings\n",
    "warnings.filterwarnings('ignore')\n",
    "from IPython.core.interactiveshell import InteractiveShell\n",
    "InteractiveShell.ast_node_interactivity='all'"
   ]
  },
  {
   "cell_type": "code",
   "execution_count": 3,
   "metadata": {},
   "outputs": [],
   "source": [
    "data_path = '../'\n",
    "TRAIN = '../images_training_rev1/'\n",
    "VALID = '../images_validation_rev1'\n",
    "TEST = '../images_test_rev1/'\n",
    "LABELS = '../training_solutions_rev1.csv'"
   ]
  },
  {
   "cell_type": "markdown",
   "metadata": {},
   "source": [
    "## Train and validation data split"
   ]
  },
  {
   "cell_type": "code",
   "execution_count": 33,
   "metadata": {},
   "outputs": [
    {
     "data": {
      "text/plain": [
       "'\\nDo not run twice!!!\\n'"
      ]
     },
     "execution_count": 33,
     "metadata": {},
     "output_type": "execute_result"
    }
   ],
   "source": [
    "'''\n",
    "Do not run twice ever!!!\n",
    "'''\n",
    "\n",
    "# g = glob.glob(data_path+'images_training_rev1/*.jpg')\n",
    "# shuf = np.random.permutation(g)\n",
    "# for i in range(2016):\n",
    "#     os.rename(shuf[i], data_path + 'images_validation_rev1/' + shuf[i].split(\"/\")[-1])"
   ]
  },
  {
   "cell_type": "markdown",
   "metadata": {},
   "source": [
    "## Data preprocessing"
   ]
  },
  {
   "cell_type": "markdown",
   "metadata": {},
   "source": [
    "### Use numpy array"
   ]
  },
  {
   "cell_type": "code",
   "execution_count": 3,
   "metadata": {},
   "outputs": [
    {
     "data": {
      "text/plain": [
       "59562"
      ]
     },
     "execution_count": 3,
     "metadata": {},
     "output_type": "execute_result"
    },
    {
     "data": {
      "text/plain": [
       "2016"
      ]
     },
     "execution_count": 3,
     "metadata": {},
     "output_type": "execute_result"
    }
   ],
   "source": [
    "# import pd as \n",
    "# groundtruth_train=pd.read_csv('./training_solutions_rev1.csv') # train中每个图像的相关类别的概率分布, dataframe type\n",
    "\n",
    "lst=os.listdir('../images_training_rev1/') # train中每个图像的filename，即图像id，构成的list\n",
    "# lst.sort()\n",
    "len(lst)\n",
    "lst_v = os.listdir('../images_validation_rev1/')\n",
    "len(lst_v)"
   ]
  },
  {
   "cell_type": "code",
   "execution_count": 4,
   "metadata": {},
   "outputs": [
    {
     "data": {
      "text/plain": [
       "((59562, 69, 69, 3), (59562, 37))"
      ]
     },
     "execution_count": 4,
     "metadata": {},
     "output_type": "execute_result"
    },
    {
     "data": {
      "text/plain": [
       "((2016, 69, 69, 3), (2016, 37))"
      ]
     },
     "execution_count": 4,
     "metadata": {},
     "output_type": "execute_result"
    }
   ],
   "source": [
    "X_train, y_train = np.load('../X_train.npy'), np.load('../y_train.npy')\n",
    "X_val, y_val = np.load('../X_val.npy'), np.load('../y_val.npy')\n",
    "X_train.shape, y_train.shape\n",
    "X_val.shape, y_val.shape"
   ]
  },
  {
   "cell_type": "code",
   "execution_count": 44,
   "metadata": {},
   "outputs": [],
   "source": [
    "from keras.preprocessing.image import ImageDataGenerator\n",
    "\n",
    "datagen = ImageDataGenerator(\n",
    "        featurewise_center=False,  # set input mean to 0 over the dataset\n",
    "        samplewise_center=False,  # set each sample mean to 0\n",
    "        featurewise_std_normalization=False,  # divide inputs by std of the dataset\n",
    "        samplewise_std_normalization=False,  # divide each input by its std\n",
    "        zca_whitening=False,  # apply ZCA whitening\n",
    "        rotation_range=270,  # randomly rotate images in the range (degrees, 0 to 180)\n",
    "        width_shift_range=0.1,  # randomly shift images horizontally (fraction of total width)\n",
    "        height_shift_range=0.1,  # randomly shift images vertically (fraction of total height)\n",
    "        horizontal_flip=True,  # randomly flip images\n",
    "        vertical_flip=True)  # randomly flip images"
   ]
  },
  {
   "cell_type": "code",
   "execution_count": 45,
   "metadata": {},
   "outputs": [],
   "source": [
    "datagen.fit(X_train)"
   ]
  },
  {
   "cell_type": "markdown",
   "metadata": {},
   "source": [
    "### Use generator"
   ]
  },
  {
   "cell_type": "code",
   "execution_count": 4,
   "metadata": {},
   "outputs": [],
   "source": [
    "from random import shuffle\n",
    "from scipy.misc import imresize\n",
    "import csv\n",
    "\n",
    "class data_loader:    \n",
    "    \"\"\"\n",
    "    Creates a class for handling train/valid/test data paths,\n",
    "    training labels and image IDs.\n",
    "    Useful for switching between sample and full datasets.\n",
    "    \"\"\"\n",
    "    def __init__(self, path):    \n",
    "        self.path = path \n",
    "        self.train_path = TRAIN\n",
    "        self.val_path = VALID\n",
    "        self.test_path = TEST\n",
    "        \n",
    "        def get_paths(directory):\n",
    "            return [f for f in os.listdir(directory)]\n",
    "        \n",
    "        self.training_images_paths = get_paths(self.train_path)\n",
    "        self.validation_images_paths = get_paths(self.val_path)\n",
    "        self.test_images_paths = get_paths(self.test_path)    \n",
    "        \n",
    "        def get_all_solutions():\n",
    "        # Import solutions file and load into self.solutions\n",
    "            all_solutions = {}\n",
    "            # /'training_solutions_rev1.csv'\n",
    "            with open(LABELS, 'r') as f:\n",
    "                reader = csv.reader(f, delimiter=\",\")\n",
    "                next(reader)\n",
    "                for i, line in enumerate(reader):\n",
    "                    all_solutions[line[0]] = [float(x) for x in line[1:]]\n",
    "            return all_solutions\n",
    "        \n",
    "        self.all_solutions = get_all_solutions()\n",
    "\n",
    "    def get_id(self,fname):\n",
    "        return fname.replace(\".jpg\",\"\").replace(\"data\",\"\")\n",
    "        \n",
    "    def find_label(self,val):\n",
    "        return self.all_solutions[val]"
   ]
  },
  {
   "cell_type": "code",
   "execution_count": 5,
   "metadata": {},
   "outputs": [],
   "source": [
    "def process_images(paths):\n",
    "    \"\"\"\n",
    "    Import image at 'paths', decode, centre crop and prepare for batching. \n",
    "    This is images processing for VGG Model.\n",
    "    \"\"\"\n",
    "    count = len(paths)\n",
    "    arr = np.zeros(shape=(count,3,106,106))\n",
    "    for c, path in enumerate(paths):\n",
    "        img = cv2.imread(path).T\n",
    "        img = img[:,106:106*3,106:106*3] #crop 424x424 -> 212x212\n",
    "        img = imresize(img,size=(106,106,3),interp=\"cubic\").T # downsample to half res\n",
    "        arr[c] = img\n",
    "    return arr\n",
    "\n",
    "def BatchGenerator(getter):\n",
    "    while 1:\n",
    "        for f in getter.training_images_paths:\n",
    "            X_train = process_images([getter.train_path + '/' + fname for fname in [f]])\n",
    "            X_train = np.reshape(X_train, (1,106,106,3))\n",
    "            id_ = getter.get_id(f)\n",
    "            y_train = np.array(getter.find_label(id_))\n",
    "            y_train = np.reshape(y_train,(1,37))\n",
    "            yield (X_train, y_train)\n",
    "\n",
    "def validGenerator(getter):\n",
    "    while 1:\n",
    "        for f in getter.validation_images_paths:\n",
    "            X_val = process_images([getter.val_path + '/' + fname for fname in [f]])\n",
    "            X_val = np.reshape(X_val, (1,106,106,3))\n",
    "            id_ = getter.get_id(f)\n",
    "            y_val = np.array(getter.find_label(id_))\n",
    "            y_val = np.reshape(y_val, (1,37))\n",
    "            yield (X_val, y_val)"
   ]
  },
  {
   "cell_type": "markdown",
   "metadata": {},
   "source": [
    "### Data augmentation"
   ]
  },
  {
   "cell_type": "code",
   "execution_count": 5,
   "metadata": {},
   "outputs": [],
   "source": [
    "# Expanded the original data by five times by rotating and flipping。\n",
    "\n",
    "def rotate90(img):\n",
    "    return np.rot90(img)\n",
    "\n",
    "def rotate180(img):\n",
    "    tmp = np.rot90(img)\n",
    "    return np.rot90(tmp)\n",
    "\n",
    "def rotate270(img):\n",
    "    tmp = np.rot90(img)\n",
    "    tmp = np.rot90(tmp)\n",
    "    return np.rot90(tmp)\n",
    "\n",
    "def flip_h(img):\n",
    "    return np.flip(img, axis=1)\n",
    "\n",
    "def flip_v(img):\n",
    "    return np.flip(img, axis=2)"
   ]
  },
  {
   "cell_type": "code",
   "execution_count": 9,
   "metadata": {},
   "outputs": [],
   "source": [
    "from scipy.misc import imresize\n",
    "\n",
    "aug = 1\n",
    "while aug<6:\n",
    "    auger={0:lambda x:x,1:rotate90,2:flip_h,3:rotate180,4:rotate270,5:flip_v}.get(aug,lambda x:x)\n",
    "    train_aug = []\n",
    "    for i in range(X_train.shape[0]):\n",
    "        img = X_train[i,:]\n",
    "        img = auger(img)\n",
    "        img = imresize(img,size=(69,69,3),interp=\"cubic\")\n",
    "        train_aug.append(img)\n",
    "    train = np.stack(train_aug)\n",
    "    np.save('../X_train'+str(aug), train)\n",
    "    aug += 1\n",
    "    "
   ]
  },
  {
   "cell_type": "code",
   "execution_count": 11,
   "metadata": {},
   "outputs": [],
   "source": [
    "X_train1 = np.load('../X_train1.npy')\n",
    "X_train2 = np.load('../X_train2.npy')\n",
    "X_train3 = np.load('../X_train3.npy')\n",
    "X_train4 = np.load('../X_train4.npy')\n",
    "X_train5 = np.load('../X_train5.npy')"
   ]
  },
  {
   "cell_type": "code",
   "execution_count": 12,
   "metadata": {},
   "outputs": [
    {
     "data": {
      "text/plain": [
       "(178686, 69, 69, 3)"
      ]
     },
     "execution_count": 12,
     "metadata": {},
     "output_type": "execute_result"
    }
   ],
   "source": [
    "tmp = np.append(X_train, X_train1, axis=0)\n",
    "X_aug = np.append(tmp, X_train2, axis = 0)\n",
    "X_aug.shape"
   ]
  },
  {
   "cell_type": "code",
   "execution_count": 16,
   "metadata": {},
   "outputs": [
    {
     "data": {
      "text/plain": [
       "(178686, 37)"
      ]
     },
     "execution_count": 16,
     "metadata": {},
     "output_type": "execute_result"
    }
   ],
   "source": [
    "tmp = np.append(y_train, y_train, axis=0)\n",
    "y_aug = np.append(tmp, y_train, axis=0)\n",
    "y_aug.shape"
   ]
  },
  {
   "cell_type": "code",
   "execution_count": 6,
   "metadata": {},
   "outputs": [],
   "source": [
    "def process_withaug(paths,aug=0):\n",
    "    count = len(paths)\n",
    "    arr = np.zeros(shape=(count,3,106,106))\n",
    "    for c, path in enumerate(paths):\n",
    "        raw_img = cv2.imread(path).T\n",
    "        auger={0:lambda x:x,1:rotate90,2:rotate180,3:rotate270,4:flip_h,5:flip_v}.get(aug,lambda x:x)\n",
    "        img=auger(raw_img)\n",
    "        img = img[:,106:106*3,106:106*3]\n",
    "        img = imresize(img,size=(106,106,3),interp=\"cubic\").T\n",
    "        arr[c] = img\n",
    "    return arr\n",
    "\n",
    "def BatchGenerator_withaug(getter):\n",
    "    while 1:\n",
    "        for f in getter.training_images_paths:\n",
    "            for aug in {0,1,2,3,4,5}:\n",
    "                X_train = process_withaug([getter.train_path + '/' + fname for fname in [f]], aug)\n",
    "                X_train = np.reshape(X_train, (1,106,106,3))\n",
    "                id_ = getter.get_id(f)\n",
    "                y_train = np.array(getter.find_label(id_))\n",
    "                y_train = np.reshape(y_train,(1,37))\n",
    "                yield (X_train, y_train)\n"
   ]
  },
  {
   "cell_type": "code",
   "execution_count": 16,
   "metadata": {},
   "outputs": [],
   "source": [
    "def process_images2(paths,aug=0):\n",
    "    \"\"\"\n",
    "    Import image at 'paths', decode, centre crop and prepare for batching. \n",
    "    \"\"\"\n",
    "    count = len(paths)\n",
    "    arr = np.zeros(shape=(count,3,69,69))\n",
    "    for c, path in enumerate(paths):\n",
    "        raw_img = cv2.imread(path).T\n",
    "        auger={0:lambda x:x,1:rotate90,2:flip_h,3:rotate270,4:rotate180,5:flip_v}.get(aug,lambda x:x)\n",
    "        img=auger(raw_img)\n",
    "        img = img[:,108:315,108:315] #crop 424x424 -> 207x207\n",
    "        img = imresize(img,size=(69,69,3),interp=\"cubic\").T # downsample\n",
    "        \n",
    "#         img1 = np.sqrt(img[:1,:,:]*255)\n",
    "#         img2 = np.sqrt(img[1:2,:,:])\n",
    "#         img2 = np.append(img1, img2, axis=0)\n",
    "#         img3 = np.sqrt(img[2:3,:,:])\n",
    "#         img = np.append(img2, img3.reshape((1,69,69)), axis=0)\n",
    "        \n",
    "        arr[c] = img\n",
    "    return arr\n",
    "\n",
    "def BatchGenerator2(getter):\n",
    "    while 1:\n",
    "        for f in getter.training_images_paths:\n",
    "            for aug in {0}:\n",
    "                X_train = process_images2([getter.train_path + '/' + fname for fname in [f]], aug)\n",
    "                X_train = np.reshape(X_train,(1,69,69,3))\n",
    "                id_ = getter.get_id(f)\n",
    "                y_train = np.array(getter.find_label(id_))\n",
    "                y_train = np.reshape(y_train,(1,37))\n",
    "                assert(X_train.shape==(1,69,69,3))\n",
    "                yield (X_train,y_train)\n",
    "\n",
    "def validGenerator2(getter):\n",
    "    while 1:\n",
    "        for f in getter.validation_images_paths:\n",
    "            X_val = process_images2([getter.val_path + '/' + fname for fname in [f]])\n",
    "            X_val = np.reshape(X_val, (1,69,69,3))\n",
    "            id_ = getter.get_id(f)\n",
    "            y_val = np.array(getter.find_label(id_))\n",
    "            y_val = np.reshape(y_val, (1,37))\n",
    "            yield (X_val, y_val)\n"
   ]
  },
  {
   "cell_type": "code",
   "execution_count": 17,
   "metadata": {},
   "outputs": [],
   "source": [
    "def BatchGenerator3(getter,batch_size=32):\n",
    "    batch_x,batch_y=[],[]\n",
    "    while 1:\n",
    "        img_id=0\n",
    "        while(img_id<len(getter.training_images_paths)):\n",
    "            f=getter.training_images_paths[img_id]\n",
    "            aug=0\n",
    "            while(aug<3):\n",
    "                X_train = process_images2([getter.train_path + '/' + fname for fname in [f]], aug)\n",
    "                X_train = np.reshape(X_train,(69,69,3))\n",
    "                id_ = getter.get_id(f)\n",
    "                y_train = np.array(getter.find_label(id_))\n",
    "                y_train = np.reshape(y_train,(37))\n",
    "                batch_x.append(X_train)\n",
    "                batch_y.append(y_train)\n",
    "                if len(batch_x)>=batch_size:\n",
    "                    yield np.stack(batch_x),np.stack(batch_y)\n",
    "                    batch_x,batch_y=[],[]\n",
    "                aug+=1\n",
    "            img_id+=1\n",
    "\n",
    "def validGenerator3(getter,batch_size=32):\n",
    "    batch_x,batch_y=[],[]\n",
    "    while(True):\n",
    "        img_id=0\n",
    "        while(img_id<len(getter.validation_images_paths)):\n",
    "            aug=0\n",
    "            f=getter.validation_images_paths[img_id]\n",
    "            while(aug<1):\n",
    "                X_val = process_images2([getter.val_path + '/' + fname for fname in [f]])\n",
    "                X_val = np.reshape(X_val, (69,69,3))\n",
    "                id_ = getter.get_id(f)\n",
    "                y_val = np.array(getter.find_label(id_))\n",
    "                y_val = np.reshape(y_val, (37))\n",
    "                batch_x.append(X_val)\n",
    "                batch_y.append(y_val)\n",
    "                if len(batch_x)>=batch_size:\n",
    "                    yield np.stack(batch_x),np.stack(batch_y)\n",
    "                    batch_x,batch_y=[],[]\n",
    "                aug+=1\n",
    "                img_id+=1\n"
   ]
  },
  {
   "cell_type": "code",
   "execution_count": 19,
   "metadata": {},
   "outputs": [],
   "source": [
    "from keras.callbacks import Callback\n",
    "from keras.callbacks import ModelCheckpoint, Callback, EarlyStopping\n",
    "\n",
    "class LossHistory(Callback):\n",
    "    def on_train_begin(self, logs={}):\n",
    "        self.losses = []\n",
    "        self.val_losses = []\n",
    "\n",
    "    def on_batch_end(self, batch, logs={}):\n",
    "        self.losses.append(logs.get('loss'))\n",
    "        self.val_losses.append(logs.get('val_loss'))"
   ]
  },
  {
   "cell_type": "code",
   "execution_count": 10,
   "metadata": {},
   "outputs": [],
   "source": [
    "fetcher = data_loader(data_path)"
   ]
  },
  {
   "cell_type": "code",
   "execution_count": 11,
   "metadata": {},
   "outputs": [
    {
     "data": {
      "text/plain": [
       "2016"
      ]
     },
     "execution_count": 11,
     "metadata": {},
     "output_type": "execute_result"
    }
   ],
   "source": [
    "len(fetcher.validation_images_paths)"
   ]
  },
  {
   "cell_type": "markdown",
   "metadata": {},
   "source": [
    "## Build Model"
   ]
  },
  {
   "cell_type": "markdown",
   "metadata": {},
   "source": [
    "### VGG"
   ]
  },
  {
   "cell_type": "code",
   "execution_count": 12,
   "metadata": {},
   "outputs": [],
   "source": [
    "def ConvBlock(layers, model, filters):\n",
    "    \"\"\"\n",
    "    Create a layered Conv/Pooling block\n",
    "    \"\"\"\n",
    "    for i in range(layers): \n",
    "        model.add(ZeroPadding2D((1,1)))  # zero padding of size 1\n",
    "        model.add(Convolution2D(filters, 3, 3, activation='relu'))  # 3x3 filter size \n",
    "    model.add(MaxPooling2D((1,1), strides=(2,2)))\n",
    "\n",
    "def FCBlock(model):\n",
    "    \"\"\"\n",
    "    Fully connected block with ReLU and dropout\n",
    "    \"\"\"\n",
    "    model.add(Dense(4096, activation='relu'))\n",
    "    model.add(Dropout(0.5))\n",
    "    \n",
    "def VGG_16():\n",
    "    \"\"\"\n",
    "    Implement VGG16 architecture\n",
    "    \"\"\"\n",
    "    model = Sequential()\n",
    "    model.add(Lambda(lambda x : x, input_shape=(106,106,3)))\n",
    "    \n",
    "    ConvBlock(2, model, 64)\n",
    "    ConvBlock(2, model, 128)\n",
    "    ConvBlock(3, model, 256)\n",
    "    ConvBlock(3, model, 512)\n",
    "    ConvBlock(3, model, 512)\n",
    "\n",
    "    model.add(Flatten())\n",
    "    FCBlock(model)\n",
    "    FCBlock(model)\n",
    "    \n",
    "    model.add(Dense(37, activation = 'sigmoid'))\n",
    "    return model\n",
    "\n",
    "def VGG_16_2():\n",
    "    \"\"\"\n",
    "    Implement VGG16 architecture\n",
    "    \"\"\"\n",
    "    model = Sequential()\n",
    "    model.add(Lambda(lambda x : x, input_shape=(69,69,3)))\n",
    "    \n",
    "    ConvBlock(2, model, 64)\n",
    "    ConvBlock(2, model, 128)\n",
    "    ConvBlock(3, model, 256)\n",
    "    ConvBlock(3, model, 512)\n",
    "    ConvBlock(3, model, 512)\n",
    "\n",
    "    model.add(Flatten())\n",
    "    FCBlock(model)\n",
    "    FCBlock(model)\n",
    "    \n",
    "    model.add(Dense(37, activation = 'sigmoid'))\n",
    "    return model"
   ]
  },
  {
   "cell_type": "code",
   "execution_count": 27,
   "metadata": {},
   "outputs": [],
   "source": [
    "# Compile \n",
    "optimizer = RMSprop(lr=1e-6)\n",
    "model = VGG_16()\n",
    "model2 = VGG_16_2()\n",
    "model.compile(loss='mean_squared_error', optimizer=optimizer)\n",
    "model2.compile(loss='mean_squared_error', optimizer=RMSprop(lr=1e-6))"
   ]
  },
  {
   "cell_type": "markdown",
   "metadata": {},
   "source": [
    "### My CNN design "
   ]
  },
  {
   "cell_type": "code",
   "execution_count": 48,
   "metadata": {},
   "outputs": [],
   "source": [
    "def MyCNN():\n",
    "    model = Sequential()\n",
    "    #NHWC(,69,69,3)\n",
    "    model.add(Lambda(lambda x: x, input_shape=(69,69,3)))\n",
    "#     print(model.output_shape)    \n",
    "\n",
    "    model.add(Convolution2D(8, 4, 4, activation='relu'))\n",
    "    model.add(Convolution2D(16, 3, 3, activation='relu'))\n",
    "#     model.add(Convolution2D(32, 6, 6, activation='relu'))\n",
    "    model.add(MaxPooling2D((2,2), strides=(2,2)))\n",
    "    \n",
    "    model.add(Convolution2D(32, 3, 3, activation='relu'))\n",
    "    model.add(Convolution2D(64, 3, 3, activation='relu'))\n",
    "#     model.add(Convolution2D(64, 5, 5, activation='relu'))\n",
    "    model.add(MaxPooling2D((2,2), strides=(2,2)))\n",
    "\n",
    "    model.add(Convolution2D(128, 3, 3, activation='relu', W_regularizer=regularizers.l2(0.001)))\n",
    "    model.add(Convolution2D(128, 3, 3, activation='relu', W_regularizer=regularizers.l2(0.01)))\n",
    "#     model.add(Convolution2D(256, 3, 3, activation='relu', W_regularizer=regularizers.l2(0.01)))\n",
    "    \n",
    "    model.add(MaxPooling2D((2,2), strides=(2,2)))\n",
    "    model.add(Flatten())\n",
    "    model.add(Dense(2048, activation='elu'))\n",
    "#     model.add(Dense(4096, activation='elu'))\n",
    "    model.add(Dropout(0.25))\n",
    "    model.add(Dense(2048, activation='elu'))\n",
    "#     model.add(Dense(4096, activation='elu'))\n",
    "    model.add(Dropout(0.25))\n",
    "    model.add(Dense(37, activation='sigmoid'))\n",
    "    return model"
   ]
  },
  {
   "cell_type": "code",
   "execution_count": 49,
   "metadata": {},
   "outputs": [],
   "source": [
    "myModel = MyCNN()\n",
    "myModel = multi_gpu_model(myModel, gpus=2)"
   ]
  },
  {
   "cell_type": "code",
   "execution_count": 50,
   "metadata": {},
   "outputs": [],
   "source": [
    "myModel.compile(loss='mean_squared_error', optimizer=Adam(lr=5e-5))"
   ]
  },
  {
   "cell_type": "markdown",
   "metadata": {},
   "source": [
    "### ResNet"
   ]
  },
  {
   "cell_type": "code",
   "execution_count": 45,
   "metadata": {},
   "outputs": [],
   "source": [
    "def Conv2d_BN(x, nb_filter, kernel_size, strides=(1, 1), padding='same'):\n",
    "    x = Conv2D(nb_filter, kernel_size, padding=padding, strides=strides, activation='relu')(x)\n",
    "#     print(x.shape)\n",
    "    x = BatchNormalization(axis=3)(x)\n",
    "    return x\n",
    "\n",
    "def identity_Block(inpt, nb_filter, kernel_size, strides=(1, 1), with_conv_shortcut=False):\n",
    "    x = Conv2d_BN(inpt, nb_filter=nb_filter, kernel_size=kernel_size, strides=strides, padding='same')\n",
    "    x = Conv2d_BN(x, nb_filter=nb_filter, kernel_size=kernel_size, padding='same')\n",
    "    if with_conv_shortcut:\n",
    "        shortcut = Conv2d_BN(inpt, nb_filter=nb_filter, strides=strides, kernel_size=kernel_size)\n",
    "        x = add([x, shortcut])\n",
    "        return x\n",
    "    else:\n",
    "        x = add([x, inpt])\n",
    "        return x\n",
    "\n",
    "def bottleneck_Block(inpt,nb_filters,strides=(1,1),with_conv_shortcut=False):\n",
    "    k1,k2,k3=nb_filters\n",
    "    x = Conv2d_BN(inpt, nb_filter=k1, kernel_size=1, strides=strides, padding='same')\n",
    "    x = Conv2d_BN(x, nb_filter=k2, kernel_size=3, padding='same')\n",
    "    x = Dropout(0.2)(x)\n",
    "    x = Conv2d_BN(x, nb_filter=k3, kernel_size=1, padding='same')\n",
    "    if with_conv_shortcut:\n",
    "        shortcut = Conv2d_BN(inpt, nb_filter=k3, strides=strides, kernel_size=1)\n",
    "        x = add([x, shortcut])\n",
    "        return x\n",
    "    else:\n",
    "        x = add([x, inpt])\n",
    "        return x\n",
    "\n",
    "def resnet_50(width,height,channel,classes):\n",
    "    inpt = Input(shape=(width, height, channel))\n",
    "    x = ZeroPadding2D((2, 2))(inpt)\n",
    "    x = Conv2d_BN(x, nb_filter=64, kernel_size=(6, 6), strides=(1, 1), padding='valid')\n",
    "    x = MaxPooling2D(pool_size=(2, 2), strides=(2, 2))(x)\n",
    "\n",
    "    #conv2_x\n",
    "    x = bottleneck_Block(x, nb_filters=[64,64,256],strides=(1,1),with_conv_shortcut=True)\n",
    "    x = bottleneck_Block(x, nb_filters=[64,64,256])\n",
    "\n",
    "    #conv3_x\n",
    "    x = bottleneck_Block(x, nb_filters=[128, 128, 512],strides=(2,2),with_conv_shortcut=True)\n",
    "    x = bottleneck_Block(x, nb_filters=[128, 128, 512])\n",
    "\n",
    "    #conv4_x\n",
    "    x = bottleneck_Block(x, nb_filters=[256, 256, 1024],strides=(2,2),with_conv_shortcut=True)\n",
    "    x = bottleneck_Block(x, nb_filters=[256, 256, 1024])\n",
    "\n",
    "    #conv5_x\n",
    "    x = bottleneck_Block(x, nb_filters=[512, 512, 2048], strides=(2, 2), with_conv_shortcut=True)\n",
    "    x = bottleneck_Block(x, nb_filters=[512, 512, 2048])\n",
    "\n",
    "    x = AveragePooling2D(pool_size=(2,2))(x)\n",
    "    x = Flatten()(x)\n",
    "    x = Dense(classes, activation='sigmoid')(x)\n",
    "\n",
    "    model = Model(inputs=inpt, outputs=x)\n",
    "    return model\n",
    "\n"
   ]
  },
  {
   "cell_type": "code",
   "execution_count": null,
   "metadata": {},
   "outputs": [],
   "source": [
    "\n",
    "resModel = resnet_50(69,69,3,37)\n",
    "resModel = multi_gpu_model(resModel, gpus=2)\n",
    "# model.summary()\n",
    "resModel.compile(loss='mean_squared_error', optimizer=Adam(lr=5e-5))"
   ]
  },
  {
   "cell_type": "code",
   "execution_count": 54,
   "metadata": {},
   "outputs": [
    {
     "data": {
      "text/plain": [
       "(59562, 2016)"
      ]
     },
     "execution_count": 54,
     "metadata": {},
     "output_type": "execute_result"
    },
    {
     "data": {
      "text/plain": [
       "(1861, 63)"
      ]
     },
     "execution_count": 54,
     "metadata": {},
     "output_type": "execute_result"
    },
    {
     "data": {
      "text/plain": [
       "(59552, 2016)"
      ]
     },
     "execution_count": 54,
     "metadata": {},
     "output_type": "execute_result"
    }
   ],
   "source": [
    "early_stopping = EarlyStopping(monitor='val_loss', patience=12, verbose=1, mode='auto')\n",
    "checkpointer = ModelCheckpoint(filepath='./tmp/resWeights.hdf5', verbose=1, save_best_only=True)\n",
    "\n",
    "batch_size = 32\n",
    "len(fetcher.training_images_paths),len(fetcher.validation_images_paths)\n",
    "steps_to_take = len(fetcher.training_images_paths)//batch_size\n",
    "val_steps_to_take = len(fetcher.validation_images_paths)//batch_size\n",
    "                #typically be equal to the number of unique samples if your dataset\n",
    "                #divided by the batch size.\n",
    "steps_to_take,val_steps_to_take\n",
    "steps_to_take*batch_size,val_steps_to_take*batch_size\n",
    "history = LossHistory()\n"
   ]
  },
  {
   "cell_type": "code",
   "execution_count": 28,
   "metadata": {},
   "outputs": [
    {
     "data": {
      "text/plain": [
       "18"
      ]
     },
     "execution_count": 28,
     "metadata": {},
     "output_type": "execute_result"
    }
   ],
   "source": [
    "def gcd(a,b):\n",
    "    d,r=a//b,a%b\n",
    "    if r==0:\n",
    "        return b\n",
    "    return gcd(b,r)\n",
    "gcd(59562, 2016)\n"
   ]
  },
  {
   "cell_type": "code",
   "execution_count": 48,
   "metadata": {},
   "outputs": [
    {
     "data": {
      "text/plain": [
       "['/job:localhost/replica:0/task:0/device:GPU:0',\n",
       " '/job:localhost/replica:0/task:0/device:GPU:1']"
      ]
     },
     "execution_count": 48,
     "metadata": {},
     "output_type": "execute_result"
    }
   ],
   "source": [
    "from keras import backend as K\n",
    "K.tensorflow_backend._get_available_gpus()"
   ]
  },
  {
   "cell_type": "code",
   "execution_count": 55,
   "metadata": {},
   "outputs": [],
   "source": []
  },
  {
   "cell_type": "markdown",
   "metadata": {},
   "source": [
    "## Train Model"
   ]
  },
  {
   "cell_type": "code",
   "execution_count": 51,
   "metadata": {},
   "outputs": [],
   "source": [
    "early_stopping = EarlyStopping(monitor='val_loss', patience=12, verbose=1, mode='auto')\n",
    "checkpointer = ModelCheckpoint(filepath='./tmp/MyWeights.hdf5', verbose=1, save_best_only=True)\n",
    "history = LossHistory()"
   ]
  },
  {
   "cell_type": "code",
   "execution_count": 35,
   "metadata": {},
   "outputs": [],
   "source": [
    "input_shape = (69,69,3)\n",
    "batch_size = 32\n",
    "steps_to_take = int(X_train.shape[0]/batch_size)\n",
    "val_step = int(X_val.shape[0]/batch_size)"
   ]
  },
  {
   "cell_type": "code",
   "execution_count": 52,
   "metadata": {},
   "outputs": [
    {
     "name": "stdout",
     "output_type": "stream",
     "text": [
      "Epoch 1/30\n",
      " - 88s - loss: 0.3050 - val_loss: 0.0427\n",
      "\n",
      "Epoch 00001: val_loss improved from inf to 0.04271, saving model to ./tmp/MyWeights.hdf5\n",
      "Epoch 2/30\n",
      " - 85s - loss: 0.0324 - val_loss: 0.0251\n",
      "\n",
      "Epoch 00002: val_loss improved from 0.04271 to 0.02512, saving model to ./tmp/MyWeights.hdf5\n",
      "Epoch 3/30\n",
      " - 86s - loss: 0.0227 - val_loss: 0.0203\n",
      "\n",
      "Epoch 00003: val_loss improved from 0.02512 to 0.02031, saving model to ./tmp/MyWeights.hdf5\n",
      "Epoch 4/30\n",
      " - 86s - loss: 0.0187 - val_loss: 0.0168\n",
      "\n",
      "Epoch 00004: val_loss improved from 0.02031 to 0.01682, saving model to ./tmp/MyWeights.hdf5\n",
      "Epoch 5/30\n",
      " - 87s - loss: 0.0166 - val_loss: 0.0157\n",
      "\n",
      "Epoch 00005: val_loss improved from 0.01682 to 0.01571, saving model to ./tmp/MyWeights.hdf5\n",
      "Epoch 6/30\n",
      " - 86s - loss: 0.0153 - val_loss: 0.0143\n",
      "\n",
      "Epoch 00006: val_loss improved from 0.01571 to 0.01433, saving model to ./tmp/MyWeights.hdf5\n",
      "Epoch 7/30\n",
      " - 86s - loss: 0.0144 - val_loss: 0.0138\n",
      "\n",
      "Epoch 00007: val_loss improved from 0.01433 to 0.01384, saving model to ./tmp/MyWeights.hdf5\n",
      "Epoch 8/30\n",
      " - 86s - loss: 0.0137 - val_loss: 0.0134\n",
      "\n",
      "Epoch 00008: val_loss improved from 0.01384 to 0.01338, saving model to ./tmp/MyWeights.hdf5\n",
      "Epoch 9/30\n",
      " - 86s - loss: 0.0132 - val_loss: 0.0136\n",
      "\n",
      "Epoch 00009: val_loss did not improve from 0.01338\n",
      "Epoch 10/30\n",
      " - 86s - loss: 0.0129 - val_loss: 0.0132\n",
      "\n",
      "Epoch 00010: val_loss improved from 0.01338 to 0.01317, saving model to ./tmp/MyWeights.hdf5\n",
      "Epoch 11/30\n",
      " - 86s - loss: 0.0126 - val_loss: 0.0123\n",
      "\n",
      "Epoch 00011: val_loss improved from 0.01317 to 0.01231, saving model to ./tmp/MyWeights.hdf5\n",
      "Epoch 12/30\n",
      " - 86s - loss: 0.0123 - val_loss: 0.0119\n",
      "\n",
      "Epoch 00012: val_loss improved from 0.01231 to 0.01186, saving model to ./tmp/MyWeights.hdf5\n",
      "Epoch 13/30\n",
      " - 86s - loss: 0.0122 - val_loss: 0.0118\n",
      "\n",
      "Epoch 00013: val_loss improved from 0.01186 to 0.01179, saving model to ./tmp/MyWeights.hdf5\n",
      "Epoch 14/30\n",
      " - 86s - loss: 0.0120 - val_loss: 0.0115\n",
      "\n",
      "Epoch 00014: val_loss improved from 0.01179 to 0.01153, saving model to ./tmp/MyWeights.hdf5\n",
      "Epoch 15/30\n",
      " - 86s - loss: 0.0118 - val_loss: 0.0116\n",
      "\n",
      "Epoch 00015: val_loss did not improve from 0.01153\n",
      "Epoch 16/30\n",
      " - 86s - loss: 0.0117 - val_loss: 0.0115\n",
      "\n",
      "Epoch 00016: val_loss improved from 0.01153 to 0.01148, saving model to ./tmp/MyWeights.hdf5\n",
      "Epoch 17/30\n",
      " - 86s - loss: 0.0116 - val_loss: 0.0111\n",
      "\n",
      "Epoch 00017: val_loss improved from 0.01148 to 0.01114, saving model to ./tmp/MyWeights.hdf5\n",
      "Epoch 18/30\n",
      " - 86s - loss: 0.0114 - val_loss: 0.0112\n",
      "\n",
      "Epoch 00018: val_loss did not improve from 0.01114\n",
      "Epoch 19/30\n",
      " - 86s - loss: 0.0114 - val_loss: 0.0111\n",
      "\n",
      "Epoch 00019: val_loss improved from 0.01114 to 0.01109, saving model to ./tmp/MyWeights.hdf5\n",
      "Epoch 20/30\n",
      " - 85s - loss: 0.0113 - val_loss: 0.0108\n",
      "\n",
      "Epoch 00020: val_loss improved from 0.01109 to 0.01079, saving model to ./tmp/MyWeights.hdf5\n",
      "Epoch 21/30\n",
      " - 86s - loss: 0.0112 - val_loss: 0.0107\n",
      "\n",
      "Epoch 00021: val_loss improved from 0.01079 to 0.01070, saving model to ./tmp/MyWeights.hdf5\n",
      "Epoch 22/30\n",
      " - 85s - loss: 0.0111 - val_loss: 0.0111\n",
      "\n",
      "Epoch 00022: val_loss did not improve from 0.01070\n",
      "Epoch 23/30\n",
      " - 86s - loss: 0.0111 - val_loss: 0.0112\n",
      "\n",
      "Epoch 00023: val_loss did not improve from 0.01070\n",
      "Epoch 24/30\n",
      " - 85s - loss: 0.0110 - val_loss: 0.0110\n",
      "\n",
      "Epoch 00024: val_loss did not improve from 0.01070\n",
      "Epoch 25/30\n",
      " - 85s - loss: 0.0110 - val_loss: 0.0109\n",
      "\n",
      "Epoch 00025: val_loss did not improve from 0.01070\n",
      "Epoch 26/30\n",
      " - 85s - loss: 0.0109 - val_loss: 0.0105\n",
      "\n",
      "Epoch 00026: val_loss improved from 0.01070 to 0.01048, saving model to ./tmp/MyWeights.hdf5\n",
      "Epoch 27/30\n",
      " - 86s - loss: 0.0108 - val_loss: 0.0107\n",
      "\n",
      "Epoch 00027: val_loss did not improve from 0.01048\n",
      "Epoch 28/30\n",
      " - 85s - loss: 0.0108 - val_loss: 0.0106\n",
      "\n",
      "Epoch 00028: val_loss did not improve from 0.01048\n",
      "Epoch 29/30\n",
      " - 85s - loss: 0.0107 - val_loss: 0.0110\n",
      "\n",
      "Epoch 00029: val_loss did not improve from 0.01048\n",
      "Epoch 30/30\n",
      " - 85s - loss: 0.0107 - val_loss: 0.0110\n",
      "\n",
      "Epoch 00030: val_loss did not improve from 0.01048\n"
     ]
    }
   ],
   "source": [
    "myHist = myModel.fit_generator(datagen.flow(X_train, y_train, batch_size=batch_size),\n",
    "                        steps_per_epoch=steps_to_take,\n",
    "                        validation_data=(X_val, y_val),\n",
    "                        epochs=30, verbose=2, max_q_size=100,\n",
    "                        callbacks=[history,checkpointer,early_stopping])"
   ]
  },
  {
   "cell_type": "code",
   "execution_count": 53,
   "metadata": {},
   "outputs": [
    {
     "data": {
      "text/plain": [
       "[<matplotlib.lines.Line2D at 0x2b8e33496400>]"
      ]
     },
     "execution_count": 53,
     "metadata": {},
     "output_type": "execute_result"
    },
    {
     "data": {
      "text/plain": [
       "[<matplotlib.lines.Line2D at 0x2b8e1f8a6ef0>]"
      ]
     },
     "execution_count": 53,
     "metadata": {},
     "output_type": "execute_result"
    },
    {
     "data": {
      "image/png": "[encoded data removed]",
      "text/plain": [
       "<Figure size 432x288 with 1 Axes>"
      ]
     },
     "metadata": {
      "needs_background": "light"
     },
     "output_type": "display_data"
    }
   ],
   "source": [
    "plt.plot(myHist.epoch,myHist.history['loss'],label='Test')\n",
    "plt.plot(myHist.epoch,myHist.history['val_loss'],label='Validation',linestyle='--')"
   ]
  },
  {
   "cell_type": "code",
   "execution_count": 54,
   "metadata": {},
   "outputs": [
    {
     "name": "stdout",
     "output_type": "stream",
     "text": [
      "Epoch 1/20\n",
      " - 87s - loss: 0.0107 - val_loss: 0.0109\n",
      "\n",
      "Epoch 00001: val_loss did not improve from 0.01048\n",
      "Epoch 2/20\n",
      " - 86s - loss: 0.0106 - val_loss: 0.0105\n",
      "\n",
      "Epoch 00002: val_loss improved from 0.01048 to 0.01047, saving model to ./tmp/MyWeights.hdf5\n",
      "Epoch 3/20\n",
      " - 86s - loss: 0.0106 - val_loss: 0.0104\n",
      "\n",
      "Epoch 00003: val_loss improved from 0.01047 to 0.01036, saving model to ./tmp/MyWeights.hdf5\n",
      "Epoch 4/20\n",
      " - 86s - loss: 0.0106 - val_loss: 0.0103\n",
      "\n",
      "Epoch 00004: val_loss improved from 0.01036 to 0.01032, saving model to ./tmp/MyWeights.hdf5\n",
      "Epoch 5/20\n",
      " - 86s - loss: 0.0105 - val_loss: 0.0106\n",
      "\n",
      "Epoch 00005: val_loss did not improve from 0.01032\n",
      "Epoch 6/20\n",
      " - 86s - loss: 0.0105 - val_loss: 0.0107\n",
      "\n",
      "Epoch 00006: val_loss did not improve from 0.01032\n",
      "Epoch 7/20\n",
      " - 86s - loss: 0.0104 - val_loss: 0.0107\n",
      "\n",
      "Epoch 00007: val_loss did not improve from 0.01032\n",
      "Epoch 8/20\n",
      " - 86s - loss: 0.0104 - val_loss: 0.0108\n",
      "\n",
      "Epoch 00008: val_loss did not improve from 0.01032\n",
      "Epoch 9/20\n",
      " - 86s - loss: 0.0104 - val_loss: 0.0101\n",
      "\n",
      "Epoch 00009: val_loss improved from 0.01032 to 0.01012, saving model to ./tmp/MyWeights.hdf5\n",
      "Epoch 10/20\n",
      " - 86s - loss: 0.0104 - val_loss: 0.0104\n",
      "\n",
      "Epoch 00010: val_loss did not improve from 0.01012\n",
      "Epoch 11/20\n",
      " - 86s - loss: 0.0103 - val_loss: 0.0106\n",
      "\n",
      "Epoch 00011: val_loss did not improve from 0.01012\n",
      "Epoch 12/20\n",
      " - 86s - loss: 0.0103 - val_loss: 0.0102\n",
      "\n",
      "Epoch 00012: val_loss did not improve from 0.01012\n",
      "Epoch 13/20\n",
      " - 86s - loss: 0.0103 - val_loss: 0.0103\n",
      "\n",
      "Epoch 00013: val_loss did not improve from 0.01012\n",
      "Epoch 14/20\n",
      " - 87s - loss: 0.0103 - val_loss: 0.0100\n",
      "\n",
      "Epoch 00014: val_loss improved from 0.01012 to 0.00998, saving model to ./tmp/MyWeights.hdf5\n",
      "Epoch 15/20\n",
      " - 86s - loss: 0.0102 - val_loss: 0.0105\n",
      "\n",
      "Epoch 00015: val_loss did not improve from 0.00998\n",
      "Epoch 16/20\n",
      " - 86s - loss: 0.0102 - val_loss: 0.0109\n",
      "\n",
      "Epoch 00016: val_loss did not improve from 0.00998\n",
      "Epoch 17/20\n",
      " - 86s - loss: 0.0102 - val_loss: 0.0099\n",
      "\n",
      "Epoch 00017: val_loss improved from 0.00998 to 0.00987, saving model to ./tmp/MyWeights.hdf5\n",
      "Epoch 18/20\n",
      " - 86s - loss: 0.0102 - val_loss: 0.0102\n",
      "\n",
      "Epoch 00018: val_loss did not improve from 0.00987\n",
      "Epoch 19/20\n",
      " - 86s - loss: 0.0101 - val_loss: 0.0108\n",
      "\n",
      "Epoch 00019: val_loss did not improve from 0.00987\n",
      "Epoch 20/20\n",
      " - 86s - loss: 0.0101 - val_loss: 0.0102\n",
      "\n",
      "Epoch 00020: val_loss did not improve from 0.00987\n"
     ]
    }
   ],
   "source": [
    "myHist = myModel.fit_generator(datagen.flow(X_train, y_train, batch_size=batch_size),\n",
    "                        steps_per_epoch=steps_to_take,\n",
    "                        validation_data=(X_val, y_val),\n",
    "                        epochs=20, verbose=2, max_q_size=100,\n",
    "                        callbacks=[history,checkpointer,early_stopping])"
   ]
  },
  {
   "cell_type": "code",
   "execution_count": 56,
   "metadata": {},
   "outputs": [
    {
     "data": {
      "text/plain": [
       "[<matplotlib.lines.Line2D at 0x2b8dda1572b0>]"
      ]
     },
     "execution_count": 56,
     "metadata": {},
     "output_type": "execute_result"
    },
    {
     "data": {
      "text/plain": [
       "[<matplotlib.lines.Line2D at 0x2b8e334597b8>]"
      ]
     },
     "execution_count": 56,
     "metadata": {},
     "output_type": "execute_result"
    },
    {
     "data": {
      "image/png": "[encoded data removed]",
      "text/plain": [
       "<Figure size 432x288 with 1 Axes>"
      ]
     },
     "metadata": {
      "needs_background": "light"
     },
     "output_type": "display_data"
    }
   ],
   "source": [
    "plt.plot(myHist.epoch,myHist.history['loss'],label='Test')\n",
    "plt.plot(myHist.epoch,myHist.history['val_loss'],label='Validation',linestyle='--')"
   ]
  },
  {
   "cell_type": "code",
   "execution_count": 57,
   "metadata": {},
   "outputs": [
    {
     "name": "stdout",
     "output_type": "stream",
     "text": [
      "Epoch 1/20\n",
      " - 87s - loss: 0.0101 - val_loss: 0.0101\n",
      "\n",
      "Epoch 00001: val_loss did not improve from 0.00987\n",
      "Epoch 2/20\n",
      " - 86s - loss: 0.0100 - val_loss: 0.0101\n",
      "\n",
      "Epoch 00002: val_loss did not improve from 0.00987\n",
      "Epoch 3/20\n",
      " - 86s - loss: 0.0100 - val_loss: 0.0104\n",
      "\n",
      "Epoch 00003: val_loss did not improve from 0.00987\n",
      "Epoch 4/20\n",
      " - 86s - loss: 0.0100 - val_loss: 0.0099\n",
      "\n",
      "Epoch 00004: val_loss did not improve from 0.00987\n",
      "Epoch 5/20\n",
      " - 86s - loss: 0.0100 - val_loss: 0.0100\n",
      "\n",
      "Epoch 00005: val_loss did not improve from 0.00987\n",
      "Epoch 6/20\n",
      " - 86s - loss: 0.0100 - val_loss: 0.0101\n",
      "\n",
      "Epoch 00006: val_loss did not improve from 0.00987\n",
      "Epoch 7/20\n",
      " - 86s - loss: 0.0100 - val_loss: 0.0100\n",
      "\n",
      "Epoch 00007: val_loss did not improve from 0.00987\n",
      "Epoch 8/20\n",
      " - 86s - loss: 0.0099 - val_loss: 0.0099\n",
      "\n",
      "Epoch 00008: val_loss did not improve from 0.00987\n",
      "Epoch 9/20\n",
      " - 87s - loss: 0.0099 - val_loss: 0.0103\n",
      "\n",
      "Epoch 00009: val_loss did not improve from 0.00987\n",
      "Epoch 10/20\n",
      " - 86s - loss: 0.0099 - val_loss: 0.0100\n",
      "\n",
      "Epoch 00010: val_loss did not improve from 0.00987\n",
      "Epoch 11/20\n",
      " - 86s - loss: 0.0099 - val_loss: 0.0100\n",
      "\n",
      "Epoch 00011: val_loss did not improve from 0.00987\n",
      "Epoch 12/20\n",
      " - 86s - loss: 0.0099 - val_loss: 0.0101\n",
      "\n",
      "Epoch 00012: val_loss did not improve from 0.00987\n",
      "Epoch 13/20\n",
      " - 86s - loss: 0.0099 - val_loss: 0.0105\n",
      "\n",
      "Epoch 00013: val_loss did not improve from 0.00987\n",
      "Epoch 14/20\n",
      " - 86s - loss: 0.0098 - val_loss: 0.0099\n",
      "\n",
      "Epoch 00014: val_loss did not improve from 0.00987\n",
      "Epoch 15/20\n",
      " - 86s - loss: 0.0098 - val_loss: 0.0098\n",
      "\n",
      "Epoch 00015: val_loss improved from 0.00987 to 0.00977, saving model to ./tmp/MyWeights.hdf5\n",
      "Epoch 16/20\n",
      " - 86s - loss: 0.0098 - val_loss: 0.0102\n",
      "\n",
      "Epoch 00016: val_loss did not improve from 0.00977\n",
      "Epoch 17/20\n",
      " - 86s - loss: 0.0098 - val_loss: 0.0099\n",
      "\n",
      "Epoch 00017: val_loss did not improve from 0.00977\n",
      "Epoch 18/20\n",
      " - 86s - loss: 0.0098 - val_loss: 0.0099\n",
      "\n",
      "Epoch 00018: val_loss did not improve from 0.00977\n",
      "Epoch 19/20\n",
      " - 86s - loss: 0.0097 - val_loss: 0.0100\n",
      "\n",
      "Epoch 00019: val_loss did not improve from 0.00977\n",
      "Epoch 20/20\n",
      " - 86s - loss: 0.0097 - val_loss: 0.0096\n",
      "\n",
      "Epoch 00020: val_loss improved from 0.00977 to 0.00956, saving model to ./tmp/MyWeights.hdf5\n"
     ]
    }
   ],
   "source": [
    "myHist = myModel.fit_generator(datagen.flow(X_train, y_train, batch_size=batch_size),\n",
    "                        steps_per_epoch=steps_to_take,\n",
    "                        validation_data=(X_val, y_val),\n",
    "                        epochs=20, verbose=2, max_q_size=100,\n",
    "                        callbacks=[history,checkpointer,early_stopping])"
   ]
  },
  {
   "cell_type": "code",
   "execution_count": 58,
   "metadata": {},
   "outputs": [
    {
     "data": {
      "text/plain": [
       "[<matplotlib.lines.Line2D at 0x2b8e334599e8>]"
      ]
     },
     "execution_count": 58,
     "metadata": {},
     "output_type": "execute_result"
    },
    {
     "data": {
      "text/plain": [
       "[<matplotlib.lines.Line2D at 0x2b8e33434908>]"
      ]
     },
     "execution_count": 58,
     "metadata": {},
     "output_type": "execute_result"
    },
    {
     "data": {
      "image/png": "[encoded data removed]",
      "text/plain": [
       "<Figure size 432x288 with 1 Axes>"
      ]
     },
     "metadata": {
      "needs_background": "light"
     },
     "output_type": "display_data"
    }
   ],
   "source": [
    "plt.plot(myHist.epoch,myHist.history['loss'],label='Test')\n",
    "plt.plot(myHist.epoch,myHist.history['val_loss'],label='Validation',linestyle='--')"
   ]
  },
  {
   "cell_type": "code",
   "execution_count": 59,
   "metadata": {},
   "outputs": [
    {
     "name": "stdout",
     "output_type": "stream",
     "text": [
      "Epoch 1/20\n",
      " - 87s - loss: 0.0097 - val_loss: 0.0099\n",
      "\n",
      "Epoch 00001: val_loss did not improve from 0.00956\n",
      "Epoch 2/20\n",
      " - 86s - loss: 0.0097 - val_loss: 0.0097\n",
      "\n",
      "Epoch 00002: val_loss did not improve from 0.00956\n",
      "Epoch 3/20\n",
      " - 86s - loss: 0.0097 - val_loss: 0.0101\n",
      "\n",
      "Epoch 00003: val_loss did not improve from 0.00956\n",
      "Epoch 4/20\n",
      " - 86s - loss: 0.0097 - val_loss: 0.0097\n",
      "\n",
      "Epoch 00004: val_loss did not improve from 0.00956\n",
      "Epoch 5/20\n",
      " - 86s - loss: 0.0097 - val_loss: 0.0102\n",
      "\n",
      "Epoch 00005: val_loss did not improve from 0.00956\n",
      "Epoch 6/20\n",
      " - 86s - loss: 0.0096 - val_loss: 0.0100\n",
      "\n",
      "Epoch 00006: val_loss did not improve from 0.00956\n",
      "Epoch 7/20\n",
      " - 86s - loss: 0.0096 - val_loss: 0.0100\n",
      "\n",
      "Epoch 00007: val_loss did not improve from 0.00956\n",
      "Epoch 8/20\n",
      " - 86s - loss: 0.0096 - val_loss: 0.0097\n",
      "\n",
      "Epoch 00008: val_loss did not improve from 0.00956\n",
      "Epoch 9/20\n",
      " - 87s - loss: 0.0097 - val_loss: 0.0099\n",
      "\n",
      "Epoch 00009: val_loss did not improve from 0.00956\n",
      "Epoch 10/20\n",
      " - 86s - loss: 0.0096 - val_loss: 0.0099\n",
      "\n",
      "Epoch 00010: val_loss did not improve from 0.00956\n",
      "Epoch 11/20\n",
      " - 86s - loss: 0.0096 - val_loss: 0.0097\n",
      "\n",
      "Epoch 00011: val_loss did not improve from 0.00956\n",
      "Epoch 12/20\n",
      " - 86s - loss: 0.0096 - val_loss: 0.0099\n",
      "\n",
      "Epoch 00012: val_loss did not improve from 0.00956\n",
      "Epoch 13/20\n",
      " - 86s - loss: 0.0096 - val_loss: 0.0102\n",
      "\n",
      "Epoch 00013: val_loss did not improve from 0.00956\n",
      "Epoch 14/20\n",
      " - 86s - loss: 0.0095 - val_loss: 0.0099\n",
      "\n",
      "Epoch 00014: val_loss did not improve from 0.00956\n",
      "Epoch 15/20\n",
      " - 86s - loss: 0.0096 - val_loss: 0.0094\n",
      "\n",
      "Epoch 00015: val_loss improved from 0.00956 to 0.00942, saving model to ./tmp/MyWeights.hdf5\n",
      "Epoch 16/20\n",
      " - 86s - loss: 0.0095 - val_loss: 0.0095\n",
      "\n",
      "Epoch 00016: val_loss did not improve from 0.00942\n",
      "Epoch 17/20\n",
      " - 86s - loss: 0.0095 - val_loss: 0.0097\n",
      "\n",
      "Epoch 00017: val_loss did not improve from 0.00942\n",
      "Epoch 18/20\n",
      " - 86s - loss: 0.0095 - val_loss: 0.0098\n",
      "\n",
      "Epoch 00018: val_loss did not improve from 0.00942\n",
      "Epoch 19/20\n",
      " - 86s - loss: 0.0095 - val_loss: 0.0097\n",
      "\n",
      "Epoch 00019: val_loss did not improve from 0.00942\n",
      "Epoch 20/20\n",
      " - 86s - loss: 0.0095 - val_loss: 0.0094\n",
      "\n",
      "Epoch 00020: val_loss did not improve from 0.00942\n"
     ]
    }
   ],
   "source": [
    "myHist = myModel.fit_generator(datagen.flow(X_train, y_train, batch_size=batch_size),\n",
    "                        steps_per_epoch=steps_to_take,\n",
    "                        validation_data=(X_val, y_val),\n",
    "                        epochs=20, verbose=2, max_q_size=100,\n",
    "                        callbacks=[history,checkpointer,early_stopping])"
   ]
  },
  {
   "cell_type": "code",
   "execution_count": 60,
   "metadata": {},
   "outputs": [
    {
     "data": {
      "text/plain": [
       "[<matplotlib.lines.Line2D at 0x2b8e333d9e10>]"
      ]
     },
     "execution_count": 60,
     "metadata": {},
     "output_type": "execute_result"
    },
    {
     "data": {
      "text/plain": [
       "[<matplotlib.lines.Line2D at 0x2b8e3347b160>]"
      ]
     },
     "execution_count": 60,
     "metadata": {},
     "output_type": "execute_result"
    },
    {
     "data": {
      "image/png": "[encoded data removed]",
      "text/plain": [
       "<Figure size 432x288 with 1 Axes>"
      ]
     },
     "metadata": {
      "needs_background": "light"
     },
     "output_type": "display_data"
    }
   ],
   "source": [
    "plt.plot(myHist.epoch,myHist.history['loss'],label='Test')\n",
    "plt.plot(myHist.epoch,myHist.history['val_loss'],label='Validation',linestyle='--')"
   ]
  },
  {
   "cell_type": "code",
   "execution_count": 61,
   "metadata": {},
   "outputs": [
    {
     "name": "stdout",
     "output_type": "stream",
     "text": [
      "Epoch 1/20\n",
      " - 87s - loss: 0.0095 - val_loss: 0.0096\n",
      "\n",
      "Epoch 00001: val_loss did not improve from 0.00942\n",
      "Epoch 2/20\n",
      " - 86s - loss: 0.0095 - val_loss: 0.0098\n",
      "\n",
      "Epoch 00002: val_loss did not improve from 0.00942\n",
      "Epoch 3/20\n",
      " - 86s - loss: 0.0095 - val_loss: 0.0097\n",
      "\n",
      "Epoch 00003: val_loss did not improve from 0.00942\n",
      "Epoch 4/20\n",
      " - 86s - loss: 0.0094 - val_loss: 0.0099\n",
      "\n",
      "Epoch 00004: val_loss did not improve from 0.00942\n",
      "Epoch 5/20\n",
      " - 86s - loss: 0.0095 - val_loss: 0.0095\n",
      "\n",
      "Epoch 00005: val_loss did not improve from 0.00942\n",
      "Epoch 6/20\n",
      " - 86s - loss: 0.0094 - val_loss: 0.0094\n",
      "\n",
      "Epoch 00006: val_loss improved from 0.00942 to 0.00936, saving model to ./tmp/MyWeights.hdf5\n",
      "Epoch 7/20\n",
      " - 86s - loss: 0.0094 - val_loss: 0.0094\n",
      "\n",
      "Epoch 00007: val_loss did not improve from 0.00936\n",
      "Epoch 8/20\n",
      " - 86s - loss: 0.0094 - val_loss: 0.0094\n",
      "\n",
      "Epoch 00008: val_loss did not improve from 0.00936\n",
      "Epoch 9/20\n",
      " - 86s - loss: 0.0094 - val_loss: 0.0096\n",
      "\n",
      "Epoch 00009: val_loss did not improve from 0.00936\n",
      "Epoch 10/20\n",
      " - 86s - loss: 0.0094 - val_loss: 0.0096\n",
      "\n",
      "Epoch 00010: val_loss did not improve from 0.00936\n",
      "Epoch 11/20\n",
      " - 86s - loss: 0.0094 - val_loss: 0.0099\n",
      "\n",
      "Epoch 00011: val_loss did not improve from 0.00936\n",
      "Epoch 12/20\n",
      " - 86s - loss: 0.0094 - val_loss: 0.0096\n",
      "\n",
      "Epoch 00012: val_loss did not improve from 0.00936\n",
      "Epoch 13/20\n",
      " - 86s - loss: 0.0094 - val_loss: 0.0098\n",
      "\n",
      "Epoch 00013: val_loss did not improve from 0.00936\n",
      "Epoch 14/20\n",
      " - 86s - loss: 0.0093 - val_loss: 0.0094\n",
      "\n",
      "Epoch 00014: val_loss improved from 0.00936 to 0.00935, saving model to ./tmp/MyWeights.hdf5\n",
      "Epoch 15/20\n",
      " - 86s - loss: 0.0093 - val_loss: 0.0098\n",
      "\n",
      "Epoch 00015: val_loss did not improve from 0.00935\n",
      "Epoch 16/20\n",
      " - 85s - loss: 0.0093 - val_loss: 0.0092\n",
      "\n",
      "Epoch 00016: val_loss improved from 0.00935 to 0.00922, saving model to ./tmp/MyWeights.hdf5\n",
      "Epoch 17/20\n",
      " - 85s - loss: 0.0093 - val_loss: 0.0095\n",
      "\n",
      "Epoch 00017: val_loss did not improve from 0.00922\n",
      "Epoch 18/20\n",
      " - 85s - loss: 0.0093 - val_loss: 0.0093\n",
      "\n",
      "Epoch 00018: val_loss did not improve from 0.00922\n",
      "Epoch 19/20\n",
      " - 85s - loss: 0.0093 - val_loss: 0.0095\n",
      "\n",
      "Epoch 00019: val_loss did not improve from 0.00922\n",
      "Epoch 20/20\n",
      " - 85s - loss: 0.0093 - val_loss: 0.0093\n",
      "\n",
      "Epoch 00020: val_loss did not improve from 0.00922\n"
     ]
    }
   ],
   "source": [
    "myHist = myModel.fit_generator(datagen.flow(X_train, y_train, batch_size=batch_size),\n",
    "                        steps_per_epoch=steps_to_take,\n",
    "                        validation_data=(X_val, y_val),\n",
    "                        epochs=20, verbose=2, max_q_size=100,\n",
    "                        callbacks=[history,checkpointer,early_stopping])"
   ]
  },
  {
   "cell_type": "code",
   "execution_count": 62,
   "metadata": {},
   "outputs": [
    {
     "data": {
      "text/plain": [
       "[<matplotlib.lines.Line2D at 0x2b8e33525e80>]"
      ]
     },
     "execution_count": 62,
     "metadata": {},
     "output_type": "execute_result"
    },
    {
     "data": {
      "text/plain": [
       "[<matplotlib.lines.Line2D at 0x2b8e334d2f60>]"
      ]
     },
     "execution_count": 62,
     "metadata": {},
     "output_type": "execute_result"
    },
    {
     "data": {
      "image/png": "[encoded data removed]",
      "text/plain": [
       "<Figure size 432x288 with 1 Axes>"
      ]
     },
     "metadata": {
      "needs_background": "light"
     },
     "output_type": "display_data"
    }
   ],
   "source": [
    "plt.plot(myHist.epoch,myHist.history['loss'],label='Test')\n",
    "plt.plot(myHist.epoch,myHist.history['val_loss'],label='Validation',linestyle='--')"
   ]
  },
  {
   "cell_type": "code",
   "execution_count": 64,
   "metadata": {},
   "outputs": [
    {
     "name": "stdout",
     "output_type": "stream",
     "text": [
      "Epoch 1/20\n",
      " - 86s - loss: 0.0092 - val_loss: 0.0090\n",
      "\n",
      "Epoch 00001: val_loss improved from 0.00916 to 0.00901, saving model to ./tmp/MyWeights.hdf5\n",
      "Epoch 2/20\n",
      " - 85s - loss: 0.0092 - val_loss: 0.0094\n",
      "\n",
      "Epoch 00002: val_loss did not improve from 0.00901\n",
      "Epoch 3/20\n",
      " - 85s - loss: 0.0092 - val_loss: 0.0094\n",
      "\n",
      "Epoch 00003: val_loss did not improve from 0.00901\n",
      "Epoch 4/20\n",
      " - 85s - loss: 0.0091 - val_loss: 0.0094\n",
      "\n",
      "Epoch 00004: val_loss did not improve from 0.00901\n",
      "Epoch 5/20\n",
      " - 85s - loss: 0.0092 - val_loss: 0.0092\n",
      "\n",
      "Epoch 00005: val_loss did not improve from 0.00901\n",
      "Epoch 6/20\n",
      " - 85s - loss: 0.0092 - val_loss: 0.0094\n",
      "\n",
      "Epoch 00006: val_loss did not improve from 0.00901\n",
      "Epoch 7/20\n",
      " - 85s - loss: 0.0091 - val_loss: 0.0095\n",
      "\n",
      "Epoch 00007: val_loss did not improve from 0.00901\n",
      "Epoch 8/20\n",
      " - 85s - loss: 0.0091 - val_loss: 0.0091\n",
      "\n",
      "Epoch 00008: val_loss did not improve from 0.00901\n",
      "Epoch 9/20\n",
      " - 85s - loss: 0.0092 - val_loss: 0.0092\n",
      "\n",
      "Epoch 00009: val_loss did not improve from 0.00901\n",
      "Epoch 10/20\n",
      " - 85s - loss: 0.0091 - val_loss: 0.0096\n",
      "\n",
      "Epoch 00010: val_loss did not improve from 0.00901\n",
      "Epoch 11/20\n",
      " - 85s - loss: 0.0091 - val_loss: 0.0093\n",
      "\n",
      "Epoch 00011: val_loss did not improve from 0.00901\n",
      "Epoch 12/20\n",
      " - 86s - loss: 0.0091 - val_loss: 0.0089\n",
      "\n",
      "Epoch 00012: val_loss improved from 0.00901 to 0.00892, saving model to ./tmp/MyWeights.hdf5\n",
      "Epoch 13/20\n",
      " - 85s - loss: 0.0091 - val_loss: 0.0091\n",
      "\n",
      "Epoch 00013: val_loss did not improve from 0.00892\n",
      "Epoch 14/20\n",
      " - 85s - loss: 0.0091 - val_loss: 0.0091\n",
      "\n",
      "Epoch 00014: val_loss did not improve from 0.00892\n",
      "Epoch 15/20\n",
      " - 85s - loss: 0.0091 - val_loss: 0.0092\n",
      "\n",
      "Epoch 00015: val_loss did not improve from 0.00892\n",
      "Epoch 16/20\n",
      " - 85s - loss: 0.0091 - val_loss: 0.0092\n",
      "\n",
      "Epoch 00016: val_loss did not improve from 0.00892\n",
      "Epoch 17/20\n",
      " - 85s - loss: 0.0091 - val_loss: 0.0092\n",
      "\n",
      "Epoch 00017: val_loss did not improve from 0.00892\n",
      "Epoch 18/20\n",
      " - 85s - loss: 0.0091 - val_loss: 0.0091\n",
      "\n",
      "Epoch 00018: val_loss did not improve from 0.00892\n",
      "Epoch 19/20\n",
      " - 86s - loss: 0.0091 - val_loss: 0.0095\n",
      "\n",
      "Epoch 00019: val_loss did not improve from 0.00892\n",
      "Epoch 20/20\n",
      " - 85s - loss: 0.0090 - val_loss: 0.0094\n",
      "\n",
      "Epoch 00020: val_loss did not improve from 0.00892\n"
     ]
    }
   ],
   "source": [
    "myHist = myModel.fit_generator(datagen.flow(X_train, y_train, batch_size=batch_size),\n",
    "                        steps_per_epoch=steps_to_take,\n",
    "                        validation_data=(X_val, y_val),\n",
    "                        epochs=20, verbose=2, max_q_size=100,\n",
    "                        callbacks=[history,checkpointer,early_stopping])"
   ]
  },
  {
   "cell_type": "code",
   "execution_count": 65,
   "metadata": {},
   "outputs": [
    {
     "data": {
      "text/plain": [
       "[<matplotlib.lines.Line2D at 0x2b8c1ef3b780>]"
      ]
     },
     "execution_count": 65,
     "metadata": {},
     "output_type": "execute_result"
    },
    {
     "data": {
      "text/plain": [
       "[<matplotlib.lines.Line2D at 0x2b8e334d2278>]"
      ]
     },
     "execution_count": 65,
     "metadata": {},
     "output_type": "execute_result"
    },
    {
     "data": {
      "image/png": "[encoded data removed]",
      "text/plain": [
       "<Figure size 432x288 with 1 Axes>"
      ]
     },
     "metadata": {
      "needs_background": "light"
     },
     "output_type": "display_data"
    }
   ],
   "source": [
    "plt.plot(myHist.epoch,myHist.history['loss'],label='Test')\n",
    "plt.plot(myHist.epoch,myHist.history['val_loss'],label='Validation',linestyle='--')"
   ]
  },
  {
   "cell_type": "code",
   "execution_count": 66,
   "metadata": {},
   "outputs": [
    {
     "name": "stdout",
     "output_type": "stream",
     "text": [
      "Epoch 1/20\n",
      " - 86s - loss: 0.0091 - val_loss: 0.0093\n",
      "\n",
      "Epoch 00001: val_loss did not improve from 0.00892\n",
      "Epoch 2/20\n",
      " - 85s - loss: 0.0090 - val_loss: 0.0092\n",
      "\n",
      "Epoch 00002: val_loss did not improve from 0.00892\n",
      "Epoch 3/20\n",
      " - 85s - loss: 0.0091 - val_loss: 0.0091\n",
      "\n",
      "Epoch 00003: val_loss did not improve from 0.00892\n",
      "Epoch 4/20\n",
      " - 85s - loss: 0.0090 - val_loss: 0.0090\n",
      "\n",
      "Epoch 00004: val_loss did not improve from 0.00892\n",
      "Epoch 5/20\n",
      " - 85s - loss: 0.0090 - val_loss: 0.0091\n",
      "\n",
      "Epoch 00005: val_loss did not improve from 0.00892\n",
      "Epoch 6/20\n",
      " - 85s - loss: 0.0090 - val_loss: 0.0094\n",
      "\n",
      "Epoch 00006: val_loss did not improve from 0.00892\n",
      "Epoch 7/20\n",
      " - 85s - loss: 0.0090 - val_loss: 0.0092\n",
      "\n",
      "Epoch 00007: val_loss did not improve from 0.00892\n",
      "Epoch 8/20\n",
      " - 85s - loss: 0.0090 - val_loss: 0.0090\n",
      "\n",
      "Epoch 00008: val_loss did not improve from 0.00892\n",
      "Epoch 9/20\n",
      " - 85s - loss: 0.0090 - val_loss: 0.0090\n",
      "\n",
      "Epoch 00009: val_loss did not improve from 0.00892\n",
      "Epoch 10/20\n",
      " - 85s - loss: 0.0090 - val_loss: 0.0091\n",
      "\n",
      "Epoch 00010: val_loss did not improve from 0.00892\n",
      "Epoch 11/20\n",
      " - 85s - loss: 0.0090 - val_loss: 0.0089\n",
      "\n",
      "Epoch 00011: val_loss improved from 0.00892 to 0.00889, saving model to ./tmp/MyWeights.hdf5\n",
      "Epoch 12/20\n",
      " - 85s - loss: 0.0090 - val_loss: 0.0093\n",
      "\n",
      "Epoch 00012: val_loss did not improve from 0.00889\n",
      "Epoch 13/20\n",
      " - 85s - loss: 0.0090 - val_loss: 0.0091\n",
      "\n",
      "Epoch 00013: val_loss did not improve from 0.00889\n",
      "Epoch 14/20\n",
      " - 85s - loss: 0.0090 - val_loss: 0.0090\n",
      "\n",
      "Epoch 00014: val_loss did not improve from 0.00889\n",
      "Epoch 15/20\n",
      " - 85s - loss: 0.0090 - val_loss: 0.0092\n",
      "\n",
      "Epoch 00015: val_loss did not improve from 0.00889\n",
      "Epoch 16/20\n",
      " - 85s - loss: 0.0090 - val_loss: 0.0090\n",
      "\n",
      "Epoch 00016: val_loss did not improve from 0.00889\n",
      "Epoch 17/20\n",
      " - 85s - loss: 0.0090 - val_loss: 0.0091\n",
      "\n",
      "Epoch 00017: val_loss did not improve from 0.00889\n",
      "Epoch 18/20\n",
      " - 85s - loss: 0.0090 - val_loss: 0.0090\n",
      "\n",
      "Epoch 00018: val_loss did not improve from 0.00889\n",
      "Epoch 19/20\n",
      " - 85s - loss: 0.0090 - val_loss: 0.0093\n",
      "\n",
      "Epoch 00019: val_loss did not improve from 0.00889\n",
      "Epoch 20/20\n",
      " - 85s - loss: 0.0090 - val_loss: 0.0091\n",
      "\n",
      "Epoch 00020: val_loss did not improve from 0.00889\n"
     ]
    }
   ],
   "source": [
    "myHist = myModel.fit_generator(datagen.flow(X_train, y_train, batch_size=batch_size),\n",
    "                        steps_per_epoch=steps_to_take,\n",
    "                        validation_data=(X_val, y_val),\n",
    "                        epochs=20, verbose=2, max_q_size=100,\n",
    "                        callbacks=[history,checkpointer,early_stopping])"
   ]
  },
  {
   "cell_type": "code",
   "execution_count": 67,
   "metadata": {},
   "outputs": [
    {
     "data": {
      "text/plain": [
       "[<matplotlib.lines.Line2D at 0x2b8e334d2550>]"
      ]
     },
     "execution_count": 67,
     "metadata": {},
     "output_type": "execute_result"
    },
    {
     "data": {
      "text/plain": [
       "[<matplotlib.lines.Line2D at 0x2b8e333aeba8>]"
      ]
     },
     "execution_count": 67,
     "metadata": {},
     "output_type": "execute_result"
    },
    {
     "data": {
      "image/png": "[encoded data removed]",
      "text/plain": [
       "<Figure size 432x288 with 1 Axes>"
      ]
     },
     "metadata": {
      "needs_background": "light"
     },
     "output_type": "display_data"
    }
   ],
   "source": [
    "plt.plot(myHist.epoch,myHist.history['loss'],label='Test')\n",
    "plt.plot(myHist.epoch,myHist.history['val_loss'],label='Validation',linestyle='--')"
   ]
  },
  {
   "cell_type": "code",
   "execution_count": 68,
   "metadata": {},
   "outputs": [
    {
     "name": "stdout",
     "output_type": "stream",
     "text": [
      "Epoch 1/20\n",
      " - 86s - loss: 0.0090 - val_loss: 0.0093\n",
      "\n",
      "Epoch 00001: val_loss did not improve from 0.00889\n",
      "Epoch 2/20\n",
      " - 85s - loss: 0.0090 - val_loss: 0.0091\n",
      "\n",
      "Epoch 00002: val_loss did not improve from 0.00889\n",
      "Epoch 3/20\n",
      " - 85s - loss: 0.0089 - val_loss: 0.0091\n",
      "\n",
      "Epoch 00003: val_loss did not improve from 0.00889\n",
      "Epoch 4/20\n",
      " - 85s - loss: 0.0090 - val_loss: 0.0089\n",
      "\n",
      "Epoch 00004: val_loss did not improve from 0.00889\n",
      "Epoch 5/20\n",
      " - 85s - loss: 0.0089 - val_loss: 0.0094\n",
      "\n",
      "Epoch 00005: val_loss did not improve from 0.00889\n",
      "Epoch 6/20\n",
      " - 85s - loss: 0.0089 - val_loss: 0.0093\n",
      "\n",
      "Epoch 00006: val_loss did not improve from 0.00889\n",
      "Epoch 7/20\n",
      " - 85s - loss: 0.0089 - val_loss: 0.0093\n",
      "\n",
      "Epoch 00007: val_loss did not improve from 0.00889\n",
      "Epoch 8/20\n",
      " - 85s - loss: 0.0089 - val_loss: 0.0090\n",
      "\n",
      "Epoch 00008: val_loss did not improve from 0.00889\n",
      "Epoch 9/20\n",
      " - 85s - loss: 0.0089 - val_loss: 0.0090\n",
      "\n",
      "Epoch 00009: val_loss did not improve from 0.00889\n",
      "Epoch 10/20\n",
      " - 85s - loss: 0.0089 - val_loss: 0.0089\n",
      "\n",
      "Epoch 00010: val_loss did not improve from 0.00889\n",
      "Epoch 11/20\n",
      " - 85s - loss: 0.0089 - val_loss: 0.0090\n",
      "\n",
      "Epoch 00011: val_loss did not improve from 0.00889\n",
      "Epoch 12/20\n",
      " - 85s - loss: 0.0089 - val_loss: 0.0090\n",
      "\n",
      "Epoch 00012: val_loss did not improve from 0.00889\n",
      "Epoch 13/20\n",
      " - 85s - loss: 0.0089 - val_loss: 0.0090\n",
      "\n",
      "Epoch 00013: val_loss did not improve from 0.00889\n",
      "Epoch 14/20\n",
      " - 85s - loss: 0.0089 - val_loss: 0.0088\n",
      "\n",
      "Epoch 00014: val_loss improved from 0.00889 to 0.00883, saving model to ./tmp/MyWeights.hdf5\n",
      "Epoch 15/20\n",
      " - 85s - loss: 0.0089 - val_loss: 0.0090\n",
      "\n",
      "Epoch 00015: val_loss did not improve from 0.00883\n",
      "Epoch 16/20\n",
      " - 85s - loss: 0.0089 - val_loss: 0.0089\n",
      "\n",
      "Epoch 00016: val_loss did not improve from 0.00883\n",
      "Epoch 17/20\n",
      " - 85s - loss: 0.0089 - val_loss: 0.0089\n",
      "\n",
      "Epoch 00017: val_loss did not improve from 0.00883\n",
      "Epoch 18/20\n",
      " - 85s - loss: 0.0089 - val_loss: 0.0089\n",
      "\n",
      "Epoch 00018: val_loss did not improve from 0.00883\n",
      "Epoch 19/20\n",
      " - 85s - loss: 0.0089 - val_loss: 0.0091\n",
      "\n",
      "Epoch 00019: val_loss did not improve from 0.00883\n",
      "Epoch 20/20\n",
      " - 85s - loss: 0.0089 - val_loss: 0.0091\n",
      "\n",
      "Epoch 00020: val_loss did not improve from 0.00883\n"
     ]
    }
   ],
   "source": [
    "myHist = myModel.fit_generator(datagen.flow(X_train, y_train, batch_size=batch_size),\n",
    "                        steps_per_epoch=steps_to_take,\n",
    "                        validation_data=(X_val, y_val),\n",
    "                        epochs=20, verbose=2, max_q_size=100,\n",
    "                        callbacks=[history,checkpointer,early_stopping])"
   ]
  },
  {
   "cell_type": "code",
   "execution_count": 69,
   "metadata": {},
   "outputs": [
    {
     "data": {
      "text/plain": [
       "[<matplotlib.lines.Line2D at 0x2b8e3237b2b0>]"
      ]
     },
     "execution_count": 69,
     "metadata": {},
     "output_type": "execute_result"
    },
    {
     "data": {
      "text/plain": [
       "[<matplotlib.lines.Line2D at 0x2b8e33727ba8>]"
      ]
     },
     "execution_count": 69,
     "metadata": {},
     "output_type": "execute_result"
    },
    {
     "data": {
      "image/png": "[encoded data removed]",
      "text/plain": [
       "<Figure size 432x288 with 1 Axes>"
      ]
     },
     "metadata": {
      "needs_background": "light"
     },
     "output_type": "display_data"
    }
   ],
   "source": [
    "plt.plot(myHist.epoch,myHist.history['loss'],label='Test')\n",
    "plt.plot(myHist.epoch,myHist.history['val_loss'],label='Validation',linestyle='--')"
   ]
  },
  {
   "cell_type": "code",
   "execution_count": 70,
   "metadata": {},
   "outputs": [
    {
     "name": "stdout",
     "output_type": "stream",
     "text": [
      "Epoch 1/20\n",
      " - 86s - loss: 0.0089 - val_loss: 0.0091\n",
      "\n",
      "Epoch 00001: val_loss did not improve from 0.00883\n",
      "Epoch 2/20\n",
      " - 85s - loss: 0.0088 - val_loss: 0.0088\n",
      "\n",
      "Epoch 00002: val_loss did not improve from 0.00883\n",
      "Epoch 3/20\n",
      " - 85s - loss: 0.0089 - val_loss: 0.0090\n",
      "\n",
      "Epoch 00003: val_loss did not improve from 0.00883\n",
      "Epoch 4/20\n",
      " - 85s - loss: 0.0089 - val_loss: 0.0089\n",
      "\n",
      "Epoch 00004: val_loss did not improve from 0.00883\n",
      "Epoch 5/20\n",
      " - 85s - loss: 0.0089 - val_loss: 0.0090\n",
      "\n",
      "Epoch 00005: val_loss did not improve from 0.00883\n",
      "Epoch 6/20\n",
      " - 85s - loss: 0.0088 - val_loss: 0.0091\n",
      "\n",
      "Epoch 00006: val_loss did not improve from 0.00883\n",
      "Epoch 7/20\n",
      " - 85s - loss: 0.0088 - val_loss: 0.0087\n",
      "\n",
      "Epoch 00007: val_loss improved from 0.00883 to 0.00871, saving model to ./tmp/MyWeights.hdf5\n",
      "Epoch 8/20\n",
      " - 85s - loss: 0.0088 - val_loss: 0.0089\n",
      "\n",
      "Epoch 00008: val_loss did not improve from 0.00871\n",
      "Epoch 9/20\n",
      " - 85s - loss: 0.0088 - val_loss: 0.0088\n",
      "\n",
      "Epoch 00009: val_loss did not improve from 0.00871\n",
      "Epoch 10/20\n",
      " - 85s - loss: 0.0089 - val_loss: 0.0088\n",
      "\n",
      "Epoch 00010: val_loss did not improve from 0.00871\n",
      "Epoch 11/20\n",
      " - 85s - loss: 0.0088 - val_loss: 0.0093\n",
      "\n",
      "Epoch 00011: val_loss did not improve from 0.00871\n",
      "Epoch 12/20\n",
      " - 85s - loss: 0.0088 - val_loss: 0.0089\n",
      "\n",
      "Epoch 00012: val_loss did not improve from 0.00871\n",
      "Epoch 13/20\n",
      " - 85s - loss: 0.0088 - val_loss: 0.0088\n",
      "\n",
      "Epoch 00013: val_loss did not improve from 0.00871\n",
      "Epoch 14/20\n",
      " - 85s - loss: 0.0088 - val_loss: 0.0090\n",
      "\n",
      "Epoch 00014: val_loss did not improve from 0.00871\n",
      "Epoch 15/20\n",
      " - 85s - loss: 0.0088 - val_loss: 0.0089\n",
      "\n",
      "Epoch 00015: val_loss did not improve from 0.00871\n",
      "Epoch 16/20\n",
      " - 85s - loss: 0.0088 - val_loss: 0.0090\n",
      "\n",
      "Epoch 00016: val_loss did not improve from 0.00871\n",
      "Epoch 17/20\n",
      " - 85s - loss: 0.0088 - val_loss: 0.0090\n",
      "\n",
      "Epoch 00017: val_loss did not improve from 0.00871\n",
      "Epoch 18/20\n",
      " - 85s - loss: 0.0088 - val_loss: 0.0089\n",
      "\n",
      "Epoch 00018: val_loss did not improve from 0.00871\n",
      "Epoch 19/20\n",
      " - 85s - loss: 0.0088 - val_loss: 0.0089\n",
      "\n",
      "Epoch 00019: val_loss did not improve from 0.00871\n",
      "Epoch 00019: early stopping\n"
     ]
    }
   ],
   "source": [
    "myHist = myModel.fit_generator(datagen.flow(X_train, y_train, batch_size=batch_size),\n",
    "                        steps_per_epoch=steps_to_take,\n",
    "                        validation_data=(X_val, y_val),\n",
    "                        epochs=20, verbose=2, max_q_size=100,\n",
    "                        callbacks=[history,checkpointer,early_stopping])"
   ]
  },
  {
   "cell_type": "code",
   "execution_count": 71,
   "metadata": {},
   "outputs": [
    {
     "data": {
      "text/plain": [
       "[<matplotlib.lines.Line2D at 0x2b8e32378908>]"
      ]
     },
     "execution_count": 71,
     "metadata": {},
     "output_type": "execute_result"
    },
    {
     "data": {
      "text/plain": [
       "[<matplotlib.lines.Line2D at 0x2b8e333eef28>]"
      ]
     },
     "execution_count": 71,
     "metadata": {},
     "output_type": "execute_result"
    },
    {
     "data": {
      "image/png": "[encoded data removed]",
      "text/plain": [
       "<Figure size 432x288 with 1 Axes>"
      ]
     },
     "metadata": {
      "needs_background": "light"
     },
     "output_type": "display_data"
    }
   ],
   "source": [
    "plt.plot(myHist.epoch,myHist.history['loss'],label='Test')\n",
    "plt.plot(myHist.epoch,myHist.history['val_loss'],label='Validation',linestyle='--')"
   ]
  },
  {
   "cell_type": "code",
   "execution_count": 72,
   "metadata": {},
   "outputs": [
    {
     "name": "stdout",
     "output_type": "stream",
     "text": [
      "Epoch 1/20\n",
      " - 86s - loss: 0.0088 - val_loss: 0.0088\n",
      "\n",
      "Epoch 00001: val_loss did not improve from 0.00871\n",
      "Epoch 2/20\n",
      " - 85s - loss: 0.0088 - val_loss: 0.0087\n",
      "\n",
      "Epoch 00002: val_loss did not improve from 0.00871\n",
      "Epoch 3/20\n",
      " - 85s - loss: 0.0088 - val_loss: 0.0093\n",
      "\n",
      "Epoch 00003: val_loss did not improve from 0.00871\n",
      "Epoch 4/20\n",
      " - 85s - loss: 0.0088 - val_loss: 0.0087\n",
      "\n",
      "Epoch 00004: val_loss improved from 0.00871 to 0.00871, saving model to ./tmp/MyWeights.hdf5\n",
      "Epoch 5/20\n",
      " - 85s - loss: 0.0088 - val_loss: 0.0088\n",
      "\n",
      "Epoch 00005: val_loss did not improve from 0.00871\n",
      "Epoch 6/20\n",
      " - 85s - loss: 0.0088 - val_loss: 0.0091\n",
      "\n",
      "Epoch 00006: val_loss did not improve from 0.00871\n",
      "Epoch 7/20\n",
      " - 85s - loss: 0.0088 - val_loss: 0.0087\n",
      "\n",
      "Epoch 00007: val_loss improved from 0.00871 to 0.00871, saving model to ./tmp/MyWeights.hdf5\n",
      "Epoch 8/20\n",
      " - 85s - loss: 0.0088 - val_loss: 0.0095\n",
      "\n",
      "Epoch 00008: val_loss did not improve from 0.00871\n",
      "Epoch 9/20\n",
      " - 85s - loss: 0.0088 - val_loss: 0.0087\n",
      "\n",
      "Epoch 00009: val_loss improved from 0.00871 to 0.00870, saving model to ./tmp/MyWeights.hdf5\n",
      "Epoch 10/20\n",
      " - 85s - loss: 0.0088 - val_loss: 0.0090\n",
      "\n",
      "Epoch 00010: val_loss did not improve from 0.00870\n",
      "Epoch 11/20\n",
      " - 85s - loss: 0.0087 - val_loss: 0.0086\n",
      "\n",
      "Epoch 00011: val_loss improved from 0.00870 to 0.00860, saving model to ./tmp/MyWeights.hdf5\n",
      "Epoch 12/20\n",
      " - 85s - loss: 0.0087 - val_loss: 0.0088\n",
      "\n",
      "Epoch 00012: val_loss did not improve from 0.00860\n",
      "Epoch 13/20\n",
      " - 85s - loss: 0.0087 - val_loss: 0.0087\n",
      "\n",
      "Epoch 00013: val_loss did not improve from 0.00860\n",
      "Epoch 14/20\n",
      " - 85s - loss: 0.0087 - val_loss: 0.0090\n",
      "\n",
      "Epoch 00014: val_loss did not improve from 0.00860\n",
      "Epoch 15/20\n",
      " - 85s - loss: 0.0088 - val_loss: 0.0088\n",
      "\n",
      "Epoch 00015: val_loss did not improve from 0.00860\n",
      "Epoch 16/20\n",
      " - 85s - loss: 0.0088 - val_loss: 0.0088\n",
      "\n",
      "Epoch 00016: val_loss did not improve from 0.00860\n",
      "Epoch 17/20\n",
      " - 85s - loss: 0.0087 - val_loss: 0.0088\n",
      "\n",
      "Epoch 00017: val_loss did not improve from 0.00860\n",
      "Epoch 18/20\n",
      " - 85s - loss: 0.0087 - val_loss: 0.0088\n",
      "\n",
      "Epoch 00018: val_loss did not improve from 0.00860\n",
      "Epoch 19/20\n",
      " - 86s - loss: 0.0087 - val_loss: 0.0087\n",
      "\n",
      "Epoch 00019: val_loss did not improve from 0.00860\n",
      "Epoch 20/20\n",
      " - 87s - loss: 0.0087 - val_loss: 0.0088\n",
      "\n",
      "Epoch 00020: val_loss did not improve from 0.00860\n"
     ]
    }
   ],
   "source": [
    "myHist = myModel.fit_generator(datagen.flow(X_train, y_train, batch_size=batch_size),\n",
    "                        steps_per_epoch=steps_to_take,\n",
    "                        validation_data=(X_val, y_val),\n",
    "                        epochs=20, verbose=2, max_q_size=100,\n",
    "                        callbacks=[history,checkpointer,early_stopping])"
   ]
  },
  {
   "cell_type": "code",
   "execution_count": 73,
   "metadata": {},
   "outputs": [
    {
     "data": {
      "text/plain": [
       "[<matplotlib.lines.Line2D at 0x2b8e32311d68>]"
      ]
     },
     "execution_count": 73,
     "metadata": {},
     "output_type": "execute_result"
    },
    {
     "data": {
      "text/plain": [
       "[<matplotlib.lines.Line2D at 0x2b8e3365f940>]"
      ]
     },
     "execution_count": 73,
     "metadata": {},
     "output_type": "execute_result"
    },
    {
     "data": {
      "image/png": "[encoded data removed]",
      "text/plain": [
       "<Figure size 432x288 with 1 Axes>"
      ]
     },
     "metadata": {
      "needs_background": "light"
     },
     "output_type": "display_data"
    }
   ],
   "source": [
    "plt.plot(myHist.epoch,myHist.history['loss'],label='Test')\n",
    "plt.plot(myHist.epoch,myHist.history['val_loss'],label='Validation',linestyle='--')"
   ]
  },
  {
   "cell_type": "code",
   "execution_count": 78,
   "metadata": {},
   "outputs": [
    {
     "name": "stdout",
     "output_type": "stream",
     "text": [
      "Epoch 1/20\n",
      " - 86s - loss: 0.0086 - val_loss: 0.0092\n",
      "\n",
      "Epoch 00001: val_loss did not improve from 0.00854\n",
      "Epoch 2/20\n",
      " - 85s - loss: 0.0086 - val_loss: 0.0087\n",
      "\n",
      "Epoch 00002: val_loss did not improve from 0.00854\n",
      "Epoch 3/20\n",
      " - 85s - loss: 0.0086 - val_loss: 0.0090\n",
      "\n",
      "Epoch 00003: val_loss did not improve from 0.00854\n",
      "Epoch 4/20\n",
      " - 86s - loss: 0.0086 - val_loss: 0.0087\n",
      "\n",
      "Epoch 00004: val_loss did not improve from 0.00854\n",
      "Epoch 5/20\n",
      " - 85s - loss: 0.0086 - val_loss: 0.0086\n",
      "\n",
      "Epoch 00005: val_loss did not improve from 0.00854\n",
      "Epoch 6/20\n",
      " - 85s - loss: 0.0086 - val_loss: 0.0086\n",
      "\n",
      "Epoch 00006: val_loss did not improve from 0.00854\n",
      "Epoch 7/20\n",
      " - 86s - loss: 0.0086 - val_loss: 0.0086\n",
      "\n",
      "Epoch 00007: val_loss did not improve from 0.00854\n",
      "Epoch 8/20\n",
      " - 85s - loss: 0.0086 - val_loss: 0.0087\n",
      "\n",
      "Epoch 00008: val_loss did not improve from 0.00854\n",
      "Epoch 9/20\n",
      " - 85s - loss: 0.0086 - val_loss: 0.0087\n",
      "\n",
      "Epoch 00009: val_loss did not improve from 0.00854\n",
      "Epoch 10/20\n",
      " - 85s - loss: 0.0086 - val_loss: 0.0085\n",
      "\n",
      "Epoch 00010: val_loss improved from 0.00854 to 0.00850, saving model to ./tmp/MyWeights.hdf5\n",
      "Epoch 11/20\n",
      " - 85s - loss: 0.0086 - val_loss: 0.0091\n",
      "\n",
      "Epoch 00011: val_loss did not improve from 0.00850\n",
      "Epoch 12/20\n",
      " - 85s - loss: 0.0086 - val_loss: 0.0087\n",
      "\n",
      "Epoch 00012: val_loss did not improve from 0.00850\n",
      "Epoch 13/20\n",
      " - 86s - loss: 0.0086 - val_loss: 0.0086\n",
      "\n",
      "Epoch 00013: val_loss did not improve from 0.00850\n",
      "Epoch 14/20\n",
      " - 86s - loss: 0.0086 - val_loss: 0.0087\n",
      "\n",
      "Epoch 00014: val_loss did not improve from 0.00850\n",
      "Epoch 15/20\n",
      " - 85s - loss: 0.0086 - val_loss: 0.0091\n",
      "\n",
      "Epoch 00015: val_loss did not improve from 0.00850\n",
      "Epoch 16/20\n",
      " - 85s - loss: 0.0086 - val_loss: 0.0091\n",
      "\n",
      "Epoch 00016: val_loss did not improve from 0.00850\n",
      "Epoch 17/20\n",
      " - 86s - loss: 0.0086 - val_loss: 0.0089\n",
      "\n",
      "Epoch 00017: val_loss did not improve from 0.00850\n",
      "Epoch 18/20\n",
      " - 85s - loss: 0.0086 - val_loss: 0.0086\n",
      "\n",
      "Epoch 00018: val_loss did not improve from 0.00850\n",
      "Epoch 19/20\n",
      " - 85s - loss: 0.0086 - val_loss: 0.0085\n",
      "\n",
      "Epoch 00019: val_loss did not improve from 0.00850\n",
      "Epoch 20/20\n",
      " - 86s - loss: 0.0086 - val_loss: 0.0088\n",
      "\n",
      "Epoch 00020: val_loss did not improve from 0.00850\n"
     ]
    }
   ],
   "source": [
    "myHist = myModel.fit_generator(datagen.flow(X_train, y_train, batch_size=batch_size),\n",
    "                        steps_per_epoch=steps_to_take,\n",
    "                        validation_data=(X_val, y_val),\n",
    "                        epochs=20, verbose=2, max_q_size=100,\n",
    "                        callbacks=[history,checkpointer,early_stopping])"
   ]
  },
  {
   "cell_type": "code",
   "execution_count": 79,
   "metadata": {},
   "outputs": [
    {
     "data": {
      "text/plain": [
       "[<matplotlib.lines.Line2D at 0x2b8e33609208>]"
      ]
     },
     "execution_count": 79,
     "metadata": {},
     "output_type": "execute_result"
    },
    {
     "data": {
      "text/plain": [
       "[<matplotlib.lines.Line2D at 0x2b8e33757ef0>]"
      ]
     },
     "execution_count": 79,
     "metadata": {},
     "output_type": "execute_result"
    },
    {
     "data": {
      "image/png": "[encoded data removed]",
      "text/plain": [
       "<Figure size 432x288 with 1 Axes>"
      ]
     },
     "metadata": {
      "needs_background": "light"
     },
     "output_type": "display_data"
    }
   ],
   "source": [
    "plt.plot(myHist.epoch,myHist.history['loss'],label='Test')\n",
    "plt.plot(myHist.epoch,myHist.history['val_loss'],label='Validation',linestyle='--')"
   ]
  },
  {
   "cell_type": "code",
   "execution_count": null,
   "metadata": {},
   "outputs": [],
   "source": []
  },
  {
   "cell_type": "code",
   "execution_count": null,
   "metadata": {},
   "outputs": [],
   "source": []
  },
  {
   "cell_type": "code",
   "execution_count": null,
   "metadata": {},
   "outputs": [],
   "source": []
  },
  {
   "cell_type": "code",
   "execution_count": 39,
   "metadata": {},
   "outputs": [
    {
     "name": "stdout",
     "output_type": "stream",
     "text": [
      "Epoch 1/30\n",
      " - 86s - loss: 0.0112 - val_loss: 0.0101\n",
      "\n",
      "Epoch 00001: val_loss improved from inf to 0.01008, saving model to ./tmp/MyWeights.hdf5\n",
      "Epoch 2/30\n",
      " - 86s - loss: 0.0107 - val_loss: 0.0102\n",
      "\n",
      "Epoch 00002: val_loss did not improve from 0.01008\n",
      "Epoch 3/30\n",
      " - 85s - loss: 0.0104 - val_loss: 0.0099\n",
      "\n",
      "Epoch 00003: val_loss improved from 0.01008 to 0.00985, saving model to ./tmp/MyWeights.hdf5\n",
      "Epoch 4/30\n",
      " - 85s - loss: 0.0103 - val_loss: 0.0098\n",
      "\n",
      "Epoch 00004: val_loss improved from 0.00985 to 0.00979, saving model to ./tmp/MyWeights.hdf5\n",
      "Epoch 5/30\n",
      " - 86s - loss: 0.0102 - val_loss: 0.0098\n",
      "\n",
      "Epoch 00005: val_loss improved from 0.00979 to 0.00978, saving model to ./tmp/MyWeights.hdf5\n",
      "Epoch 6/30\n",
      " - 86s - loss: 0.0101 - val_loss: 0.0099\n",
      "\n",
      "Epoch 00006: val_loss did not improve from 0.00978\n",
      "Epoch 7/30\n",
      " - 85s - loss: 0.0101 - val_loss: 0.0098\n",
      "\n",
      "Epoch 00007: val_loss did not improve from 0.00978\n",
      "Epoch 8/30\n",
      " - 86s - loss: 0.0100 - val_loss: 0.0097\n",
      "\n",
      "Epoch 00008: val_loss improved from 0.00978 to 0.00975, saving model to ./tmp/MyWeights.hdf5\n",
      "Epoch 9/30\n",
      " - 86s - loss: 0.0100 - val_loss: 0.0096\n",
      "\n",
      "Epoch 00009: val_loss improved from 0.00975 to 0.00960, saving model to ./tmp/MyWeights.hdf5\n",
      "Epoch 10/30\n",
      " - 86s - loss: 0.0099 - val_loss: 0.0099\n",
      "\n",
      "Epoch 00010: val_loss did not improve from 0.00960\n",
      "Epoch 11/30\n",
      " - 86s - loss: 0.0098 - val_loss: 0.0099\n",
      "\n",
      "Epoch 00011: val_loss did not improve from 0.00960\n",
      "Epoch 12/30\n",
      " - 86s - loss: 0.0098 - val_loss: 0.0096\n",
      "\n",
      "Epoch 00012: val_loss improved from 0.00960 to 0.00956, saving model to ./tmp/MyWeights.hdf5\n",
      "Epoch 13/30\n",
      " - 85s - loss: 0.0098 - val_loss: 0.0095\n",
      "\n",
      "Epoch 00013: val_loss improved from 0.00956 to 0.00949, saving model to ./tmp/MyWeights.hdf5\n",
      "Epoch 14/30\n",
      " - 85s - loss: 0.0098 - val_loss: 0.0096\n",
      "\n",
      "Epoch 00014: val_loss did not improve from 0.00949\n",
      "Epoch 15/30\n",
      " - 86s - loss: 0.0097 - val_loss: 0.0096\n",
      "\n",
      "Epoch 00015: val_loss did not improve from 0.00949\n",
      "Epoch 16/30\n",
      " - 86s - loss: 0.0097 - val_loss: 0.0096\n",
      "\n",
      "Epoch 00016: val_loss did not improve from 0.00949\n",
      "Epoch 17/30\n",
      " - 85s - loss: 0.0097 - val_loss: 0.0096\n",
      "\n",
      "Epoch 00017: val_loss did not improve from 0.00949\n",
      "Epoch 18/30\n",
      " - 85s - loss: 0.0096 - val_loss: 0.0099\n",
      "\n",
      "Epoch 00018: val_loss did not improve from 0.00949\n",
      "Epoch 19/30\n",
      " - 85s - loss: 0.0096 - val_loss: 0.0094\n",
      "\n",
      "Epoch 00019: val_loss improved from 0.00949 to 0.00941, saving model to ./tmp/MyWeights.hdf5\n",
      "Epoch 20/30\n",
      " - 86s - loss: 0.0096 - val_loss: 0.0098\n",
      "\n",
      "Epoch 00020: val_loss did not improve from 0.00941\n",
      "Epoch 21/30\n",
      " - 86s - loss: 0.0096 - val_loss: 0.0094\n",
      "\n",
      "Epoch 00021: val_loss did not improve from 0.00941\n",
      "Epoch 22/30\n",
      " - 85s - loss: 0.0095 - val_loss: 0.0095\n",
      "\n",
      "Epoch 00022: val_loss did not improve from 0.00941\n",
      "Epoch 23/30\n",
      " - 85s - loss: 0.0095 - val_loss: 0.0095\n",
      "\n",
      "Epoch 00023: val_loss did not improve from 0.00941\n",
      "Epoch 24/30\n",
      " - 86s - loss: 0.0095 - val_loss: 0.0095\n",
      "\n",
      "Epoch 00024: val_loss did not improve from 0.00941\n",
      "Epoch 25/30\n",
      " - 86s - loss: 0.0095 - val_loss: 0.0094\n",
      "\n",
      "Epoch 00025: val_loss improved from 0.00941 to 0.00940, saving model to ./tmp/MyWeights.hdf5\n",
      "Epoch 26/30\n",
      " - 86s - loss: 0.0094 - val_loss: 0.0096\n",
      "\n",
      "Epoch 00026: val_loss did not improve from 0.00940\n",
      "Epoch 27/30\n",
      " - 85s - loss: 0.0094 - val_loss: 0.0093\n",
      "\n",
      "Epoch 00027: val_loss improved from 0.00940 to 0.00927, saving model to ./tmp/MyWeights.hdf5\n",
      "Epoch 28/30\n",
      " - 86s - loss: 0.0094 - val_loss: 0.0094\n",
      "\n",
      "Epoch 00028: val_loss did not improve from 0.00927\n",
      "Epoch 29/30\n",
      " - 87s - loss: 0.0094 - val_loss: 0.0093\n",
      "\n",
      "Epoch 00029: val_loss improved from 0.00927 to 0.00926, saving model to ./tmp/MyWeights.hdf5\n",
      "Epoch 30/30\n",
      " - 86s - loss: 0.0094 - val_loss: 0.0096\n",
      "\n",
      "Epoch 00030: val_loss did not improve from 0.00926\n"
     ]
    }
   ],
   "source": [
    "MyHist = MyModel.fit_generator(datagen.flow(X_train, y_train, batch_size=batch_size),\n",
    "                        steps_per_epoch=steps_to_take,\n",
    "                        validation_data=(X_val, y_val),\n",
    "                        epochs=30, verbose=2, max_q_size=100,\n",
    "                        callbacks=[history,checkpointer,early_stopping])"
   ]
  },
  {
   "cell_type": "code",
   "execution_count": 40,
   "metadata": {},
   "outputs": [
    {
     "data": {
      "text/plain": [
       "[<matplotlib.lines.Line2D at 0x2b8e1e52d6a0>]"
      ]
     },
     "execution_count": 40,
     "metadata": {},
     "output_type": "execute_result"
    },
    {
     "data": {
      "text/plain": [
       "[<matplotlib.lines.Line2D at 0x2b8dfb2552b0>]"
      ]
     },
     "execution_count": 40,
     "metadata": {},
     "output_type": "execute_result"
    },
    {
     "data": {
      "image/png": "[encoded data removed]",
      "text/plain": [
       "<Figure size 432x288 with 1 Axes>"
      ]
     },
     "metadata": {
      "needs_background": "light"
     },
     "output_type": "display_data"
    }
   ],
   "source": [
    "import matplotlib.pylab as plt\n",
    "%matplotlib inline\n",
    "\n",
    "plt.plot(MyHist.epoch,MyHist.history['loss'],label='Test')\n",
    "plt.plot(MyHist.epoch,MyHist.history['val_loss'],label='Validation',linestyle='--')"
   ]
  },
  {
   "cell_type": "code",
   "execution_count": 41,
   "metadata": {},
   "outputs": [
    {
     "name": "stdout",
     "output_type": "stream",
     "text": [
      "Epoch 1/30\n",
      " - 87s - loss: 0.0094 - val_loss: 0.0094\n",
      "\n",
      "Epoch 00001: val_loss did not improve from 0.00926\n",
      "Epoch 2/30\n",
      " - 86s - loss: 0.0094 - val_loss: 0.0094\n",
      "\n",
      "Epoch 00002: val_loss did not improve from 0.00926\n",
      "Epoch 3/30\n",
      " - 87s - loss: 0.0093 - val_loss: 0.0093\n",
      "\n",
      "Epoch 00003: val_loss did not improve from 0.00926\n",
      "Epoch 4/30\n",
      " - 86s - loss: 0.0093 - val_loss: 0.0092\n",
      "\n",
      "Epoch 00004: val_loss improved from 0.00926 to 0.00925, saving model to ./tmp/MyWeights.hdf5\n",
      "Epoch 5/30\n",
      " - 85s - loss: 0.0093 - val_loss: 0.0094\n",
      "\n",
      "Epoch 00005: val_loss did not improve from 0.00925\n",
      "Epoch 6/30\n",
      " - 85s - loss: 0.0093 - val_loss: 0.0094\n",
      "\n",
      "Epoch 00006: val_loss did not improve from 0.00925\n",
      "Epoch 7/30\n",
      " - 86s - loss: 0.0093 - val_loss: 0.0092\n",
      "\n",
      "Epoch 00007: val_loss improved from 0.00925 to 0.00921, saving model to ./tmp/MyWeights.hdf5\n",
      "Epoch 8/30\n",
      " - 86s - loss: 0.0093 - val_loss: 0.0094\n",
      "\n",
      "Epoch 00008: val_loss did not improve from 0.00921\n",
      "Epoch 9/30\n",
      " - 86s - loss: 0.0093 - val_loss: 0.0093\n",
      "\n",
      "Epoch 00009: val_loss did not improve from 0.00921\n",
      "Epoch 10/30\n",
      " - 85s - loss: 0.0093 - val_loss: 0.0092\n",
      "\n",
      "Epoch 00010: val_loss improved from 0.00921 to 0.00915, saving model to ./tmp/MyWeights.hdf5\n",
      "Epoch 11/30\n",
      " - 86s - loss: 0.0092 - val_loss: 0.0093\n",
      "\n",
      "Epoch 00011: val_loss did not improve from 0.00915\n",
      "Epoch 12/30\n",
      " - 86s - loss: 0.0092 - val_loss: 0.0092\n",
      "\n",
      "Epoch 00012: val_loss did not improve from 0.00915\n",
      "Epoch 13/30\n",
      " - 85s - loss: 0.0092 - val_loss: 0.0092\n",
      "\n",
      "Epoch 00013: val_loss did not improve from 0.00915\n",
      "Epoch 14/30\n",
      " - 86s - loss: 0.0092 - val_loss: 0.0094\n",
      "\n",
      "Epoch 00014: val_loss did not improve from 0.00915\n",
      "Epoch 15/30\n",
      " - 86s - loss: 0.0092 - val_loss: 0.0092\n",
      "\n",
      "Epoch 00015: val_loss did not improve from 0.00915\n",
      "Epoch 16/30\n",
      " - 86s - loss: 0.0092 - val_loss: 0.0092\n",
      "\n",
      "Epoch 00016: val_loss did not improve from 0.00915\n",
      "Epoch 17/30\n",
      " - 85s - loss: 0.0092 - val_loss: 0.0092\n",
      "\n",
      "Epoch 00017: val_loss did not improve from 0.00915\n",
      "Epoch 18/30\n",
      " - 86s - loss: 0.0092 - val_loss: 0.0093\n",
      "\n",
      "Epoch 00018: val_loss did not improve from 0.00915\n",
      "Epoch 19/30\n",
      " - 86s - loss: 0.0092 - val_loss: 0.0091\n",
      "\n",
      "Epoch 00019: val_loss improved from 0.00915 to 0.00914, saving model to ./tmp/MyWeights.hdf5\n",
      "Epoch 20/30\n",
      " - 85s - loss: 0.0091 - val_loss: 0.0093\n",
      "\n",
      "Epoch 00020: val_loss did not improve from 0.00914\n",
      "Epoch 21/30\n",
      " - 86s - loss: 0.0092 - val_loss: 0.0091\n",
      "\n",
      "Epoch 00021: val_loss improved from 0.00914 to 0.00907, saving model to ./tmp/MyWeights.hdf5\n",
      "Epoch 22/30\n",
      " - 86s - loss: 0.0091 - val_loss: 0.0091\n",
      "\n",
      "Epoch 00022: val_loss did not improve from 0.00907\n",
      "Epoch 23/30\n",
      " - 86s - loss: 0.0091 - val_loss: 0.0092\n",
      "\n",
      "Epoch 00023: val_loss did not improve from 0.00907\n",
      "Epoch 24/30\n",
      " - 86s - loss: 0.0091 - val_loss: 0.0090\n",
      "\n",
      "Epoch 00024: val_loss improved from 0.00907 to 0.00900, saving model to ./tmp/MyWeights.hdf5\n",
      "Epoch 25/30\n",
      " - 85s - loss: 0.0091 - val_loss: 0.0091\n",
      "\n",
      "Epoch 00025: val_loss did not improve from 0.00900\n",
      "Epoch 26/30\n",
      " - 85s - loss: 0.0091 - val_loss: 0.0092\n",
      "\n",
      "Epoch 00026: val_loss did not improve from 0.00900\n",
      "Epoch 27/30\n",
      " - 86s - loss: 0.0091 - val_loss: 0.0094\n",
      "\n",
      "Epoch 00027: val_loss did not improve from 0.00900\n",
      "Epoch 28/30\n",
      " - 85s - loss: 0.0091 - val_loss: 0.0092\n",
      "\n",
      "Epoch 00028: val_loss did not improve from 0.00900\n",
      "Epoch 29/30\n",
      " - 86s - loss: 0.0091 - val_loss: 0.0091\n",
      "\n",
      "Epoch 00029: val_loss did not improve from 0.00900\n",
      "Epoch 30/30\n",
      " - 86s - loss: 0.0090 - val_loss: 0.0092\n",
      "\n",
      "Epoch 00030: val_loss did not improve from 0.00900\n"
     ]
    }
   ],
   "source": [
    "MyHist = MyModel.fit_generator(datagen.flow(X_train, y_train, batch_size=batch_size),\n",
    "                        steps_per_epoch=steps_to_take,\n",
    "                        validation_data=(X_val, y_val),\n",
    "                        epochs=30, verbose=2, max_q_size=100,\n",
    "                        callbacks=[history,checkpointer,early_stopping])"
   ]
  },
  {
   "cell_type": "code",
   "execution_count": 42,
   "metadata": {},
   "outputs": [
    {
     "data": {
      "text/plain": [
       "[<matplotlib.lines.Line2D at 0x2b8e1e52d3c8>]"
      ]
     },
     "execution_count": 42,
     "metadata": {},
     "output_type": "execute_result"
    },
    {
     "data": {
      "text/plain": [
       "[<matplotlib.lines.Line2D at 0x2b8e1e163978>]"
      ]
     },
     "execution_count": 42,
     "metadata": {},
     "output_type": "execute_result"
    },
    {
     "data": {
      "image/png": "[encoded data removed]",
      "text/plain": [
       "<Figure size 432x288 with 1 Axes>"
      ]
     },
     "metadata": {
      "needs_background": "light"
     },
     "output_type": "display_data"
    }
   ],
   "source": [
    "plt.plot(MyHist.epoch,MyHist.history['loss'],label='Test')\n",
    "plt.plot(MyHist.epoch,MyHist.history['val_loss'],label='Validation',linestyle='--')"
   ]
  },
  {
   "cell_type": "code",
   "execution_count": 46,
   "metadata": {},
   "outputs": [
    {
     "name": "stdout",
     "output_type": "stream",
     "text": [
      "Epoch 1/15\n",
      " - 86s - loss: 0.0089 - val_loss: 0.0091\n",
      "\n",
      "Epoch 00001: val_loss did not improve from 0.00897\n",
      "Epoch 2/15\n",
      " - 86s - loss: 0.0089 - val_loss: 0.0089\n",
      "\n",
      "Epoch 00002: val_loss improved from 0.00897 to 0.00893, saving model to ./tmp/MyWeights.hdf5\n",
      "Epoch 3/15\n",
      " - 86s - loss: 0.0089 - val_loss: 0.0090\n",
      "\n",
      "Epoch 00003: val_loss did not improve from 0.00893\n",
      "Epoch 4/15\n",
      " - 86s - loss: 0.0089 - val_loss: 0.0090\n",
      "\n",
      "Epoch 00004: val_loss did not improve from 0.00893\n",
      "Epoch 5/15\n",
      " - 86s - loss: 0.0089 - val_loss: 0.0090\n",
      "\n",
      "Epoch 00005: val_loss did not improve from 0.00893\n",
      "Epoch 6/15\n",
      " - 86s - loss: 0.0089 - val_loss: 0.0089\n",
      "\n",
      "Epoch 00006: val_loss improved from 0.00893 to 0.00889, saving model to ./tmp/MyWeights.hdf5\n",
      "Epoch 7/15\n",
      " - 86s - loss: 0.0089 - val_loss: 0.0090\n",
      "\n",
      "Epoch 00007: val_loss did not improve from 0.00889\n",
      "Epoch 8/15\n",
      " - 86s - loss: 0.0089 - val_loss: 0.0091\n",
      "\n",
      "Epoch 00008: val_loss did not improve from 0.00889\n",
      "Epoch 9/15\n",
      " - 86s - loss: 0.0089 - val_loss: 0.0091\n",
      "\n",
      "Epoch 00009: val_loss did not improve from 0.00889\n",
      "Epoch 10/15\n",
      " - 86s - loss: 0.0089 - val_loss: 0.0090\n",
      "\n",
      "Epoch 00010: val_loss did not improve from 0.00889\n",
      "Epoch 11/15\n",
      " - 86s - loss: 0.0089 - val_loss: 0.0092\n",
      "\n",
      "Epoch 00011: val_loss did not improve from 0.00889\n",
      "Epoch 12/15\n",
      " - 85s - loss: 0.0089 - val_loss: 0.0089\n",
      "\n",
      "Epoch 00012: val_loss did not improve from 0.00889\n",
      "Epoch 13/15\n",
      " - 86s - loss: 0.0089 - val_loss: 0.0091\n",
      "\n",
      "Epoch 00013: val_loss did not improve from 0.00889\n",
      "Epoch 14/15\n",
      " - 86s - loss: 0.0089 - val_loss: 0.0090\n",
      "\n",
      "Epoch 00014: val_loss did not improve from 0.00889\n",
      "Epoch 15/15\n",
      " - 85s - loss: 0.0089 - val_loss: 0.0089\n",
      "\n",
      "Epoch 00015: val_loss did not improve from 0.00889\n"
     ]
    }
   ],
   "source": [
    "MyHist = MyModel.fit_generator(datagen.flow(X_train, y_train, batch_size=batch_size),\n",
    "                        steps_per_epoch=steps_to_take,\n",
    "                        validation_data=(X_val, y_val),\n",
    "                        epochs=15, verbose=2, max_q_size=100,\n",
    "                        callbacks=[history,checkpointer,early_stopping])"
   ]
  },
  {
   "cell_type": "code",
   "execution_count": 47,
   "metadata": {},
   "outputs": [
    {
     "data": {
      "text/plain": [
       "[<matplotlib.lines.Line2D at 0x2b8e1e50ada0>]"
      ]
     },
     "execution_count": 47,
     "metadata": {},
     "output_type": "execute_result"
    },
    {
     "data": {
      "text/plain": [
       "[<matplotlib.lines.Line2D at 0x2b8dfb919ac8>]"
      ]
     },
     "execution_count": 47,
     "metadata": {},
     "output_type": "execute_result"
    },
    {
     "data": {
      "image/png": "[encoded data removed]",
      "text/plain": [
       "<Figure size 432x288 with 1 Axes>"
      ]
     },
     "metadata": {
      "needs_background": "light"
     },
     "output_type": "display_data"
    }
   ],
   "source": [
    "plt.plot(MyHist.epoch,MyHist.history['loss'],label='Test')\n",
    "plt.plot(MyHist.epoch,MyHist.history['val_loss'],label='Validation',linestyle='--')"
   ]
  },
  {
   "cell_type": "code",
   "execution_count": null,
   "metadata": {},
   "outputs": [],
   "source": []
  },
  {
   "cell_type": "code",
   "execution_count": 18,
   "metadata": {},
   "outputs": [],
   "source": [
    "MyModel = MyCNN()\n",
    "MyModel = multi_gpu_model(MyModel, gpus=2)\n",
    "MyModel.compile(loss='mean_squared_error', optimizer=Adam(lr=1e-5))"
   ]
  },
  {
   "cell_type": "code",
   "execution_count": null,
   "metadata": {},
   "outputs": [
    {
     "name": "stdout",
     "output_type": "stream",
     "text": [
      "Train on 178686 samples, validate on 2016 samples\n",
      "Epoch 1/30\n",
      " - 200s - loss: 0.4144 - val_loss: 0.0744\n",
      "\n",
      "Epoch 00001: val_loss improved from inf to 0.07435, saving model to ./tmp/MyWeights.hdf5\n",
      "Epoch 2/30\n",
      " - 198s - loss: 0.0458 - val_loss: 0.0310\n",
      "\n",
      "Epoch 00002: val_loss improved from 0.07435 to 0.03103, saving model to ./tmp/MyWeights.hdf5\n",
      "Epoch 3/30\n",
      " - 197s - loss: 0.0255 - val_loss: 0.0213\n",
      "\n",
      "Epoch 00003: val_loss improved from 0.03103 to 0.02133, saving model to ./tmp/MyWeights.hdf5\n",
      "Epoch 4/30\n",
      " - 198s - loss: 0.0188 - val_loss: 0.0167\n",
      "\n",
      "Epoch 00004: val_loss improved from 0.02133 to 0.01667, saving model to ./tmp/MyWeights.hdf5\n",
      "Epoch 5/30\n",
      " - 198s - loss: 0.0155 - val_loss: 0.0143\n",
      "\n",
      "Epoch 00005: val_loss improved from 0.01667 to 0.01430, saving model to ./tmp/MyWeights.hdf5\n",
      "Epoch 6/30\n",
      " - 198s - loss: 0.0136 - val_loss: 0.0132\n",
      "\n",
      "Epoch 00006: val_loss improved from 0.01430 to 0.01324, saving model to ./tmp/MyWeights.hdf5\n",
      "Epoch 7/30\n",
      " - 198s - loss: 0.0124 - val_loss: 0.0121\n",
      "\n",
      "Epoch 00007: val_loss improved from 0.01324 to 0.01214, saving model to ./tmp/MyWeights.hdf5\n",
      "Epoch 8/30\n",
      " - 198s - loss: 0.0112 - val_loss: 0.0110\n",
      "\n",
      "Epoch 00009: val_loss improved from 0.01141 to 0.01101, saving model to ./tmp/MyWeights.hdf5\n",
      "Epoch 10/30\n"
     ]
    }
   ],
   "source": [
    "MyHist1 = MyModel.fit(x=X_aug, y=y_aug, batch_size=batch_size,\n",
    "#                         steps_per_epoch=steps_to_take,\n",
    "                        validation_data=(X_val, y_val),\n",
    "#                         validation_steps=val_step,\n",
    "                        epochs=30, verbose=2, \n",
    "                        callbacks=[history,checkpointer,early_stopping])"
   ]
  },
  {
   "cell_type": "code",
   "execution_count": 29,
   "metadata": {},
   "outputs": [
    {
     "name": "stdout",
     "output_type": "stream",
     "text": [
      "Train on 178686 samples, validate on 2016 samples\n",
      "Epoch 1/30\n",
      " - 198s - loss: 0.0103 - val_loss: 0.0104\n",
      "\n",
      "Epoch 00001: val_loss improved from 0.01057 to 0.01044, saving model to ./tmp/MyWeights.hdf5\n",
      "Epoch 2/30\n",
      " - 197s - loss: 0.0101 - val_loss: 0.0102\n",
      "\n",
      "Epoch 00002: val_loss improved from 0.01044 to 0.01025, saving model to ./tmp/MyWeights.hdf5\n",
      "Epoch 3/30\n",
      " - 198s - loss: 0.0099 - val_loss: 0.0104\n",
      "\n",
      "Epoch 00003: val_loss did not improve from 0.01025\n",
      "Epoch 4/30\n",
      " - 198s - loss: 0.0098 - val_loss: 0.0105\n",
      "\n",
      "Epoch 00004: val_loss did not improve from 0.01025\n",
      "Epoch 5/30\n",
      " - 197s - loss: 0.0097 - val_loss: 0.0099\n",
      "\n",
      "Epoch 00005: val_loss improved from 0.01025 to 0.00991, saving model to ./tmp/MyWeights.hdf5\n",
      "Epoch 6/30\n",
      " - 198s - loss: 0.0096 - val_loss: 0.0100\n",
      "\n",
      "Epoch 00006: val_loss did not improve from 0.00991\n",
      "Epoch 7/30\n",
      " - 198s - loss: 0.0095 - val_loss: 0.0101\n",
      "\n",
      "Epoch 00007: val_loss did not improve from 0.00991\n",
      "Epoch 8/30\n",
      " - 198s - loss: 0.0094 - val_loss: 0.0100\n",
      "\n",
      "Epoch 00008: val_loss did not improve from 0.00991\n",
      "Epoch 9/30\n",
      " - 198s - loss: 0.0094 - val_loss: 0.0098\n",
      "\n",
      "Epoch 00009: val_loss improved from 0.00991 to 0.00981, saving model to ./tmp/MyWeights.hdf5\n",
      "Epoch 10/30\n",
      " - 198s - loss: 0.0093 - val_loss: 0.0099\n",
      "\n",
      "Epoch 00010: val_loss did not improve from 0.00981\n",
      "Epoch 11/30\n",
      " - 197s - loss: 0.0092 - val_loss: 0.0098\n",
      "\n",
      "Epoch 00011: val_loss improved from 0.00981 to 0.00979, saving model to ./tmp/MyWeights.hdf5\n",
      "Epoch 12/30\n",
      " - 198s - loss: 0.0092 - val_loss: 0.0099\n",
      "\n",
      "Epoch 00012: val_loss did not improve from 0.00979\n",
      "Epoch 13/30\n",
      " - 198s - loss: 0.0091 - val_loss: 0.0099\n",
      "\n",
      "Epoch 00013: val_loss did not improve from 0.00979\n",
      "Epoch 14/30\n",
      " - 197s - loss: 0.0091 - val_loss: 0.0097\n",
      "\n",
      "Epoch 00014: val_loss improved from 0.00979 to 0.00968, saving model to ./tmp/MyWeights.hdf5\n",
      "Epoch 15/30\n",
      " - 198s - loss: 0.0090 - val_loss: 0.0096\n",
      "\n",
      "Epoch 00015: val_loss improved from 0.00968 to 0.00965, saving model to ./tmp/MyWeights.hdf5\n",
      "Epoch 16/30\n",
      " - 197s - loss: 0.0090 - val_loss: 0.0097\n",
      "\n",
      "Epoch 00016: val_loss did not improve from 0.00965\n",
      "Epoch 17/30\n",
      " - 198s - loss: 0.0089 - val_loss: 0.0097\n",
      "\n",
      "Epoch 00017: val_loss did not improve from 0.00965\n",
      "Epoch 18/30\n",
      " - 197s - loss: 0.0089 - val_loss: 0.0097\n",
      "\n",
      "Epoch 00018: val_loss did not improve from 0.00965\n",
      "Epoch 19/30\n",
      " - 198s - loss: 0.0088 - val_loss: 0.0096\n",
      "\n",
      "Epoch 00019: val_loss improved from 0.00965 to 0.00959, saving model to ./tmp/MyWeights.hdf5\n",
      "Epoch 20/30\n",
      " - 197s - loss: 0.0088 - val_loss: 0.0097\n",
      "\n",
      "Epoch 00020: val_loss did not improve from 0.00959\n",
      "Epoch 21/30\n",
      " - 198s - loss: 0.0087 - val_loss: 0.0096\n",
      "\n",
      "Epoch 00021: val_loss improved from 0.00959 to 0.00958, saving model to ./tmp/MyWeights.hdf5\n",
      "Epoch 22/30\n",
      " - 198s - loss: 0.0087 - val_loss: 0.0097\n",
      "\n",
      "Epoch 00022: val_loss did not improve from 0.00958\n",
      "Epoch 23/30\n",
      " - 197s - loss: 0.0087 - val_loss: 0.0098\n",
      "\n",
      "Epoch 00023: val_loss did not improve from 0.00958\n",
      "Epoch 24/30\n",
      " - 198s - loss: 0.0086 - val_loss: 0.0096\n",
      "\n",
      "Epoch 00024: val_loss did not improve from 0.00958\n",
      "Epoch 25/30\n",
      " - 198s - loss: 0.0086 - val_loss: 0.0096\n",
      "\n",
      "Epoch 00025: val_loss improved from 0.00958 to 0.00955, saving model to ./tmp/MyWeights.hdf5\n",
      "Epoch 26/30\n",
      " - 198s - loss: 0.0086 - val_loss: 0.0099\n",
      "\n",
      "Epoch 00026: val_loss did not improve from 0.00955\n",
      "Epoch 27/30\n",
      " - 197s - loss: 0.0085 - val_loss: 0.0095\n",
      "\n",
      "Epoch 00027: val_loss improved from 0.00955 to 0.00951, saving model to ./tmp/MyWeights.hdf5\n",
      "Epoch 28/30\n",
      " - 198s - loss: 0.0085 - val_loss: 0.0094\n",
      "\n",
      "Epoch 00028: val_loss improved from 0.00951 to 0.00944, saving model to ./tmp/MyWeights.hdf5\n",
      "Epoch 29/30\n",
      " - 197s - loss: 0.0085 - val_loss: 0.0095\n",
      "\n",
      "Epoch 00029: val_loss did not improve from 0.00944\n",
      "Epoch 30/30\n",
      " - 198s - loss: 0.0085 - val_loss: 0.0099\n",
      "\n",
      "Epoch 00030: val_loss did not improve from 0.00944\n"
     ]
    }
   ],
   "source": [
    "MyHist1 = MyModel.fit(x=X_aug, y=y_aug, batch_size=batch_size,\n",
    "#                         steps_per_epoch=steps_to_take,\n",
    "                        validation_data=(X_val, y_val),\n",
    "#                         validation_steps=val_step,\n",
    "                        epochs=30, verbose=2, \n",
    "                        callbacks=[history,checkpointer,early_stopping])"
   ]
  },
  {
   "cell_type": "code",
   "execution_count": null,
   "metadata": {},
   "outputs": [],
   "source": [
    "import matplotlib.pylab as plt\n",
    "%matplotlib inline\n",
    "\n",
    "plt.plot(MyHist1.epoch,MyHist1.history['loss'],label='Test')\n",
    "plt.plot(MyHist1.epoch,MyHist1.history['val_loss'],label='Validation',linestyle='--')"
   ]
  },
  {
   "cell_type": "code",
   "execution_count": 26,
   "metadata": {},
   "outputs": [],
   "source": [
    "myModel = load_model('./tmp/myWeights.hdf5')"
   ]
  },
  {
   "cell_type": "code",
   "execution_count": null,
   "metadata": {},
   "outputs": [],
   "source": [
    "myhist1 = myModel.fit_generator(BatchGenerator3(fetcher),\n",
    "                    samples_per_epoch=steps_to_take*3,\n",
    "                    nb_epoch=30,\n",
    "                    verbose=2,\n",
    "                    callbacks=[history,checkpointer,early_stopping],\n",
    "                    validation_data=validGenerator3(fetcher),\n",
    "                    validation_steps=val_steps_to_take\n",
    "                   )"
   ]
  },
  {
   "cell_type": "code",
   "execution_count": null,
   "metadata": {},
   "outputs": [],
   "source": []
  },
  {
   "cell_type": "code",
   "execution_count": 26,
   "metadata": {},
   "outputs": [],
   "source": [
    "# resModel = load_model('./tmp/resWeights.hdf5')"
   ]
  },
  {
   "cell_type": "code",
   "execution_count": null,
   "metadata": {},
   "outputs": [
    {
     "name": "stdout",
     "output_type": "stream",
     "text": [
      "Epoch 1/50\n",
      "1861/1861 [==============================] - 446s 240ms/step - loss: 0.0281 - val_loss: 0.0260\n",
      "\n",
      "Epoch 00001: val_loss improved from inf to 0.02603, saving model to ./tmp/resWeights.hdf5\n",
      "Epoch 2/50\n",
      " 361/1861 [====>.........................] - ETA: 6:36 - loss: 0.0272"
     ]
    }
   ],
   "source": [
    "# ResNet\n",
    "\n",
    "reshist = resModel.fit_generator(BatchGenerator3(fetcher,batch_size),\n",
    "                    steps_per_epoch=steps_to_take,\n",
    "                    nb_epoch=50,\n",
    "                    verbose=1,\n",
    "                    callbacks=[history,checkpointer,early_stopping],\n",
    "                    validation_data=validGenerator3(fetcher,batch_size),\n",
    "                    validation_steps=val_steps_to_take\n",
    "                    )"
   ]
  },
  {
   "cell_type": "code",
   "execution_count": null,
   "metadata": {},
   "outputs": [],
   "source": [
    "\n",
    "\n",
    "reshist = resModel.fit_generator(BatchGenerator2(fetcher),\n",
    "                    samples_per_epoch=steps_to_take*6,\n",
    "                    nb_epoch=50,\n",
    "                    verbose=2,\n",
    "                    callbacks=[history,checkpointer,early_stopping],\n",
    "                    validation_data=validGenerator2(fetcher),\n",
    "                    validation_steps=val_steps_to_take\n",
    "                    )"
   ]
  },
  {
   "cell_type": "code",
   "execution_count": null,
   "metadata": {},
   "outputs": [],
   "source": [
    "# VGG16 with no augmentation\n",
    "\n",
    "hist = model.fit_generator(BatchGenerator(fetcher),\n",
    "                    samples_per_epoch=steps_to_take, \n",
    "                    nb_epoch=50,\n",
    "                    verbose=2,\n",
    "                    callbacks=[history,checkpointer,early_stopping],\n",
    "                   )\n",
    "# 0.021"
   ]
  },
  {
   "cell_type": "code",
   "execution_count": null,
   "metadata": {},
   "outputs": [],
   "source": [
    "# VGG16 with augmentation\n",
    "\n",
    "hist_aug = model.fit_generator(BatchGenerator_withaug(fetcher),\n",
    "                    samples_per_epoch=steps_to_take*3, \n",
    "                    nb_epoch=25,\n",
    "                    verbose=2,\n",
    "                    callbacks=[hist,checkpointer,early_stopping],\n",
    "                   )\n",
    "# 0.017"
   ]
  },
  {
   "cell_type": "code",
   "execution_count": null,
   "metadata": {},
   "outputs": [],
   "source": [
    "#Aug with larger epochs\n",
    "\n",
    "hist_aug2 = model.fit_generator(BatchGenerator_withaug(fetcher),\n",
    "                    samples_per_epoch=steps_to_take*3, \n",
    "                    nb_epoch=50,\n",
    "                    verbose=2,\n",
    "                    callbacks=[hist,checkpointer,early_stopping],\n",
    "                   )\n",
    "# 0.015"
   ]
  },
  {
   "cell_type": "code",
   "execution_count": 141,
   "metadata": {},
   "outputs": [
    {
     "name": "stdout",
     "output_type": "stream",
     "text": [
      "Epoch 1/50\n",
      " - 54s - loss: 0.0161 - val_loss: 0.0176\n",
      "\n",
      "Epoch 00001: val_loss did not improve from 0.01435\n",
      "Epoch 2/50\n",
      " - 54s - loss: 0.0159 - val_loss: 0.0140\n",
      "\n",
      "Epoch 00002: val_loss improved from 0.01435 to 0.01405, saving model to ./tmp/weights.hdf5\n",
      "Epoch 3/50\n",
      " - 54s - loss: 0.0154 - val_loss: 0.0155\n",
      "\n",
      "Epoch 00003: val_loss did not improve from 0.01405\n",
      "Epoch 4/50\n",
      " - 54s - loss: 0.0154 - val_loss: 0.0140\n",
      "\n",
      "Epoch 00004: val_loss improved from 0.01405 to 0.01400, saving model to ./tmp/weights.hdf5\n",
      "Epoch 5/50\n",
      " - 54s - loss: 0.0155 - val_loss: 0.0156\n",
      "\n",
      "Epoch 00005: val_loss did not improve from 0.01400\n",
      "Epoch 6/50\n",
      " - 54s - loss: 0.0158 - val_loss: 0.0159\n",
      "\n",
      "Epoch 00006: val_loss did not improve from 0.01400\n",
      "Epoch 7/50\n",
      " - 54s - loss: 0.0160 - val_loss: 0.0145\n",
      "\n",
      "Epoch 00007: val_loss did not improve from 0.01400\n",
      "Epoch 8/50\n",
      " - 54s - loss: 0.0157 - val_loss: 0.0149\n",
      "\n",
      "Epoch 00008: val_loss did not improve from 0.01400\n",
      "Epoch 9/50\n",
      " - 54s - loss: 0.0155 - val_loss: 0.0164\n",
      "\n",
      "Epoch 00009: val_loss did not improve from 0.01400\n",
      "Epoch 10/50\n",
      " - 54s - loss: 0.0157 - val_loss: 0.0163\n",
      "\n",
      "Epoch 00010: val_loss did not improve from 0.01400\n",
      "Epoch 11/50\n",
      " - 54s - loss: 0.0153 - val_loss: 0.0186\n",
      "\n",
      "Epoch 00011: val_loss did not improve from 0.01400\n",
      "Epoch 12/50\n",
      " - 54s - loss: 0.0151 - val_loss: 0.0175\n",
      "\n",
      "Epoch 00012: val_loss did not improve from 0.01400\n",
      "Epoch 13/50\n",
      " - 54s - loss: 0.0155 - val_loss: 0.0163\n",
      "\n",
      "Epoch 00013: val_loss did not improve from 0.01400\n",
      "Epoch 14/50\n",
      " - 54s - loss: 0.0153 - val_loss: 0.0155\n",
      "\n",
      "Epoch 00014: val_loss did not improve from 0.01400\n",
      "Epoch 15/50\n",
      " - 55s - loss: 0.0156 - val_loss: 0.0137\n",
      "\n",
      "Epoch 00015: val_loss improved from 0.01400 to 0.01371, saving model to ./tmp/weights.hdf5\n",
      "Epoch 16/50\n",
      " - 55s - loss: 0.0157 - val_loss: 0.0169\n",
      "\n",
      "Epoch 00016: val_loss did not improve from 0.01371\n",
      "Epoch 17/50\n",
      " - 56s - loss: 0.0149 - val_loss: 0.0185\n",
      "\n",
      "Epoch 00017: val_loss did not improve from 0.01371\n",
      "Epoch 18/50\n",
      " - 56s - loss: 0.0156 - val_loss: 0.0166\n",
      "\n",
      "Epoch 00018: val_loss did not improve from 0.01371\n",
      "Epoch 19/50\n",
      " - 58s - loss: 0.0154 - val_loss: 0.0145\n",
      "\n",
      "Epoch 00019: val_loss did not improve from 0.01371\n",
      "Epoch 20/50\n",
      " - 57s - loss: 0.0154 - val_loss: 0.0137\n",
      "\n",
      "Epoch 00020: val_loss improved from 0.01371 to 0.01370, saving model to ./tmp/weights.hdf5\n",
      "Epoch 21/50\n",
      " - 61s - loss: 0.0153 - val_loss: 0.0127\n",
      "\n",
      "Epoch 00021: val_loss improved from 0.01370 to 0.01267, saving model to ./tmp/weights.hdf5\n",
      "Epoch 22/50\n",
      " - 58s - loss: 0.0157 - val_loss: 0.0149\n",
      "\n",
      "Epoch 00022: val_loss did not improve from 0.01267\n",
      "Epoch 23/50\n",
      " - 57s - loss: 0.0159 - val_loss: 0.0118\n",
      "\n",
      "Epoch 00023: val_loss improved from 0.01267 to 0.01177, saving model to ./tmp/weights.hdf5\n",
      "Epoch 24/50\n",
      " - 64s - loss: 0.0154 - val_loss: 0.0134\n",
      "\n",
      "Epoch 00024: val_loss did not improve from 0.01177\n",
      "Epoch 25/50\n",
      " - 61s - loss: 0.0155 - val_loss: 0.0159\n",
      "\n",
      "Epoch 00025: val_loss did not improve from 0.01177\n",
      "Epoch 26/50\n",
      " - 56s - loss: 0.0150 - val_loss: 0.0149\n",
      "\n",
      "Epoch 00026: val_loss did not improve from 0.01177\n",
      "Epoch 27/50\n",
      " - 56s - loss: 0.0155 - val_loss: 0.0132\n",
      "\n",
      "Epoch 00027: val_loss did not improve from 0.01177\n",
      "Epoch 28/50\n",
      " - 56s - loss: 0.0152 - val_loss: 0.0136\n",
      "\n",
      "Epoch 00028: val_loss did not improve from 0.01177\n",
      "Epoch 29/50\n",
      " - 65s - loss: 0.0157 - val_loss: 0.0133\n",
      "\n",
      "Epoch 00029: val_loss did not improve from 0.01177\n",
      "Epoch 30/50\n",
      " - 69s - loss: 0.0150 - val_loss: 0.0167\n",
      "\n",
      "Epoch 00030: val_loss did not improve from 0.01177\n",
      "Epoch 31/50\n",
      " - 62s - loss: 0.0150 - val_loss: 0.0177\n",
      "\n",
      "Epoch 00031: val_loss did not improve from 0.01177\n",
      "Epoch 32/50\n",
      " - 57s - loss: 0.0149 - val_loss: 0.0174\n",
      "\n",
      "Epoch 00032: val_loss did not improve from 0.01177\n",
      "Epoch 33/50\n",
      " - 54s - loss: 0.0149 - val_loss: 0.0125\n",
      "\n",
      "Epoch 00033: val_loss did not improve from 0.01177\n",
      "Epoch 34/50\n",
      " - 54s - loss: 0.0148 - val_loss: 0.0171\n",
      "\n",
      "Epoch 00034: val_loss did not improve from 0.01177\n",
      "Epoch 35/50\n",
      " - 54s - loss: 0.0144 - val_loss: 0.0134\n",
      "\n",
      "Epoch 00035: val_loss did not improve from 0.01177\n",
      "Epoch 00035: early stopping\n"
     ]
    }
   ],
   "source": [
    "# VGG with data augmentation\n",
    "\n",
    "hist_vaug = model.fit_generator(BatchGenerator_withaug(fetcher),\n",
    "                    samples_per_epoch=steps_to_take,\n",
    "                    nb_epoch=50,\n",
    "                    verbose=2,\n",
    "                    callbacks=[hist_v2,checkpointer,early_stopping],\n",
    "                    validation_data=validGenerator(fetcher),\n",
    "                    validation_steps=val_steps_to_take\n",
    "                   )"
   ]
  },
  {
   "cell_type": "code",
   "execution_count": 25,
   "metadata": {},
   "outputs": [
    {
     "name": "stdout",
     "output_type": "stream",
     "text": [
      "Epoch 1/30\n",
      " - 268s - loss: 0.0171 - val_loss: 0.0353\n",
      "\n",
      "Epoch 00001: val_loss improved from inf to 0.03526, saving model to ./tmp/weights.hdf5\n",
      "Epoch 2/30\n",
      " - 269s - loss: 0.0159 - val_loss: 0.0411\n",
      "\n",
      "Epoch 00002: val_loss did not improve from 0.03526\n",
      "Epoch 3/30\n",
      " - 268s - loss: 0.0150 - val_loss: 0.0181\n",
      "\n",
      "Epoch 00003: val_loss improved from 0.03526 to 0.01809, saving model to ./tmp/weights.hdf5\n",
      "Epoch 4/30\n",
      " - 268s - loss: 0.0144 - val_loss: 0.0215\n",
      "\n",
      "Epoch 00004: val_loss did not improve from 0.01809\n",
      "Epoch 5/30\n",
      " - 268s - loss: 0.0140 - val_loss: 0.0343\n",
      "\n",
      "Epoch 00005: val_loss did not improve from 0.01809\n",
      "Epoch 6/30\n",
      " - 269s - loss: 0.0136 - val_loss: 0.0204\n",
      "\n",
      "Epoch 00006: val_loss did not improve from 0.01809\n",
      "Epoch 7/30\n",
      " - 268s - loss: 0.0135 - val_loss: 0.0172\n",
      "\n",
      "Epoch 00007: val_loss improved from 0.01809 to 0.01721, saving model to ./tmp/weights.hdf5\n",
      "Epoch 8/30\n",
      " - 269s - loss: 0.0134 - val_loss: 0.0323\n",
      "\n",
      "Epoch 00008: val_loss did not improve from 0.01721\n",
      "Epoch 9/30\n",
      " - 268s - loss: 0.0127 - val_loss: 0.0239\n",
      "\n",
      "Epoch 00009: val_loss did not improve from 0.01721\n",
      "Epoch 10/30\n",
      " - 268s - loss: 0.0129 - val_loss: 0.0182\n",
      "\n",
      "Epoch 00010: val_loss did not improve from 0.01721\n",
      "Epoch 11/30\n",
      " - 268s - loss: 0.0122 - val_loss: 0.0186\n",
      "\n",
      "Epoch 00011: val_loss did not improve from 0.01721\n",
      "Epoch 12/30\n",
      " - 268s - loss: 0.0119 - val_loss: 0.0209\n",
      "\n",
      "Epoch 00012: val_loss did not improve from 0.01721\n",
      "Epoch 13/30\n",
      " - 268s - loss: 0.0124 - val_loss: 0.0213\n",
      "\n",
      "Epoch 00013: val_loss did not improve from 0.01721\n",
      "Epoch 14/30\n",
      " - 268s - loss: 0.0121 - val_loss: 0.0207\n",
      "\n",
      "Epoch 00014: val_loss did not improve from 0.01721\n",
      "Epoch 15/30\n",
      " - 268s - loss: 0.0120 - val_loss: 0.0216\n",
      "\n",
      "Epoch 00015: val_loss did not improve from 0.01721\n",
      "Epoch 16/30\n",
      " - 268s - loss: 0.0117 - val_loss: 0.0212\n",
      "\n",
      "Epoch 00016: val_loss did not improve from 0.01721\n",
      "Epoch 17/30\n",
      " - 269s - loss: 0.0113 - val_loss: 0.0260\n",
      "\n",
      "Epoch 00017: val_loss did not improve from 0.01721\n",
      "Epoch 18/30\n",
      " - 268s - loss: 0.0117 - val_loss: 0.0288\n",
      "\n",
      "Epoch 00018: val_loss did not improve from 0.01721\n",
      "Epoch 19/30\n",
      " - 268s - loss: 0.0113 - val_loss: 0.0186\n",
      "\n",
      "Epoch 00019: val_loss did not improve from 0.01721\n",
      "Epoch 00019: early stopping\n"
     ]
    }
   ],
   "source": [
    "# VGG_2\n",
    "\n",
    "hist2 = model2.fit_generator(BatchGenerator2(fetcher),\n",
    "                    samples_per_epoch=steps_to_take*6,\n",
    "                    nb_epoch=30,\n",
    "                    verbose=2,\n",
    "                    callbacks=[history,checkpointer,early_stopping],\n",
    "                    validation_data=validGenerator2(fetcher),\n",
    "                    validation_steps=val_steps_to_take\n",
    "                   )"
   ]
  },
  {
   "cell_type": "code",
   "execution_count": 28,
   "metadata": {},
   "outputs": [
    {
     "name": "stdout",
     "output_type": "stream",
     "text": [
      "Epoch 1/30\n",
      " - 324s - loss: 0.0340 - val_loss: 0.0286\n",
      "\n",
      "Epoch 00001: val_loss did not improve from 0.01721\n",
      "Epoch 2/30\n",
      " - 322s - loss: 0.0235 - val_loss: 0.0307\n",
      "\n",
      "Epoch 00002: val_loss did not improve from 0.01721\n",
      "Epoch 3/30\n",
      " - 322s - loss: 0.0201 - val_loss: 0.0235\n",
      "\n",
      "Epoch 00003: val_loss did not improve from 0.01721\n",
      "Epoch 4/30\n",
      " - 321s - loss: 0.0179 - val_loss: 0.0232\n",
      "\n",
      "Epoch 00004: val_loss did not improve from 0.01721\n",
      "Epoch 5/30\n",
      " - 322s - loss: 0.0172 - val_loss: 0.0367\n",
      "\n",
      "Epoch 00005: val_loss did not improve from 0.01721\n",
      "Epoch 6/30\n",
      " - 322s - loss: 0.0164 - val_loss: 0.0208\n",
      "\n",
      "Epoch 00006: val_loss did not improve from 0.01721\n",
      "Epoch 7/30\n",
      " - 322s - loss: 0.0160 - val_loss: 0.0192\n",
      "\n",
      "Epoch 00007: val_loss did not improve from 0.01721\n",
      "Epoch 8/30\n",
      " - 322s - loss: 0.0157 - val_loss: 0.0351\n",
      "\n",
      "Epoch 00008: val_loss did not improve from 0.01721\n",
      "Epoch 9/30\n",
      " - 322s - loss: 0.0150 - val_loss: 0.0244\n",
      "\n",
      "Epoch 00009: val_loss did not improve from 0.01721\n",
      "Epoch 10/30\n",
      " - 321s - loss: 0.0148 - val_loss: 0.0245\n",
      "\n",
      "Epoch 00010: val_loss did not improve from 0.01721\n",
      "Epoch 11/30\n",
      " - 321s - loss: 0.0141 - val_loss: 0.0223\n",
      "\n",
      "Epoch 00011: val_loss did not improve from 0.01721\n",
      "Epoch 12/30\n",
      " - 322s - loss: 0.0137 - val_loss: 0.0240\n",
      "\n",
      "Epoch 00012: val_loss did not improve from 0.01721\n",
      "Epoch 13/30\n",
      " - 322s - loss: 0.0139 - val_loss: 0.0200\n",
      "\n",
      "Epoch 00013: val_loss did not improve from 0.01721\n",
      "Epoch 14/30\n",
      " - 321s - loss: 0.0135 - val_loss: 0.0231\n",
      "\n",
      "Epoch 00014: val_loss did not improve from 0.01721\n",
      "Epoch 15/30\n",
      " - 323s - loss: 0.0134 - val_loss: 0.0225\n",
      "\n",
      "Epoch 00015: val_loss did not improve from 0.01721\n",
      "Epoch 16/30\n",
      " - 322s - loss: 0.0130 - val_loss: 0.0228\n",
      "\n",
      "Epoch 00016: val_loss did not improve from 0.01721\n",
      "Epoch 17/30\n",
      " - 322s - loss: 0.0125 - val_loss: 0.0281\n",
      "\n",
      "Epoch 00017: val_loss did not improve from 0.01721\n",
      "Epoch 18/30\n",
      " - 322s - loss: 0.0129 - val_loss: 0.0234\n",
      "\n",
      "Epoch 00018: val_loss did not improve from 0.01721\n",
      "Epoch 19/30\n",
      " - 321s - loss: 0.0124 - val_loss: 0.0167\n",
      "\n",
      "Epoch 00019: val_loss improved from 0.01721 to 0.01666, saving model to ./tmp/weights.hdf5\n",
      "Epoch 20/30\n",
      " - 321s - loss: 0.0123 - val_loss: 0.0275\n",
      "\n",
      "Epoch 00020: val_loss did not improve from 0.01666\n",
      "Epoch 21/30\n",
      " - 321s - loss: 0.0122 - val_loss: 0.0166\n",
      "\n",
      "Epoch 00021: val_loss improved from 0.01666 to 0.01662, saving model to ./tmp/weights.hdf5\n",
      "Epoch 22/30\n",
      " - 321s - loss: 0.0124 - val_loss: 0.0195\n",
      "\n",
      "Epoch 00022: val_loss did not improve from 0.01662\n",
      "Epoch 23/30\n",
      " - 322s - loss: 0.0124 - val_loss: 0.0195\n",
      "\n",
      "Epoch 00023: val_loss did not improve from 0.01662\n",
      "Epoch 24/30\n",
      " - 322s - loss: 0.0121 - val_loss: 0.0355\n",
      "\n",
      "Epoch 00024: val_loss did not improve from 0.01662\n",
      "Epoch 25/30\n",
      " - 322s - loss: 0.0122 - val_loss: 0.0553\n",
      "\n",
      "Epoch 00025: val_loss did not improve from 0.01662\n",
      "Epoch 26/30\n",
      " - 322s - loss: 0.0115 - val_loss: 0.0202\n",
      "\n",
      "Epoch 00026: val_loss did not improve from 0.01662\n",
      "Epoch 27/30\n",
      " - 323s - loss: 0.0119 - val_loss: 0.0179\n",
      "\n",
      "Epoch 00027: val_loss did not improve from 0.01662\n",
      "Epoch 28/30\n",
      " - 321s - loss: 0.0114 - val_loss: 0.0197\n",
      "\n",
      "Epoch 00028: val_loss did not improve from 0.01662\n",
      "Epoch 29/30\n",
      " - 322s - loss: 0.0119 - val_loss: 0.0172\n",
      "\n",
      "Epoch 00029: val_loss did not improve from 0.01662\n",
      "Epoch 30/30\n",
      " - 322s - loss: 0.0115 - val_loss: 0.0193\n",
      "\n",
      "Epoch 00030: val_loss did not improve from 0.01662\n"
     ]
    }
   ],
   "source": [
    "# VGG_2 train more\n",
    "\n",
    "hist = model.fit_generator(BatchGenerator_withaug(fetcher),\n",
    "                    samples_per_epoch=steps_to_take*6,\n",
    "                    nb_epoch=30,\n",
    "                    verbose=2,\n",
    "                    callbacks=[history,checkpointer,early_stopping],\n",
    "                    validation_data=validGenerator(fetcher),\n",
    "                    validation_steps=val_steps_to_take\n",
    "                   )"
   ]
  },
  {
   "cell_type": "code",
   "execution_count": 29,
   "metadata": {},
   "outputs": [
    {
     "name": "stdout",
     "output_type": "stream",
     "text": [
      "Epoch 1/70\n",
      " - 321s - loss: 0.0117 - val_loss: 0.0419\n",
      "\n",
      "Epoch 00001: val_loss did not improve from 0.01662\n",
      "Epoch 2/70\n",
      " - 321s - loss: 0.0116 - val_loss: 0.0348\n",
      "\n",
      "Epoch 00002: val_loss did not improve from 0.01662\n",
      "Epoch 3/70\n",
      " - 321s - loss: 0.0110 - val_loss: 0.0196\n",
      "\n",
      "Epoch 00003: val_loss did not improve from 0.01662\n",
      "Epoch 4/70\n",
      " - 322s - loss: 0.0112 - val_loss: 0.0279\n",
      "\n",
      "Epoch 00004: val_loss did not improve from 0.01662\n",
      "Epoch 5/70\n",
      " - 322s - loss: 0.0113 - val_loss: 0.0271\n",
      "\n",
      "Epoch 00005: val_loss did not improve from 0.01662\n",
      "Epoch 6/70\n",
      " - 322s - loss: 0.0113 - val_loss: 0.0161\n",
      "\n",
      "Epoch 00006: val_loss improved from 0.01662 to 0.01611, saving model to ./tmp/weights.hdf5\n",
      "Epoch 7/70\n",
      " - 321s - loss: 0.0115 - val_loss: 0.0206\n",
      "\n",
      "Epoch 00007: val_loss did not improve from 0.01611\n",
      "Epoch 8/70\n",
      " - 322s - loss: 0.0113 - val_loss: 0.0222\n",
      "\n",
      "Epoch 00008: val_loss did not improve from 0.01611\n",
      "Epoch 9/70\n",
      " - 322s - loss: 0.0112 - val_loss: 0.0277\n",
      "\n",
      "Epoch 00009: val_loss did not improve from 0.01611\n",
      "Epoch 10/70\n",
      " - 322s - loss: 0.0113 - val_loss: 0.0212\n",
      "\n",
      "Epoch 00010: val_loss did not improve from 0.01611\n",
      "Epoch 11/70\n",
      " - 322s - loss: 0.0111 - val_loss: 0.0245\n",
      "\n",
      "Epoch 00011: val_loss did not improve from 0.01611\n",
      "Epoch 12/70\n",
      " - 322s - loss: 0.0109 - val_loss: 0.0236\n",
      "\n",
      "Epoch 00012: val_loss did not improve from 0.01611\n",
      "Epoch 13/70\n",
      " - 321s - loss: 0.0113 - val_loss: 0.0181\n",
      "\n",
      "Epoch 00013: val_loss did not improve from 0.01611\n",
      "Epoch 14/70\n",
      " - 322s - loss: 0.0113 - val_loss: 0.0211\n",
      "\n",
      "Epoch 00014: val_loss did not improve from 0.01611\n",
      "Epoch 15/70\n",
      " - 322s - loss: 0.0112 - val_loss: 0.0371\n",
      "\n",
      "Epoch 00015: val_loss did not improve from 0.01611\n",
      "Epoch 16/70\n",
      " - 322s - loss: 0.0112 - val_loss: 0.0243\n",
      "\n",
      "Epoch 00016: val_loss did not improve from 0.01611\n",
      "Epoch 17/70\n",
      " - 321s - loss: 0.0108 - val_loss: 0.0250\n",
      "\n",
      "Epoch 00017: val_loss did not improve from 0.01611\n",
      "Epoch 18/70\n",
      " - 322s - loss: 0.0112 - val_loss: 0.0268\n",
      "\n",
      "Epoch 00018: val_loss did not improve from 0.01611\n",
      "Epoch 00018: early stopping\n"
     ]
    }
   ],
   "source": [
    "# VGG_2 train more\n",
    "\n",
    "hist2 = model.fit_generator(BatchGenerator_withaug(fetcher),\n",
    "                    samples_per_epoch=steps_to_take*6,\n",
    "                    nb_epoch=70,\n",
    "                    verbose=2,\n",
    "                    callbacks=[hist,checkpointer,early_stopping],\n",
    "                    validation_data=validGenerator(fetcher),\n",
    "                    validation_steps=val_steps_to_take\n",
    "                   )"
   ]
  },
  {
   "cell_type": "code",
   "execution_count": 19,
   "metadata": {},
   "outputs": [
    {
     "name": "stdout",
     "output_type": "stream",
     "text": [
      "Epoch 1/50\n",
      " - 159s - loss: 0.0321 - val_loss: 0.0221\n",
      "\n",
      "Epoch 00001: val_loss improved from 0.04341 to 0.02207, saving model to ./tmp/myWeights.hdf5\n",
      "Epoch 2/50\n",
      " - 156s - loss: 0.0197 - val_loss: 0.0175\n",
      "\n",
      "Epoch 00002: val_loss improved from 0.02207 to 0.01753, saving model to ./tmp/myWeights.hdf5\n",
      "Epoch 3/50\n",
      " - 156s - loss: 0.0173 - val_loss: 0.0167\n",
      "\n",
      "Epoch 00003: val_loss improved from 0.01753 to 0.01667, saving model to ./tmp/myWeights.hdf5\n",
      "Epoch 4/50\n",
      " - 155s - loss: 0.0164 - val_loss: 0.0180\n",
      "\n",
      "Epoch 00004: val_loss did not improve from 0.01667\n",
      "Epoch 5/50\n",
      " - 155s - loss: 0.0158 - val_loss: 0.0156\n",
      "\n",
      "Epoch 00005: val_loss improved from 0.01667 to 0.01563, saving model to ./tmp/myWeights.hdf5\n",
      "Epoch 6/50\n",
      " - 155s - loss: 0.0155 - val_loss: 0.0144\n",
      "\n",
      "Epoch 00006: val_loss improved from 0.01563 to 0.01440, saving model to ./tmp/myWeights.hdf5\n",
      "Epoch 7/50\n",
      " - 155s - loss: 0.0156 - val_loss: 0.0133\n",
      "\n",
      "Epoch 00007: val_loss improved from 0.01440 to 0.01331, saving model to ./tmp/myWeights.hdf5\n",
      "Epoch 8/50\n",
      " - 155s - loss: 0.0148 - val_loss: 0.0144\n",
      "\n",
      "Epoch 00008: val_loss did not improve from 0.01331\n",
      "Epoch 9/50\n",
      " - 155s - loss: 0.0146 - val_loss: 0.0164\n",
      "\n",
      "Epoch 00009: val_loss did not improve from 0.01331\n",
      "Epoch 10/50\n",
      " - 158s - loss: 0.0147 - val_loss: 0.0144\n",
      "\n",
      "Epoch 00010: val_loss did not improve from 0.01331\n",
      "Epoch 11/50\n",
      " - 160s - loss: 0.0142 - val_loss: 0.0173\n",
      "\n",
      "Epoch 00011: val_loss did not improve from 0.01331\n",
      "Epoch 12/50\n",
      " - 159s - loss: 0.0136 - val_loss: 0.0143\n",
      "\n",
      "Epoch 00012: val_loss did not improve from 0.01331\n",
      "Epoch 13/50\n",
      " - 158s - loss: 0.0138 - val_loss: 0.0143\n",
      "\n",
      "Epoch 00013: val_loss did not improve from 0.01331\n",
      "Epoch 14/50\n",
      " - 158s - loss: 0.0138 - val_loss: 0.0152\n",
      "\n",
      "Epoch 00014: val_loss did not improve from 0.01331\n",
      "Epoch 15/50\n",
      " - 158s - loss: 0.0134 - val_loss: 0.0134\n",
      "\n",
      "Epoch 00015: val_loss did not improve from 0.01331\n",
      "Epoch 16/50\n",
      " - 158s - loss: 0.0135 - val_loss: 0.0136\n",
      "\n",
      "Epoch 00016: val_loss did not improve from 0.01331\n",
      "Epoch 17/50\n",
      " - 158s - loss: 0.0128 - val_loss: 0.0144\n",
      "\n",
      "Epoch 00017: val_loss did not improve from 0.01331\n",
      "Epoch 18/50\n",
      " - 157s - loss: 0.0134 - val_loss: 0.0139\n",
      "\n",
      "Epoch 00018: val_loss did not improve from 0.01331\n",
      "Epoch 19/50\n",
      " - 158s - loss: 0.0130 - val_loss: 0.0120\n",
      "\n",
      "Epoch 00019: val_loss improved from 0.01331 to 0.01201, saving model to ./tmp/myWeights.hdf5\n",
      "Epoch 20/50\n",
      " - 158s - loss: 0.0131 - val_loss: 0.0108\n",
      "\n",
      "Epoch 00020: val_loss improved from 0.01201 to 0.01082, saving model to ./tmp/myWeights.hdf5\n",
      "Epoch 21/50\n",
      " - 158s - loss: 0.0128 - val_loss: 0.0110\n",
      "\n",
      "Epoch 00021: val_loss did not improve from 0.01082\n",
      "Epoch 22/50\n",
      " - 157s - loss: 0.0130 - val_loss: 0.0121\n",
      "\n",
      "Epoch 00022: val_loss did not improve from 0.01082\n",
      "Epoch 23/50\n",
      " - 158s - loss: 0.0131 - val_loss: 0.0115\n",
      "\n",
      "Epoch 00023: val_loss did not improve from 0.01082\n",
      "Epoch 24/50\n",
      " - 159s - loss: 0.0126 - val_loss: 0.0109\n",
      "\n",
      "Epoch 00024: val_loss did not improve from 0.01082\n",
      "Epoch 25/50\n",
      " - 158s - loss: 0.0129 - val_loss: 0.0145\n",
      "\n",
      "Epoch 00025: val_loss did not improve from 0.01082\n",
      "Epoch 26/50\n",
      " - 158s - loss: 0.0122 - val_loss: 0.0126\n",
      "\n",
      "Epoch 00026: val_loss did not improve from 0.01082\n",
      "Epoch 27/50\n",
      " - 159s - loss: 0.0125 - val_loss: 0.0092\n",
      "\n",
      "Epoch 00027: val_loss improved from 0.01082 to 0.00923, saving model to ./tmp/myWeights.hdf5\n",
      "Epoch 28/50\n",
      " - 157s - loss: 0.0120 - val_loss: 0.0124\n",
      "\n",
      "Epoch 00028: val_loss did not improve from 0.00923\n",
      "Epoch 29/50\n",
      " - 158s - loss: 0.0126 - val_loss: 0.0118\n",
      "\n",
      "Epoch 00029: val_loss did not improve from 0.00923\n",
      "Epoch 30/50\n",
      " - 158s - loss: 0.0122 - val_loss: 0.0117\n",
      "\n",
      "Epoch 00030: val_loss did not improve from 0.00923\n",
      "Epoch 31/50\n",
      " - 158s - loss: 0.0118 - val_loss: 0.0141\n",
      "\n",
      "Epoch 00031: val_loss did not improve from 0.00923\n",
      "Epoch 32/50\n",
      " - 160s - loss: 0.0121 - val_loss: 0.0131\n",
      "\n",
      "Epoch 00032: val_loss did not improve from 0.00923\n",
      "Epoch 33/50\n",
      " - 157s - loss: 0.0121 - val_loss: 0.0108\n",
      "\n",
      "Epoch 00033: val_loss did not improve from 0.00923\n",
      "Epoch 34/50\n",
      " - 158s - loss: 0.0122 - val_loss: 0.0124\n",
      "\n",
      "Epoch 00034: val_loss did not improve from 0.00923\n",
      "Epoch 35/50\n",
      " - 158s - loss: 0.0118 - val_loss: 0.0110\n",
      "\n",
      "Epoch 00035: val_loss did not improve from 0.00923\n",
      "Epoch 36/50\n",
      " - 159s - loss: 0.0118 - val_loss: 0.0106\n",
      "\n",
      "Epoch 00036: val_loss did not improve from 0.00923\n",
      "Epoch 37/50\n",
      " - 158s - loss: 0.0118 - val_loss: 0.0135\n",
      "\n",
      "Epoch 00037: val_loss did not improve from 0.00923\n",
      "Epoch 38/50\n",
      " - 159s - loss: 0.0119 - val_loss: 0.0110\n",
      "\n",
      "Epoch 00038: val_loss did not improve from 0.00923\n",
      "Epoch 39/50\n",
      " - 158s - loss: 0.0120 - val_loss: 0.0116\n",
      "\n",
      "Epoch 00039: val_loss did not improve from 0.00923\n",
      "Epoch 00039: early stopping\n"
     ]
    }
   ],
   "source": [
    "# my CNN\n",
    "\n",
    "myhist = myModel.fit_generator(BatchGenerator2(fetcher),\n",
    "                    samples_per_epoch=steps_to_take*6,\n",
    "                    nb_epoch=50,\n",
    "                    verbose=2,\n",
    "                    callbacks=[history,checkpointer,early_stopping],\n",
    "                    validation_data=validGenerator2(fetcher),\n",
    "                    validation_steps=val_steps_to_take\n",
    "                   )"
   ]
  },
  {
   "cell_type": "code",
   "execution_count": 24,
   "metadata": {},
   "outputs": [
    {
     "name": "stdout",
     "output_type": "stream",
     "text": [
      "Epoch 1/50\n",
      " - 156s - loss: 0.0262 - val_loss: 0.0245\n",
      "\n",
      "Epoch 00001: val_loss did not improve from 0.00923\n",
      "Epoch 2/50\n",
      " - 156s - loss: 0.0214 - val_loss: 0.0209\n",
      "\n",
      "Epoch 00002: val_loss did not improve from 0.00923\n",
      "Epoch 3/50\n",
      " - 156s - loss: 0.0198 - val_loss: 0.0208\n",
      "\n",
      "Epoch 00003: val_loss did not improve from 0.00923\n",
      "Epoch 4/50\n",
      " - 156s - loss: 0.0190 - val_loss: 0.0180\n",
      "\n",
      "Epoch 00004: val_loss did not improve from 0.00923\n",
      "Epoch 5/50\n",
      " - 156s - loss: 0.0182 - val_loss: 0.0166\n",
      "\n",
      "Epoch 00005: val_loss did not improve from 0.00923\n",
      "Epoch 6/50\n",
      " - 156s - loss: 0.0180 - val_loss: 0.0153\n",
      "\n",
      "Epoch 00006: val_loss did not improve from 0.00923\n",
      "Epoch 7/50\n",
      " - 156s - loss: 0.0181 - val_loss: 0.0159\n",
      "\n",
      "Epoch 00007: val_loss did not improve from 0.00923\n",
      "Epoch 8/50\n",
      " - 158s - loss: 0.0174 - val_loss: 0.0162\n",
      "\n",
      "Epoch 00008: val_loss did not improve from 0.00923\n",
      "Epoch 9/50\n",
      " - 158s - loss: 0.0170 - val_loss: 0.0174\n",
      "\n",
      "Epoch 00009: val_loss did not improve from 0.00923\n",
      "Epoch 10/50\n",
      " - 158s - loss: 0.0169 - val_loss: 0.0186\n",
      "\n",
      "Epoch 00010: val_loss did not improve from 0.00923\n",
      "Epoch 11/50\n",
      " - 159s - loss: 0.0161 - val_loss: 0.0189\n",
      "\n",
      "Epoch 00011: val_loss did not improve from 0.00923\n",
      "Epoch 12/50\n",
      " - 159s - loss: 0.0157 - val_loss: 0.0186\n",
      "\n",
      "Epoch 00012: val_loss did not improve from 0.00923\n",
      "Epoch 13/50\n",
      " - 158s - loss: 0.0158 - val_loss: 0.0157\n",
      "\n",
      "Epoch 00013: val_loss did not improve from 0.00923\n",
      "Epoch 14/50\n",
      " - 158s - loss: 0.0156 - val_loss: 0.0150\n",
      "\n",
      "Epoch 00014: val_loss did not improve from 0.00923\n",
      "Epoch 15/50\n",
      " - 159s - loss: 0.0155 - val_loss: 0.0151\n",
      "\n",
      "Epoch 00015: val_loss did not improve from 0.00923\n",
      "Epoch 16/50\n",
      " - 158s - loss: 0.0152 - val_loss: 0.0143\n",
      "\n",
      "Epoch 00016: val_loss did not improve from 0.00923\n",
      "Epoch 17/50\n",
      " - 159s - loss: 0.0143 - val_loss: 0.0157\n",
      "\n",
      "Epoch 00017: val_loss did not improve from 0.00923\n",
      "Epoch 18/50\n",
      " - 158s - loss: 0.0152 - val_loss: 0.0167\n",
      "\n",
      "Epoch 00018: val_loss did not improve from 0.00923\n",
      "Epoch 19/50\n",
      " - 158s - loss: 0.0146 - val_loss: 0.0128\n",
      "\n",
      "Epoch 00019: val_loss did not improve from 0.00923\n",
      "Epoch 20/50\n",
      " - 158s - loss: 0.0145 - val_loss: 0.0114\n",
      "\n",
      "Epoch 00020: val_loss did not improve from 0.00923\n",
      "Epoch 21/50\n",
      " - 158s - loss: 0.0145 - val_loss: 0.0146\n",
      "\n",
      "Epoch 00021: val_loss did not improve from 0.00923\n",
      "Epoch 22/50\n",
      " - 158s - loss: 0.0149 - val_loss: 0.0134\n",
      "\n",
      "Epoch 00022: val_loss did not improve from 0.00923\n",
      "Epoch 23/50\n",
      " - 158s - loss: 0.0147 - val_loss: 0.0123\n",
      "\n",
      "Epoch 00023: val_loss did not improve from 0.00923\n",
      "Epoch 24/50\n",
      " - 159s - loss: 0.0142 - val_loss: 0.0106\n",
      "\n",
      "Epoch 00024: val_loss did not improve from 0.00923\n",
      "Epoch 25/50\n",
      " - 158s - loss: 0.0142 - val_loss: 0.0156\n",
      "\n",
      "Epoch 00025: val_loss did not improve from 0.00923\n",
      "Epoch 26/50\n",
      " - 158s - loss: 0.0136 - val_loss: 0.0149\n",
      "\n",
      "Epoch 00026: val_loss did not improve from 0.00923\n",
      "Epoch 27/50\n",
      " - 160s - loss: 0.0141 - val_loss: 0.0111\n",
      "\n",
      "Epoch 00027: val_loss did not improve from 0.00923\n",
      "Epoch 28/50\n",
      " - 158s - loss: 0.0136 - val_loss: 0.0138\n",
      "\n",
      "Epoch 00028: val_loss did not improve from 0.00923\n",
      "Epoch 29/50\n",
      " - 158s - loss: 0.0139 - val_loss: 0.0124\n",
      "\n",
      "Epoch 00029: val_loss did not improve from 0.00923\n",
      "Epoch 30/50\n",
      " - 158s - loss: 0.0132 - val_loss: 0.0147\n",
      "\n",
      "Epoch 00030: val_loss did not improve from 0.00923\n",
      "Epoch 31/50\n",
      " - 159s - loss: 0.0131 - val_loss: 0.0140\n",
      "\n",
      "Epoch 00031: val_loss did not improve from 0.00923\n",
      "Epoch 32/50\n",
      " - 160s - loss: 0.0134 - val_loss: 0.0150\n",
      "\n",
      "Epoch 00032: val_loss did not improve from 0.00923\n",
      "Epoch 33/50\n",
      " - 158s - loss: 0.0136 - val_loss: 0.0127\n",
      "\n",
      "Epoch 00033: val_loss did not improve from 0.00923\n",
      "Epoch 34/50\n",
      " - 158s - loss: 0.0133 - val_loss: 0.0139\n",
      "\n",
      "Epoch 00034: val_loss did not improve from 0.00923\n",
      "Epoch 35/50\n",
      " - 158s - loss: 0.0129 - val_loss: 0.0138\n",
      "\n",
      "Epoch 00035: val_loss did not improve from 0.00923\n",
      "Epoch 36/50\n",
      " - 158s - loss: 0.0130 - val_loss: 0.0115\n",
      "\n",
      "Epoch 00036: val_loss did not improve from 0.00923\n",
      "Epoch 00036: early stopping\n"
     ]
    }
   ],
   "source": [
    "# 增大R通道的数值，但效果不明显\n",
    "\n",
    "myhist2 = myModel.fit_generator(BatchGenerator2(fetcher),\n",
    "                    samples_per_epoch=steps_to_take*6,\n",
    "                    nb_epoch=50,\n",
    "                    verbose=2,\n",
    "                    callbacks=[history,checkpointer,early_stopping],\n",
    "                    validation_data=validGenerator2(fetcher),\n",
    "                    validation_steps=val_steps_to_take\n",
    "                   )"
   ]
  },
  {
   "cell_type": "code",
   "execution_count": 46,
   "metadata": {},
   "outputs": [
    {
     "name": "stdout",
     "output_type": "stream",
     "text": [
      "Epoch 1/50\n",
      " - 112s - loss: 0.0314 - val_loss: 0.0280\n",
      "\n",
      "Epoch 00001: val_loss did not improve from 0.01452\n",
      "Epoch 2/50\n",
      " - 111s - loss: 0.0240 - val_loss: 0.0228\n",
      "\n",
      "Epoch 00002: val_loss did not improve from 0.01452\n",
      "Epoch 3/50\n",
      " - 111s - loss: 0.0218 - val_loss: 0.0224\n",
      "\n",
      "Epoch 00003: val_loss did not improve from 0.01452\n",
      "Epoch 4/50\n",
      " - 111s - loss: 0.0207 - val_loss: 0.0188\n",
      "\n",
      "Epoch 00004: val_loss did not improve from 0.01452\n",
      "Epoch 5/50\n",
      " - 113s - loss: 0.0199 - val_loss: 0.0187\n",
      "\n",
      "Epoch 00005: val_loss did not improve from 0.01452\n",
      "Epoch 6/50\n",
      " - 114s - loss: 0.0199 - val_loss: 0.0177\n",
      "\n",
      "Epoch 00006: val_loss did not improve from 0.01452\n",
      "Epoch 7/50\n",
      " - 114s - loss: 0.0198 - val_loss: 0.0175\n",
      "\n",
      "Epoch 00007: val_loss did not improve from 0.01452\n",
      "Epoch 8/50\n",
      " - 113s - loss: 0.0194 - val_loss: 0.0189\n",
      "\n",
      "Epoch 00008: val_loss did not improve from 0.01452\n",
      "Epoch 9/50\n",
      " - 113s - loss: 0.0188 - val_loss: 0.0175\n",
      "\n",
      "Epoch 00009: val_loss did not improve from 0.01452\n",
      "Epoch 10/50\n",
      " - 114s - loss: 0.0187 - val_loss: 0.0192\n",
      "\n",
      "Epoch 00010: val_loss did not improve from 0.01452\n",
      "Epoch 11/50\n",
      " - 113s - loss: 0.0180 - val_loss: 0.0176\n",
      "\n",
      "Epoch 00011: val_loss did not improve from 0.01452\n",
      "Epoch 12/50\n",
      " - 115s - loss: 0.0178 - val_loss: 0.0207\n",
      "\n",
      "Epoch 00012: val_loss did not improve from 0.01452\n",
      "Epoch 13/50\n",
      " - 115s - loss: 0.0177 - val_loss: 0.0171\n",
      "\n",
      "Epoch 00013: val_loss did not improve from 0.01452\n",
      "Epoch 14/50\n",
      " - 113s - loss: 0.0175 - val_loss: 0.0167\n",
      "\n",
      "Epoch 00014: val_loss did not improve from 0.01452\n",
      "Epoch 15/50\n",
      " - 115s - loss: 0.0176 - val_loss: 0.0169\n",
      "\n",
      "Epoch 00015: val_loss did not improve from 0.01452\n",
      "Epoch 16/50\n",
      " - 113s - loss: 0.0172 - val_loss: 0.0167\n",
      "\n",
      "Epoch 00016: val_loss did not improve from 0.01452\n",
      "Epoch 17/50\n",
      " - 113s - loss: 0.0163 - val_loss: 0.0197\n",
      "\n",
      "Epoch 00017: val_loss did not improve from 0.01452\n",
      "Epoch 18/50\n",
      " - 114s - loss: 0.0172 - val_loss: 0.0196\n",
      "\n",
      "Epoch 00018: val_loss did not improve from 0.01452\n",
      "Epoch 19/50\n",
      " - 113s - loss: 0.0166 - val_loss: 0.0150\n",
      "\n",
      "Epoch 00019: val_loss did not improve from 0.01452\n",
      "Epoch 20/50\n",
      " - 113s - loss: 0.0164 - val_loss: 0.0138\n",
      "\n",
      "Epoch 00020: val_loss improved from 0.01452 to 0.01377, saving model to ./tmp/myWeights.hdf5\n",
      "Epoch 21/50\n",
      " - 114s - loss: 0.0165 - val_loss: 0.0162\n",
      "\n",
      "Epoch 00021: val_loss did not improve from 0.01377\n",
      "Epoch 22/50\n",
      " - 112s - loss: 0.0168 - val_loss: 0.0148\n",
      "\n",
      "Epoch 00022: val_loss did not improve from 0.01377\n",
      "Epoch 23/50\n",
      " - 113s - loss: 0.0170 - val_loss: 0.0132\n",
      "\n",
      "Epoch 00023: val_loss improved from 0.01377 to 0.01316, saving model to ./tmp/myWeights.hdf5\n",
      "Epoch 24/50\n",
      " - 113s - loss: 0.0162 - val_loss: 0.0131\n",
      "\n",
      "Epoch 00024: val_loss improved from 0.01316 to 0.01314, saving model to ./tmp/myWeights.hdf5\n",
      "Epoch 25/50\n",
      " - 114s - loss: 0.0160 - val_loss: 0.0170\n",
      "\n",
      "Epoch 00025: val_loss did not improve from 0.01314\n",
      "Epoch 26/50\n",
      " - 114s - loss: 0.0155 - val_loss: 0.0166\n",
      "\n",
      "Epoch 00026: val_loss did not improve from 0.01314\n",
      "Epoch 27/50\n",
      " - 113s - loss: 0.0159 - val_loss: 0.0137\n",
      "\n",
      "Epoch 00027: val_loss did not improve from 0.01314\n",
      "Epoch 28/50\n",
      " - 113s - loss: 0.0153 - val_loss: 0.0147\n",
      "\n",
      "Epoch 00028: val_loss did not improve from 0.01314\n",
      "Epoch 29/50\n",
      " - 115s - loss: 0.0159 - val_loss: 0.0129\n",
      "\n",
      "Epoch 00029: val_loss improved from 0.01314 to 0.01287, saving model to ./tmp/myWeights.hdf5\n",
      "Epoch 30/50\n",
      " - 117s - loss: 0.0150 - val_loss: 0.0159\n",
      "\n",
      "Epoch 00030: val_loss did not improve from 0.01287\n",
      "Epoch 31/50\n",
      " - 113s - loss: 0.0151 - val_loss: 0.0167\n",
      "\n",
      "Epoch 00031: val_loss did not improve from 0.01287\n",
      "Epoch 32/50\n",
      " - 113s - loss: 0.0150 - val_loss: 0.0179\n",
      "\n",
      "Epoch 00032: val_loss did not improve from 0.01287\n",
      "Epoch 33/50\n",
      " - 113s - loss: 0.0153 - val_loss: 0.0138\n",
      "\n",
      "Epoch 00033: val_loss did not improve from 0.01287\n",
      "Epoch 34/50\n",
      " - 111s - loss: 0.0149 - val_loss: 0.0165\n",
      "\n",
      "Epoch 00034: val_loss did not improve from 0.01287\n",
      "Epoch 35/50\n",
      " - 111s - loss: 0.0145 - val_loss: 0.0151\n",
      "\n",
      "Epoch 00035: val_loss did not improve from 0.01287\n",
      "Epoch 36/50\n",
      " - 111s - loss: 0.0146 - val_loss: 0.0139\n",
      "\n",
      "Epoch 00036: val_loss did not improve from 0.01287\n",
      "Epoch 37/50\n",
      " - 111s - loss: 0.0147 - val_loss: 0.0146\n",
      "\n",
      "Epoch 00037: val_loss did not improve from 0.01287\n",
      "Epoch 38/50\n",
      " - 111s - loss: 0.0148 - val_loss: 0.0123\n",
      "\n",
      "Epoch 00038: val_loss improved from 0.01287 to 0.01231, saving model to ./tmp/myWeights.hdf5\n",
      "Epoch 39/50\n",
      " - 111s - loss: 0.0153 - val_loss: 0.0132\n",
      "\n",
      "Epoch 00039: val_loss did not improve from 0.01231\n",
      "Epoch 40/50\n",
      " - 111s - loss: 0.0145 - val_loss: 0.0150\n",
      "\n",
      "Epoch 00040: val_loss did not improve from 0.01231\n",
      "Epoch 41/50\n",
      " - 111s - loss: 0.0146 - val_loss: 0.0145\n",
      "\n",
      "Epoch 00041: val_loss did not improve from 0.01231\n",
      "Epoch 42/50\n",
      " - 111s - loss: 0.0149 - val_loss: 0.0156\n",
      "\n",
      "Epoch 00042: val_loss did not improve from 0.01231\n",
      "Epoch 43/50\n",
      " - 113s - loss: 0.0142 - val_loss: 0.0130\n",
      "\n",
      "Epoch 00043: val_loss did not improve from 0.01231\n",
      "Epoch 44/50\n",
      " - 113s - loss: 0.0142 - val_loss: 0.0140\n",
      "\n",
      "Epoch 00044: val_loss did not improve from 0.01231\n",
      "Epoch 45/50\n",
      " - 112s - loss: 0.0143 - val_loss: 0.0132\n",
      "\n",
      "Epoch 00045: val_loss did not improve from 0.01231\n",
      "Epoch 46/50\n",
      " - 111s - loss: 0.0143 - val_loss: 0.0132\n",
      "\n",
      "Epoch 00046: val_loss did not improve from 0.01231\n",
      "Epoch 47/50\n",
      " - 111s - loss: 0.0142 - val_loss: 0.0140\n",
      "\n",
      "Epoch 00047: val_loss did not improve from 0.01231\n",
      "Epoch 48/50\n",
      " - 111s - loss: 0.0141 - val_loss: 0.0133\n",
      "\n",
      "Epoch 00048: val_loss did not improve from 0.01231\n",
      "Epoch 49/50\n",
      " - 111s - loss: 0.0133 - val_loss: 0.0148\n",
      "\n",
      "Epoch 00049: val_loss did not improve from 0.01231\n",
      "Epoch 50/50\n",
      " - 111s - loss: 0.0143 - val_loss: 0.0155\n",
      "\n",
      "Epoch 00050: val_loss did not improve from 0.01231\n",
      "Epoch 00050: early stopping\n"
     ]
    }
   ],
   "source": [
    "# 调小了learning rate\n",
    "\n",
    "myhist2 = myModel.fit_generator(BatchGenerator2(fetcher),\n",
    "                    samples_per_epoch=steps_to_take*6,\n",
    "                    nb_epoch=50,\n",
    "                    verbose=2,\n",
    "                    callbacks=[history,checkpointer,early_stopping],\n",
    "                    validation_data=validGenerator2(fetcher),\n",
    "                    validation_steps=val_steps_to_take\n",
    "                   )"
   ]
  },
  {
   "cell_type": "code",
   "execution_count": 50,
   "metadata": {},
   "outputs": [
    {
     "name": "stdout",
     "output_type": "stream",
     "text": [
      "Epoch 1/50\n",
      " - 114s - loss: 0.0310 - val_loss: 0.0286\n",
      "\n",
      "Epoch 00001: val_loss improved from inf to 0.02859, saving model to ./tmp/myWeights.hdf5\n",
      "Epoch 2/50\n",
      " - 113s - loss: 0.0241 - val_loss: 0.0230\n",
      "\n",
      "Epoch 00002: val_loss improved from 0.02859 to 0.02295, saving model to ./tmp/myWeights.hdf5\n",
      "Epoch 3/50\n",
      " - 113s - loss: 0.0217 - val_loss: 0.0224\n",
      "\n",
      "Epoch 00003: val_loss improved from 0.02295 to 0.02236, saving model to ./tmp/myWeights.hdf5\n",
      "Epoch 4/50\n",
      " - 113s - loss: 0.0205 - val_loss: 0.0188\n",
      "\n",
      "Epoch 00004: val_loss improved from 0.02236 to 0.01876, saving model to ./tmp/myWeights.hdf5\n",
      "Epoch 5/50\n",
      " - 113s - loss: 0.0199 - val_loss: 0.0176\n",
      "\n",
      "Epoch 00005: val_loss improved from 0.01876 to 0.01755, saving model to ./tmp/myWeights.hdf5\n",
      "Epoch 6/50\n",
      " - 113s - loss: 0.0197 - val_loss: 0.0175\n",
      "\n",
      "Epoch 00006: val_loss improved from 0.01755 to 0.01748, saving model to ./tmp/myWeights.hdf5\n",
      "Epoch 7/50\n",
      " - 113s - loss: 0.0196 - val_loss: 0.0168\n",
      "\n",
      "Epoch 00007: val_loss improved from 0.01748 to 0.01677, saving model to ./tmp/myWeights.hdf5\n",
      "Epoch 8/50\n",
      " - 113s - loss: 0.0191 - val_loss: 0.0190\n",
      "\n",
      "Epoch 00008: val_loss did not improve from 0.01677\n",
      "Epoch 9/50\n",
      " - 113s - loss: 0.0184 - val_loss: 0.0175\n",
      "\n",
      "Epoch 00009: val_loss did not improve from 0.01677\n",
      "Epoch 10/50\n",
      " - 113s - loss: 0.0183 - val_loss: 0.0194\n",
      "\n",
      "Epoch 00010: val_loss did not improve from 0.01677\n",
      "Epoch 11/50\n",
      " - 113s - loss: 0.0176 - val_loss: 0.0177\n",
      "\n",
      "Epoch 00011: val_loss did not improve from 0.01677\n",
      "Epoch 12/50\n",
      " - 113s - loss: 0.0174 - val_loss: 0.0203\n",
      "\n",
      "Epoch 00012: val_loss did not improve from 0.01677\n",
      "Epoch 13/50\n",
      " - 113s - loss: 0.0173 - val_loss: 0.0169\n",
      "\n",
      "Epoch 00013: val_loss did not improve from 0.01677\n",
      "Epoch 14/50\n",
      " - 113s - loss: 0.0170 - val_loss: 0.0168\n",
      "\n",
      "Epoch 00014: val_loss did not improve from 0.01677\n",
      "Epoch 15/50\n",
      " - 113s - loss: 0.0171 - val_loss: 0.0161\n",
      "\n",
      "Epoch 00015: val_loss improved from 0.01677 to 0.01609, saving model to ./tmp/myWeights.hdf5\n",
      "Epoch 16/50\n",
      " - 113s - loss: 0.0167 - val_loss: 0.0167\n",
      "\n",
      "Epoch 00016: val_loss did not improve from 0.01609\n",
      "Epoch 17/50\n",
      " - 113s - loss: 0.0157 - val_loss: 0.0189\n",
      "\n",
      "Epoch 00017: val_loss did not improve from 0.01609\n",
      "Epoch 18/50\n",
      " - 113s - loss: 0.0166 - val_loss: 0.0187\n",
      "\n",
      "Epoch 00018: val_loss did not improve from 0.01609\n",
      "Epoch 19/50\n",
      " - 115s - loss: 0.0160 - val_loss: 0.0139\n",
      "\n",
      "Epoch 00019: val_loss improved from 0.01609 to 0.01387, saving model to ./tmp/myWeights.hdf5\n",
      "Epoch 20/50\n",
      " - 115s - loss: 0.0159 - val_loss: 0.0133\n",
      "\n",
      "Epoch 00020: val_loss improved from 0.01387 to 0.01326, saving model to ./tmp/myWeights.hdf5\n",
      "Epoch 21/50\n",
      " - 116s - loss: 0.0159 - val_loss: 0.0142\n",
      "\n",
      "Epoch 00021: val_loss did not improve from 0.01326\n",
      "Epoch 22/50\n",
      " - 115s - loss: 0.0162 - val_loss: 0.0148\n",
      "\n",
      "Epoch 00022: val_loss did not improve from 0.01326\n",
      "Epoch 23/50\n",
      " - 115s - loss: 0.0162 - val_loss: 0.0121\n",
      "\n",
      "Epoch 00023: val_loss improved from 0.01326 to 0.01207, saving model to ./tmp/myWeights.hdf5\n",
      "Epoch 24/50\n",
      " - 115s - loss: 0.0155 - val_loss: 0.0124\n",
      "\n",
      "Epoch 00024: val_loss did not improve from 0.01207\n",
      "Epoch 25/50\n",
      " - 115s - loss: 0.0155 - val_loss: 0.0161\n",
      "\n",
      "Epoch 00025: val_loss did not improve from 0.01207\n",
      "Epoch 26/50\n",
      " - 116s - loss: 0.0149 - val_loss: 0.0157\n",
      "\n",
      "Epoch 00026: val_loss did not improve from 0.01207\n",
      "Epoch 27/50\n",
      " - 116s - loss: 0.0152 - val_loss: 0.0127\n",
      "\n",
      "Epoch 00027: val_loss did not improve from 0.01207\n",
      "Epoch 28/50\n",
      " - 116s - loss: 0.0148 - val_loss: 0.0146\n",
      "\n",
      "Epoch 00028: val_loss did not improve from 0.01207\n",
      "Epoch 29/50\n",
      " - 117s - loss: 0.0153 - val_loss: 0.0132\n",
      "\n",
      "Epoch 00029: val_loss did not improve from 0.01207\n",
      "Epoch 30/50\n",
      " - 115s - loss: 0.0145 - val_loss: 0.0165\n",
      "\n",
      "Epoch 00030: val_loss did not improve from 0.01207\n",
      "Epoch 31/50\n",
      " - 115s - loss: 0.0144 - val_loss: 0.0149\n",
      "\n",
      "Epoch 00031: val_loss did not improve from 0.01207\n",
      "Epoch 32/50\n",
      " - 115s - loss: 0.0145 - val_loss: 0.0173\n",
      "\n",
      "Epoch 00032: val_loss did not improve from 0.01207\n",
      "Epoch 33/50\n",
      " - 115s - loss: 0.0147 - val_loss: 0.0127\n",
      "\n",
      "Epoch 00033: val_loss did not improve from 0.01207\n",
      "Epoch 34/50\n",
      " - 114s - loss: 0.0142 - val_loss: 0.0149\n",
      "\n",
      "Epoch 00034: val_loss did not improve from 0.01207\n",
      "Epoch 35/50\n",
      " - 113s - loss: 0.0139 - val_loss: 0.0157\n",
      "\n",
      "Epoch 00035: val_loss did not improve from 0.01207\n",
      "Epoch 00035: early stopping\n"
     ]
    }
   ],
   "source": [
    "# 加深了模型深度\n",
    "\n",
    "myhist3 = myModel.fit_generator(BatchGenerator2(fetcher),\n",
    "                    samples_per_epoch=steps_to_take*6,\n",
    "                    nb_epoch=50,\n",
    "                    verbose=2,\n",
    "                    callbacks=[history,checkpointer,early_stopping],\n",
    "                    validation_data=validGenerator2(fetcher),\n",
    "                    validation_steps=val_steps_to_take\n",
    "                   )"
   ]
  },
  {
   "cell_type": "code",
   "execution_count": 58,
   "metadata": {},
   "outputs": [
    {
     "name": "stdout",
     "output_type": "stream",
     "text": [
      "Epoch 1/50\n",
      " - 370s - loss: 0.0291 - val_loss: 0.0279\n",
      "\n",
      "Epoch 00001: val_loss did not improve from 0.02178\n",
      "Epoch 2/50\n",
      " - 367s - loss: 0.0238 - val_loss: 0.0242\n",
      "\n",
      "Epoch 00002: val_loss did not improve from 0.02178\n",
      "Epoch 3/50\n",
      " - 367s - loss: 0.0220 - val_loss: 0.0231\n",
      "\n",
      "Epoch 00003: val_loss did not improve from 0.02178\n",
      "Epoch 4/50\n",
      " - 367s - loss: 0.0209 - val_loss: 0.0194\n",
      "\n",
      "Epoch 00004: val_loss improved from 0.02178 to 0.01942, saving model to ./tmp/myWeights.hdf5\n",
      "Epoch 5/50\n",
      " - 368s - loss: 0.0201 - val_loss: 0.0185\n",
      "\n",
      "Epoch 00005: val_loss improved from 0.01942 to 0.01848, saving model to ./tmp/myWeights.hdf5\n",
      "Epoch 6/50\n",
      " - 368s - loss: 0.0200 - val_loss: 0.0182\n",
      "\n",
      "Epoch 00006: val_loss improved from 0.01848 to 0.01820, saving model to ./tmp/myWeights.hdf5\n",
      "Epoch 7/50\n",
      " - 367s - loss: 0.0198 - val_loss: 0.0176\n",
      "\n",
      "Epoch 00007: val_loss improved from 0.01820 to 0.01763, saving model to ./tmp/myWeights.hdf5\n",
      "Epoch 8/50\n",
      " - 368s - loss: 0.0194 - val_loss: 0.0193\n",
      "\n",
      "Epoch 00008: val_loss did not improve from 0.01763\n",
      "Epoch 9/50\n",
      " - 367s - loss: 0.0188 - val_loss: 0.0184\n",
      "\n",
      "Epoch 00009: val_loss did not improve from 0.01763\n",
      "Epoch 10/50\n",
      " - 367s - loss: 0.0187 - val_loss: 0.0199\n",
      "\n",
      "Epoch 00010: val_loss did not improve from 0.01763\n",
      "Epoch 11/50\n",
      " - 367s - loss: 0.0180 - val_loss: 0.0184\n",
      "\n",
      "Epoch 00011: val_loss did not improve from 0.01763\n",
      "Epoch 12/50\n",
      " - 367s - loss: 0.0178 - val_loss: 0.0205\n",
      "\n",
      "Epoch 00012: val_loss did not improve from 0.01763\n",
      "Epoch 13/50\n",
      " - 368s - loss: 0.0177 - val_loss: 0.0172\n",
      "\n",
      "Epoch 00013: val_loss improved from 0.01763 to 0.01715, saving model to ./tmp/myWeights.hdf5\n",
      "Epoch 14/50\n",
      " - 363s - loss: 0.0173 - val_loss: 0.0179\n",
      "\n",
      "Epoch 00014: val_loss did not improve from 0.01715\n",
      "Epoch 15/50\n",
      " - 362s - loss: 0.0175 - val_loss: 0.0163\n",
      "\n",
      "Epoch 00015: val_loss improved from 0.01715 to 0.01626, saving model to ./tmp/myWeights.hdf5\n",
      "Epoch 16/50\n",
      " - 363s - loss: 0.0171 - val_loss: 0.0160\n",
      "\n",
      "Epoch 00016: val_loss improved from 0.01626 to 0.01601, saving model to ./tmp/myWeights.hdf5\n",
      "Epoch 17/50\n",
      " - 363s - loss: 0.0162 - val_loss: 0.0185\n",
      "\n",
      "Epoch 00017: val_loss did not improve from 0.01601\n",
      "Epoch 18/50\n",
      " - 362s - loss: 0.0171 - val_loss: 0.0196\n",
      "\n",
      "Epoch 00018: val_loss did not improve from 0.01601\n",
      "Epoch 19/50\n",
      " - 362s - loss: 0.0165 - val_loss: 0.0151\n",
      "\n",
      "Epoch 00019: val_loss improved from 0.01601 to 0.01506, saving model to ./tmp/myWeights.hdf5\n",
      "Epoch 20/50\n",
      " - 363s - loss: 0.0162 - val_loss: 0.0138\n",
      "\n",
      "Epoch 00020: val_loss improved from 0.01506 to 0.01382, saving model to ./tmp/myWeights.hdf5\n",
      "Epoch 21/50\n",
      " - 364s - loss: 0.0163 - val_loss: 0.0156\n",
      "\n",
      "Epoch 00021: val_loss did not improve from 0.01382\n",
      "Epoch 22/50\n",
      " - 365s - loss: 0.0167 - val_loss: 0.0145\n",
      "\n",
      "Epoch 00022: val_loss did not improve from 0.01382\n",
      "Epoch 23/50\n",
      " - 362s - loss: 0.0168 - val_loss: 0.0129\n",
      "\n",
      "Epoch 00023: val_loss improved from 0.01382 to 0.01295, saving model to ./tmp/myWeights.hdf5\n",
      "Epoch 24/50\n",
      " - 362s - loss: 0.0161 - val_loss: 0.0130\n",
      "\n",
      "Epoch 00024: val_loss did not improve from 0.01295\n",
      "Epoch 25/50\n",
      " - 363s - loss: 0.0159 - val_loss: 0.0163\n",
      "\n",
      "Epoch 00025: val_loss did not improve from 0.01295\n",
      "Epoch 26/50\n",
      " - 362s - loss: 0.0154 - val_loss: 0.0162\n",
      "\n",
      "Epoch 00026: val_loss did not improve from 0.01295\n",
      "Epoch 27/50\n",
      " - 363s - loss: 0.0158 - val_loss: 0.0148\n",
      "\n",
      "Epoch 00027: val_loss did not improve from 0.01295\n",
      "Epoch 28/50\n",
      " - 363s - loss: 0.0152 - val_loss: 0.0149\n",
      "\n",
      "Epoch 00028: val_loss did not improve from 0.01295\n",
      "Epoch 29/50\n",
      " - 362s - loss: 0.0158 - val_loss: 0.0146\n",
      "\n",
      "Epoch 00029: val_loss did not improve from 0.01295\n",
      "Epoch 30/50\n",
      " - 362s - loss: 0.0150 - val_loss: 0.0167\n",
      "\n",
      "Epoch 00030: val_loss did not improve from 0.01295\n",
      "Epoch 31/50\n",
      " - 362s - loss: 0.0150 - val_loss: 0.0168\n",
      "\n",
      "Epoch 00031: val_loss did not improve from 0.01295\n",
      "Epoch 32/50\n",
      " - 363s - loss: 0.0149 - val_loss: 0.0176\n",
      "\n",
      "Epoch 00032: val_loss did not improve from 0.01295\n",
      "Epoch 33/50\n",
      " - 362s - loss: 0.0152 - val_loss: 0.0132\n",
      "\n",
      "Epoch 00033: val_loss did not improve from 0.01295\n",
      "Epoch 34/50\n",
      " - 362s - loss: 0.0148 - val_loss: 0.0165\n",
      "\n",
      "Epoch 00034: val_loss did not improve from 0.01295\n",
      "Epoch 35/50\n",
      " - 363s - loss: 0.0144 - val_loss: 0.0159\n",
      "\n",
      "Epoch 00035: val_loss did not improve from 0.01295\n",
      "Epoch 00035: early stopping\n"
     ]
    }
   ],
   "source": [
    "# 加深了模型深度*2\n",
    "\n",
    "myhist4 = myModel.fit_generator(BatchGenerator2(fetcher),\n",
    "                    samples_per_epoch=steps_to_take*6,\n",
    "                    nb_epoch=50,\n",
    "                    verbose=2,\n",
    "                    callbacks=[history,checkpointer,early_stopping],\n",
    "                    validation_data=validGenerator2(fetcher),\n",
    "                    validation_steps=val_steps_to_take\n",
    "                   )"
   ]
  },
  {
   "cell_type": "code",
   "execution_count": 65,
   "metadata": {},
   "outputs": [
    {
     "name": "stdout",
     "output_type": "stream",
     "text": [
      "Epoch 1/50\n",
      " - 373s - loss: 0.0265 - val_loss: 0.0240\n",
      "\n",
      "Epoch 00001: val_loss did not improve from 0.01295\n",
      "Epoch 2/50\n",
      " - 370s - loss: 0.0208 - val_loss: 0.0200\n",
      "\n",
      "Epoch 00002: val_loss did not improve from 0.01295\n",
      "Epoch 3/50\n",
      " - 370s - loss: 0.0194 - val_loss: 0.0204\n",
      "\n",
      "Epoch 00003: val_loss did not improve from 0.01295\n",
      "Epoch 4/50\n",
      " - 370s - loss: 0.0184 - val_loss: 0.0174\n",
      "\n",
      "Epoch 00004: val_loss did not improve from 0.01295\n",
      "Epoch 5/50\n",
      " - 370s - loss: 0.0176 - val_loss: 0.0163\n",
      "\n",
      "Epoch 00005: val_loss did not improve from 0.01295\n",
      "Epoch 6/50\n",
      " - 370s - loss: 0.0175 - val_loss: 0.0159\n",
      "\n",
      "Epoch 00006: val_loss did not improve from 0.01295\n",
      "Epoch 7/50\n",
      " - 370s - loss: 0.0175 - val_loss: 0.0158\n",
      "\n",
      "Epoch 00007: val_loss did not improve from 0.01295\n",
      "Epoch 8/50\n",
      " - 370s - loss: 0.0168 - val_loss: 0.0166\n",
      "\n",
      "Epoch 00008: val_loss did not improve from 0.01295\n",
      "Epoch 9/50\n",
      " - 369s - loss: 0.0165 - val_loss: 0.0172\n",
      "\n",
      "Epoch 00009: val_loss did not improve from 0.01295\n",
      "Epoch 10/50\n",
      " - 370s - loss: 0.0164 - val_loss: 0.0169\n",
      "\n",
      "Epoch 00010: val_loss did not improve from 0.01295\n",
      "Epoch 11/50\n",
      " - 370s - loss: 0.0156 - val_loss: 0.0190\n",
      "\n",
      "Epoch 00011: val_loss did not improve from 0.01295\n",
      "Epoch 12/50\n",
      " - 370s - loss: 0.0153 - val_loss: 0.0169\n",
      "\n",
      "Epoch 00012: val_loss did not improve from 0.01295\n",
      "Epoch 13/50\n",
      " - 370s - loss: 0.0154 - val_loss: 0.0152\n",
      "\n",
      "Epoch 00013: val_loss did not improve from 0.01295\n",
      "Epoch 14/50\n",
      " - 370s - loss: 0.0153 - val_loss: 0.0149\n",
      "\n",
      "Epoch 00014: val_loss did not improve from 0.01295\n",
      "Epoch 15/50\n",
      " - 370s - loss: 0.0151 - val_loss: 0.0151\n",
      "\n",
      "Epoch 00015: val_loss did not improve from 0.01295\n",
      "Epoch 16/50\n",
      " - 370s - loss: 0.0147 - val_loss: 0.0136\n",
      "\n",
      "Epoch 00016: val_loss did not improve from 0.01295\n",
      "Epoch 17/50\n",
      " - 370s - loss: 0.0140 - val_loss: 0.0167\n",
      "\n",
      "Epoch 00017: val_loss did not improve from 0.01295\n",
      "Epoch 18/50\n",
      " - 370s - loss: 0.0148 - val_loss: 0.0180\n",
      "\n",
      "Epoch 00018: val_loss did not improve from 0.01295\n",
      "Epoch 19/50\n",
      " - 370s - loss: 0.0143 - val_loss: 0.0128\n",
      "\n",
      "Epoch 00019: val_loss improved from 0.01295 to 0.01278, saving model to ./tmp/myWeights.hdf5\n",
      "Epoch 20/50\n",
      " - 378s - loss: 0.0142 - val_loss: 0.0119\n",
      "\n",
      "Epoch 00020: val_loss improved from 0.01278 to 0.01186, saving model to ./tmp/myWeights.hdf5\n",
      "Epoch 21/50\n",
      " - 370s - loss: 0.0143 - val_loss: 0.0127\n",
      "\n",
      "Epoch 00021: val_loss did not improve from 0.01186\n",
      "Epoch 22/50\n",
      " - 370s - loss: 0.0145 - val_loss: 0.0137\n",
      "\n",
      "Epoch 00022: val_loss did not improve from 0.01186\n",
      "Epoch 23/50\n",
      " - 379s - loss: 0.0144 - val_loss: 0.0121\n",
      "\n",
      "Epoch 00023: val_loss did not improve from 0.01186\n",
      "Epoch 24/50\n",
      " - 370s - loss: 0.0140 - val_loss: 0.0114\n",
      "\n",
      "Epoch 00024: val_loss improved from 0.01186 to 0.01140, saving model to ./tmp/myWeights.hdf5\n",
      "Epoch 25/50\n",
      " - 369s - loss: 0.0139 - val_loss: 0.0155\n",
      "\n",
      "Epoch 00025: val_loss did not improve from 0.01140\n",
      "Epoch 26/50\n",
      " - 369s - loss: 0.0134 - val_loss: 0.0147\n",
      "\n",
      "Epoch 00026: val_loss did not improve from 0.01140\n",
      "Epoch 27/50\n",
      " - 370s - loss: 0.0137 - val_loss: 0.0112\n",
      "\n",
      "Epoch 00027: val_loss improved from 0.01140 to 0.01124, saving model to ./tmp/myWeights.hdf5\n",
      "Epoch 28/50\n",
      " - 369s - loss: 0.0133 - val_loss: 0.0136\n",
      "\n",
      "Epoch 00028: val_loss did not improve from 0.01124\n",
      "Epoch 29/50\n",
      " - 370s - loss: 0.0138 - val_loss: 0.0125\n",
      "\n",
      "Epoch 00029: val_loss did not improve from 0.01124\n",
      "Epoch 30/50\n",
      " - 370s - loss: 0.0129 - val_loss: 0.0146\n",
      "\n",
      "Epoch 00030: val_loss did not improve from 0.01124\n",
      "Epoch 31/50\n",
      " - 370s - loss: 0.0129 - val_loss: 0.0138\n",
      "\n",
      "Epoch 00031: val_loss did not improve from 0.01124\n",
      "Epoch 32/50\n",
      " - 370s - loss: 0.0130 - val_loss: 0.0162\n",
      "\n",
      "Epoch 00032: val_loss did not improve from 0.01124\n",
      "Epoch 33/50\n",
      " - 370s - loss: 0.0133 - val_loss: 0.0121\n",
      "\n",
      "Epoch 00033: val_loss did not improve from 0.01124\n",
      "Epoch 34/50\n",
      " - 369s - loss: 0.0131 - val_loss: 0.0138\n",
      "\n",
      "Epoch 00034: val_loss did not improve from 0.01124\n",
      "Epoch 35/50\n",
      " - 370s - loss: 0.0126 - val_loss: 0.0137\n",
      "\n",
      "Epoch 00035: val_loss did not improve from 0.01124\n",
      "Epoch 36/50\n",
      " - 370s - loss: 0.0128 - val_loss: 0.0124\n",
      "\n",
      "Epoch 00036: val_loss did not improve from 0.01124\n",
      "Epoch 37/50\n",
      " - 370s - loss: 0.0128 - val_loss: 0.0130\n",
      "\n",
      "Epoch 00037: val_loss did not improve from 0.01124\n",
      "Epoch 38/50\n",
      " - 370s - loss: 0.0130 - val_loss: 0.0115\n",
      "\n",
      "Epoch 00038: val_loss did not improve from 0.01124\n",
      "Epoch 39/50\n",
      " - 369s - loss: 0.0133 - val_loss: 0.0111\n",
      "\n",
      "Epoch 00039: val_loss improved from 0.01124 to 0.01110, saving model to ./tmp/myWeights.hdf5\n",
      "Epoch 40/50\n",
      " - 366s - loss: 0.0127 - val_loss: 0.0130\n",
      "\n",
      "Epoch 00040: val_loss did not improve from 0.01110\n",
      "Epoch 41/50\n",
      " - 366s - loss: 0.0129 - val_loss: 0.0132\n",
      "\n",
      "Epoch 00041: val_loss did not improve from 0.01110\n",
      "Epoch 42/50\n",
      " - 365s - loss: 0.0129 - val_loss: 0.0129\n",
      "\n",
      "Epoch 00042: val_loss did not improve from 0.01110\n",
      "Epoch 43/50\n",
      " - 366s - loss: 0.0123 - val_loss: 0.0129\n",
      "\n",
      "Epoch 00043: val_loss did not improve from 0.01110\n",
      "Epoch 44/50\n",
      " - 365s - loss: 0.0122 - val_loss: 0.0133\n",
      "\n",
      "Epoch 00044: val_loss did not improve from 0.01110\n",
      "Epoch 45/50\n",
      " - 365s - loss: 0.0125 - val_loss: 0.0128\n",
      "\n",
      "Epoch 00045: val_loss did not improve from 0.01110\n",
      "Epoch 46/50\n",
      " - 365s - loss: 0.0126 - val_loss: 0.0106\n",
      "\n",
      "Epoch 00046: val_loss improved from 0.01110 to 0.01064, saving model to ./tmp/myWeights.hdf5\n",
      "Epoch 47/50\n",
      " - 374s - loss: 0.0124 - val_loss: 0.0122\n",
      "\n",
      "Epoch 00047: val_loss did not improve from 0.01064\n",
      "Epoch 48/50\n",
      " - 366s - loss: 0.0122 - val_loss: 0.0111\n",
      "\n",
      "Epoch 00048: val_loss did not improve from 0.01064\n",
      "Epoch 49/50\n",
      " - 365s - loss: 0.0117 - val_loss: 0.0120\n",
      "\n",
      "Epoch 00049: val_loss did not improve from 0.01064\n",
      "Epoch 50/50\n",
      " - 365s - loss: 0.0122 - val_loss: 0.0132\n",
      "\n",
      "Epoch 00050: val_loss did not improve from 0.01064\n"
     ]
    }
   ],
   "source": [
    "# 调大了learning rate，减小了dropout\n",
    "\n",
    "myhist5 = myModel.fit_generator(BatchGenerator2(fetcher),\n",
    "                    samples_per_epoch=steps_to_take*6,\n",
    "                    nb_epoch=50,\n",
    "                    verbose=2,\n",
    "                    callbacks=[history,checkpointer,early_stopping],\n",
    "                    validation_data=validGenerator2(fetcher),\n",
    "                    validation_steps=val_steps_to_take\n",
    "                   )"
   ]
  },
  {
   "cell_type": "code",
   "execution_count": 66,
   "metadata": {},
   "outputs": [
    {
     "name": "stdout",
     "output_type": "stream",
     "text": [
      "Epoch 1/50\n",
      " - 365s - loss: 0.0119 - val_loss: 0.0134\n",
      "\n",
      "Epoch 00001: val_loss did not improve from 0.01064\n",
      "Epoch 2/50\n",
      " - 366s - loss: 0.0118 - val_loss: 0.0118\n",
      "\n",
      "Epoch 00002: val_loss did not improve from 0.01064\n",
      "Epoch 3/50\n",
      " - 365s - loss: 0.0112 - val_loss: 0.0121\n",
      "\n",
      "Epoch 00003: val_loss did not improve from 0.01064\n",
      "Epoch 4/50\n",
      " - 365s - loss: 0.0116 - val_loss: 0.0114\n",
      "\n",
      "Epoch 00004: val_loss did not improve from 0.01064\n",
      "Epoch 5/50\n",
      " - 365s - loss: 0.0115 - val_loss: 0.0110\n",
      "\n",
      "Epoch 00005: val_loss did not improve from 0.01064\n",
      "Epoch 6/50\n",
      " - 364s - loss: 0.0117 - val_loss: 0.0117\n",
      "\n",
      "Epoch 00006: val_loss did not improve from 0.01064\n",
      "Epoch 7/50\n",
      " - 365s - loss: 0.0119 - val_loss: 0.0115\n",
      "\n",
      "Epoch 00007: val_loss did not improve from 0.01064\n",
      "Epoch 8/50\n",
      " - 364s - loss: 0.0114 - val_loss: 0.0132\n",
      "\n",
      "Epoch 00008: val_loss did not improve from 0.01064\n",
      "Epoch 9/50\n",
      " - 364s - loss: 0.0116 - val_loss: 0.0130\n",
      "\n",
      "Epoch 00009: val_loss did not improve from 0.01064\n",
      "Epoch 10/50\n",
      " - 364s - loss: 0.0116 - val_loss: 0.0124\n",
      "\n",
      "Epoch 00010: val_loss did not improve from 0.01064\n",
      "Epoch 11/50\n",
      " - 364s - loss: 0.0113 - val_loss: 0.0153\n",
      "\n",
      "Epoch 00011: val_loss did not improve from 0.01064\n",
      "Epoch 12/50\n",
      " - 364s - loss: 0.0109 - val_loss: 0.0133\n",
      "\n",
      "Epoch 00012: val_loss did not improve from 0.01064\n",
      "Epoch 13/50\n",
      " - 364s - loss: 0.0114 - val_loss: 0.0124\n",
      "\n",
      "Epoch 00013: val_loss did not improve from 0.01064\n",
      "Epoch 14/50\n",
      " - 364s - loss: 0.0115 - val_loss: 0.0108\n",
      "\n",
      "Epoch 00014: val_loss did not improve from 0.01064\n",
      "Epoch 15/50\n",
      " - 366s - loss: 0.0113 - val_loss: 0.0121\n",
      "\n",
      "Epoch 00015: val_loss did not improve from 0.01064\n",
      "Epoch 16/50\n",
      " - 367s - loss: 0.0111 - val_loss: 0.0113\n",
      "\n",
      "Epoch 00016: val_loss did not improve from 0.01064\n",
      "Epoch 17/50\n",
      " - 365s - loss: 0.0106 - val_loss: 0.0131\n",
      "\n",
      "Epoch 00017: val_loss did not improve from 0.01064\n",
      "Epoch 18/50\n",
      " - 365s - loss: 0.0111 - val_loss: 0.0128\n",
      "\n",
      "Epoch 00018: val_loss did not improve from 0.01064\n",
      "Epoch 19/50\n",
      " - 365s - loss: 0.0117 - val_loss: 0.0114\n",
      "\n",
      "Epoch 00019: val_loss did not improve from 0.01064\n",
      "Epoch 20/50\n",
      " - 366s - loss: 0.0118 - val_loss: 0.0105\n",
      "\n",
      "Epoch 00020: val_loss improved from 0.01064 to 0.01052, saving model to ./tmp/myWeights.hdf5\n",
      "Epoch 21/50\n",
      " - 364s - loss: 0.0118 - val_loss: 0.0100\n",
      "\n",
      "Epoch 00021: val_loss improved from 0.01052 to 0.01003, saving model to ./tmp/myWeights.hdf5\n",
      "Epoch 22/50\n",
      " - 366s - loss: 0.0118 - val_loss: 0.0113\n",
      "\n",
      "Epoch 00022: val_loss did not improve from 0.01003\n",
      "Epoch 23/50\n",
      " - 366s - loss: 0.0118 - val_loss: 0.0103\n",
      "\n",
      "Epoch 00023: val_loss did not improve from 0.01003\n",
      "Epoch 24/50\n",
      " - 364s - loss: 0.0116 - val_loss: 0.0100\n",
      "\n",
      "Epoch 00024: val_loss improved from 0.01003 to 0.01001, saving model to ./tmp/myWeights.hdf5\n",
      "Epoch 25/50\n",
      " - 373s - loss: 0.0117 - val_loss: 0.0128\n",
      "\n",
      "Epoch 00025: val_loss did not improve from 0.01001\n",
      "Epoch 26/50\n",
      " - 364s - loss: 0.0112 - val_loss: 0.0120\n",
      "\n",
      "Epoch 00026: val_loss did not improve from 0.01001\n",
      "Epoch 27/50\n",
      " - 366s - loss: 0.0115 - val_loss: 0.0095\n",
      "\n",
      "Epoch 00027: val_loss improved from 0.01001 to 0.00951, saving model to ./tmp/myWeights.hdf5\n",
      "Epoch 28/50\n",
      " - 365s - loss: 0.0112 - val_loss: 0.0117\n",
      "\n",
      "Epoch 00028: val_loss did not improve from 0.00951\n",
      "Epoch 29/50\n",
      " - 365s - loss: 0.0118 - val_loss: 0.0114\n",
      "\n",
      "Epoch 00029: val_loss did not improve from 0.00951\n",
      "Epoch 30/50\n",
      " - 366s - loss: 0.0111 - val_loss: 0.0119\n",
      "\n",
      "Epoch 00030: val_loss did not improve from 0.00951\n",
      "Epoch 31/50\n",
      " - 364s - loss: 0.0109 - val_loss: 0.0131\n",
      "\n",
      "Epoch 00031: val_loss did not improve from 0.00951\n",
      "Epoch 32/50\n",
      " - 366s - loss: 0.0112 - val_loss: 0.0132\n",
      "\n",
      "Epoch 00032: val_loss did not improve from 0.00951\n",
      "Epoch 33/50\n",
      " - 365s - loss: 0.0109 - val_loss: 0.0106\n",
      "\n",
      "Epoch 00033: val_loss did not improve from 0.00951\n",
      "Epoch 34/50\n",
      " - 365s - loss: 0.0109 - val_loss: 0.0116\n",
      "\n",
      "Epoch 00034: val_loss did not improve from 0.00951\n",
      "Epoch 35/50\n",
      " - 366s - loss: 0.0103 - val_loss: 0.0125\n",
      "\n",
      "Epoch 00035: val_loss did not improve from 0.00951\n",
      "Epoch 36/50\n",
      " - 364s - loss: 0.0106 - val_loss: 0.0109\n",
      "\n",
      "Epoch 00036: val_loss did not improve from 0.00951\n",
      "Epoch 37/50\n",
      " - 366s - loss: 0.0107 - val_loss: 0.0121\n",
      "\n",
      "Epoch 00037: val_loss did not improve from 0.00951\n",
      "Epoch 38/50\n",
      " - 365s - loss: 0.0108 - val_loss: 0.0109\n",
      "\n",
      "Epoch 00038: val_loss did not improve from 0.00951\n",
      "Epoch 39/50\n",
      " - 366s - loss: 0.0109 - val_loss: 0.0106\n",
      "\n",
      "Epoch 00039: val_loss did not improve from 0.00951\n",
      "Epoch 00039: early stopping\n"
     ]
    }
   ],
   "source": [
    "# 接上一条\n",
    "\n",
    "myhist5 = myModel.fit_generator(BatchGenerator2(fetcher),\n",
    "                    samples_per_epoch=steps_to_take*6,\n",
    "                    nb_epoch=50,\n",
    "                    verbose=2,\n",
    "                    callbacks=[history,checkpointer,early_stopping],\n",
    "                    validation_data=validGenerator2(fetcher),\n",
    "                    validation_steps=val_steps_to_take\n",
    "                   )"
   ]
  },
  {
   "cell_type": "code",
   "execution_count": 13,
   "metadata": {},
   "outputs": [],
   "source": [
    "myModel = load_model('./tmp/myWeights109106.hdf5')"
   ]
  },
  {
   "cell_type": "code",
   "execution_count": 14,
   "metadata": {},
   "outputs": [
    {
     "name": "stdout",
     "output_type": "stream",
     "text": [
      "Epoch 1/50\n",
      " - 393s - loss: 0.0154 - val_loss: 0.0148\n",
      "\n",
      "Epoch 00001: val_loss improved from inf to 0.01475, saving model to ./tmp/myWeights.hdf5\n",
      "Epoch 2/50\n",
      " - 388s - loss: 0.0131 - val_loss: 0.0121\n",
      "\n",
      "Epoch 00002: val_loss improved from 0.01475 to 0.01208, saving model to ./tmp/myWeights.hdf5\n",
      "Epoch 3/50\n",
      " - 388s - loss: 0.0121 - val_loss: 0.0122\n",
      "\n",
      "Epoch 00003: val_loss did not improve from 0.01208\n",
      "Epoch 4/50\n",
      " - 388s - loss: 0.0122 - val_loss: 0.0103\n",
      "\n",
      "Epoch 00004: val_loss improved from 0.01208 to 0.01031, saving model to ./tmp/myWeights.hdf5\n",
      "Epoch 5/50\n",
      " - 388s - loss: 0.0119 - val_loss: 0.0110\n",
      "\n",
      "Epoch 00005: val_loss did not improve from 0.01031\n",
      "Epoch 6/50\n",
      " - 388s - loss: 0.0119 - val_loss: 0.0118\n",
      "\n",
      "Epoch 00006: val_loss did not improve from 0.01031\n",
      "Epoch 7/50\n",
      " - 388s - loss: 0.0120 - val_loss: 0.0123\n",
      "\n",
      "Epoch 00007: val_loss did not improve from 0.01031\n",
      "Epoch 8/50\n",
      " - 388s - loss: 0.0115 - val_loss: 0.0121\n",
      "\n",
      "Epoch 00008: val_loss did not improve from 0.01031\n",
      "Epoch 9/50\n",
      " - 388s - loss: 0.0117 - val_loss: 0.0137\n",
      "\n",
      "Epoch 00009: val_loss did not improve from 0.01031\n",
      "Epoch 10/50\n",
      " - 388s - loss: 0.0115 - val_loss: 0.0110\n",
      "\n",
      "Epoch 00010: val_loss did not improve from 0.01031\n",
      "Epoch 11/50\n",
      " - 388s - loss: 0.0112 - val_loss: 0.0145\n",
      "\n",
      "Epoch 00011: val_loss did not improve from 0.01031\n",
      "Epoch 12/50\n",
      " - 388s - loss: 0.0108 - val_loss: 0.0130\n",
      "\n",
      "Epoch 00012: val_loss did not improve from 0.01031\n",
      "Epoch 13/50\n",
      " - 388s - loss: 0.0113 - val_loss: 0.0116\n",
      "\n",
      "Epoch 00013: val_loss did not improve from 0.01031\n",
      "Epoch 14/50\n",
      " - 388s - loss: 0.0115 - val_loss: 0.0111\n",
      "\n",
      "Epoch 00014: val_loss did not improve from 0.01031\n",
      "Epoch 15/50\n",
      " - 391s - loss: 0.0111 - val_loss: 0.0115\n",
      "\n",
      "Epoch 00015: val_loss did not improve from 0.01031\n",
      "Epoch 16/50\n",
      " - 394s - loss: 0.0110 - val_loss: 0.0107\n",
      "\n",
      "Epoch 00016: val_loss did not improve from 0.01031\n",
      "Epoch 00016: early stopping\n"
     ]
    }
   ],
   "source": [
    "# 最后两层 activation 换 elu，最后一层卷积层+l2正则，去掉增大R通道\n",
    "\n",
    "myhist5 = myModel.fit_generator(BatchGenerator2(fetcher),\n",
    "                    samples_per_epoch=steps_to_take*6,\n",
    "                    nb_epoch=50,\n",
    "                    verbose=2,\n",
    "                    callbacks=[history,checkpointer,early_stopping],\n",
    "                    validation_data=validGenerator2(fetcher),\n",
    "                    validation_steps=val_steps_to_take\n",
    "                   )"
   ]
  },
  {
   "cell_type": "code",
   "execution_count": 15,
   "metadata": {},
   "outputs": [
    {
     "name": "stdout",
     "output_type": "stream",
     "text": [
      "Epoch 1/30\n",
      " - 362s - loss: 0.0111 - val_loss: 0.0123\n",
      "\n",
      "Epoch 00001: val_loss did not improve from 0.01031\n",
      "Epoch 2/30\n",
      " - 370s - loss: 0.0108 - val_loss: 0.0109\n",
      "\n",
      "Epoch 00002: val_loss did not improve from 0.01031\n",
      "Epoch 3/30\n",
      " - 362s - loss: 0.0103 - val_loss: 0.0114\n",
      "\n",
      "Epoch 00003: val_loss did not improve from 0.01031\n",
      "Epoch 4/30\n",
      " - 363s - loss: 0.0105 - val_loss: 0.0100\n",
      "\n",
      "Epoch 00004: val_loss improved from 0.01031 to 0.01002, saving model to ./tmp/myWeights.hdf5\n",
      "Epoch 5/30\n",
      " - 368s - loss: 0.0105 - val_loss: 0.0099\n",
      "\n",
      "Epoch 00005: val_loss improved from 0.01002 to 0.00993, saving model to ./tmp/myWeights.hdf5\n",
      "Epoch 6/30\n",
      " - 362s - loss: 0.0105 - val_loss: 0.0109\n",
      "\n",
      "Epoch 00006: val_loss did not improve from 0.00993\n",
      "Epoch 7/30\n",
      " - 362s - loss: 0.0106 - val_loss: 0.0117\n",
      "\n",
      "Epoch 00007: val_loss did not improve from 0.00993\n",
      "Epoch 8/30\n",
      " - 362s - loss: 0.0101 - val_loss: 0.0120\n",
      "\n",
      "Epoch 00008: val_loss did not improve from 0.00993\n",
      "Epoch 9/30\n",
      " - 362s - loss: 0.0104 - val_loss: 0.0130\n",
      "\n",
      "Epoch 00009: val_loss did not improve from 0.00993\n",
      "Epoch 10/30\n",
      " - 362s - loss: 0.0102 - val_loss: 0.0106\n",
      "\n",
      "Epoch 00010: val_loss did not improve from 0.00993\n",
      "Epoch 11/30\n",
      " - 363s - loss: 0.0099 - val_loss: 0.0135\n",
      "\n",
      "Epoch 00011: val_loss did not improve from 0.00993\n",
      "Epoch 12/30\n",
      " - 362s - loss: 0.0095 - val_loss: 0.0120\n",
      "\n",
      "Epoch 00012: val_loss did not improve from 0.00993\n",
      "Epoch 13/30\n",
      " - 363s - loss: 0.0102 - val_loss: 0.0109\n",
      "\n",
      "Epoch 00013: val_loss did not improve from 0.00993\n",
      "Epoch 14/30\n",
      " - 388s - loss: 0.0103 - val_loss: 0.0103\n",
      "\n",
      "Epoch 00014: val_loss did not improve from 0.00993\n",
      "Epoch 15/30\n",
      " - 379s - loss: 0.0100 - val_loss: 0.0113\n",
      "\n",
      "Epoch 00015: val_loss did not improve from 0.00993\n",
      "Epoch 16/30\n",
      " - 362s - loss: 0.0099 - val_loss: 0.0108\n",
      "\n",
      "Epoch 00016: val_loss did not improve from 0.00993\n",
      "Epoch 17/30\n",
      " - 363s - loss: 0.0103 - val_loss: 0.0116\n",
      "\n",
      "Epoch 00017: val_loss did not improve from 0.00993\n",
      "Epoch 00017: early stopping\n"
     ]
    }
   ],
   "source": [
    "# 接上一条\n",
    "\n",
    "myhist5 = myModel.fit_generator(BatchGenerator2(fetcher),\n",
    "                    samples_per_epoch=steps_to_take*6,\n",
    "                    nb_epoch=30,\n",
    "                    verbose=2,\n",
    "                    callbacks=[history,checkpointer,early_stopping],\n",
    "                    validation_data=validGenerator2(fetcher),\n",
    "                    validation_steps=val_steps_to_take\n",
    "                   )"
   ]
  },
  {
   "cell_type": "code",
   "execution_count": 16,
   "metadata": {},
   "outputs": [
    {
     "name": "stdout",
     "output_type": "stream",
     "text": [
      "Epoch 1/30\n",
      " - 362s - loss: 0.0100 - val_loss: 0.0120\n",
      "\n",
      "Epoch 00001: val_loss did not improve from 0.00993\n",
      "Epoch 2/30\n",
      " - 362s - loss: 0.0098 - val_loss: 0.0106\n",
      "\n",
      "Epoch 00002: val_loss did not improve from 0.00993\n",
      "Epoch 3/30\n",
      " - 362s - loss: 0.0094 - val_loss: 0.0114\n",
      "\n",
      "Epoch 00003: val_loss did not improve from 0.00993\n",
      "Epoch 4/30\n",
      " - 362s - loss: 0.0095 - val_loss: 0.0097\n",
      "\n",
      "Epoch 00004: val_loss improved from 0.00993 to 0.00967, saving model to ./tmp/myWeights.hdf5\n",
      "Epoch 5/30\n",
      " - 362s - loss: 0.0096 - val_loss: 0.0098\n",
      "\n",
      "Epoch 00005: val_loss did not improve from 0.00967\n",
      "Epoch 6/30\n",
      " - 362s - loss: 0.0095 - val_loss: 0.0108\n",
      "\n",
      "Epoch 00006: val_loss did not improve from 0.00967\n",
      "Epoch 7/30\n",
      " - 362s - loss: 0.0096 - val_loss: 0.0111\n",
      "\n",
      "Epoch 00007: val_loss did not improve from 0.00967\n",
      "Epoch 8/30\n",
      " - 362s - loss: 0.0091 - val_loss: 0.0122\n",
      "\n",
      "Epoch 00008: val_loss did not improve from 0.00967\n",
      "Epoch 9/30\n",
      " - 363s - loss: 0.0094 - val_loss: 0.0123\n",
      "\n",
      "Epoch 00009: val_loss did not improve from 0.00967\n",
      "Epoch 10/30\n",
      " - 362s - loss: 0.0092 - val_loss: 0.0104\n",
      "\n",
      "Epoch 00010: val_loss did not improve from 0.00967\n",
      "Epoch 11/30\n",
      " - 363s - loss: 0.0089 - val_loss: 0.0132\n",
      "\n",
      "Epoch 00011: val_loss did not improve from 0.00967\n",
      "Epoch 12/30\n",
      " - 363s - loss: 0.0085 - val_loss: 0.0118\n",
      "\n",
      "Epoch 00012: val_loss did not improve from 0.00967\n",
      "Epoch 13/30\n",
      " - 362s - loss: 0.0092 - val_loss: 0.0108\n",
      "\n",
      "Epoch 00013: val_loss did not improve from 0.00967\n",
      "Epoch 14/30\n",
      " - 362s - loss: 0.0093 - val_loss: 0.0103\n",
      "\n",
      "Epoch 00014: val_loss did not improve from 0.00967\n",
      "Epoch 15/30\n",
      " - 369s - loss: 0.0090 - val_loss: 0.0116\n",
      "\n",
      "Epoch 00015: val_loss did not improve from 0.00967\n",
      "Epoch 16/30\n",
      " - 362s - loss: 0.0090 - val_loss: 0.0107\n",
      "\n",
      "Epoch 00016: val_loss did not improve from 0.00967\n",
      "Epoch 00016: early stopping\n"
     ]
    }
   ],
   "source": [
    "# 接上一条\n",
    "\n",
    "myhist5 = myModel.fit_generator(BatchGenerator3(fetcher),\n",
    "                    samples_per_epoch=steps_to_take*6,\n",
    "                    nb_epoch=30,\n",
    "                    verbose=2,\n",
    "                    callbacks=[history,checkpointer,early_stopping],\n",
    "                    validation_data=validGenerator3(fetcher),\n",
    "                    validation_steps=val_steps_to_take\n",
    "                   )"
   ]
  },
  {
   "cell_type": "code",
   "execution_count": 39,
   "metadata": {},
   "outputs": [],
   "source": [
    "myModel = load_model('./tmp/myWeights095097.hdf5')"
   ]
  },
  {
   "cell_type": "code",
   "execution_count": null,
   "metadata": {},
   "outputs": [
    {
     "name": "stdout",
     "output_type": "stream",
     "text": [
      "Epoch 1/30\n",
      "5583/5583 [==============================] - 1917s 343ms/step - loss: 0.1878 - val_loss: 0.0521\n",
      "\n",
      "Epoch 00001: val_loss improved from inf to 0.05210, saving model to ./tmp/myWeights.hdf5\n",
      "Epoch 2/30\n",
      "3197/5583 [================>.............] - ETA: 8:28 - loss: 0.0407"
     ]
    }
   ],
   "source": [
    "# 回到 myhist 加深前两层的模型深度，最后两层 activation 换 elu\n",
    "\n",
    "myhist5 = myModel.fit_generator(BatchGenerator3(fetcher),\n",
    "                    samples_per_epoch=steps_to_take*3,\n",
    "                    nb_epoch=30,\n",
    "                    verbose=1,\n",
    "                    callbacks=[history,checkpointer,early_stopping],\n",
    "                    validation_data=validGenerator3(fetcher),\n",
    "                    validation_steps=val_steps_to_take\n",
    "                   )"
   ]
  },
  {
   "cell_type": "code",
   "execution_count": 75,
   "metadata": {},
   "outputs": [
    {
     "name": "stdout",
     "output_type": "stream",
     "text": [
      "Epoch 1/50\n",
      " - 118s - loss: 0.0275 - val_loss: 0.0219\n",
      "\n",
      "Epoch 00001: val_loss improved from inf to 0.02193, saving model to ./tmp/myWeights.hdf5\n",
      "Epoch 2/50\n",
      " - 116s - loss: 0.0197 - val_loss: 0.0178\n",
      "\n",
      "Epoch 00002: val_loss improved from 0.02193 to 0.01776, saving model to ./tmp/myWeights.hdf5\n",
      "Epoch 3/50\n",
      " - 116s - loss: 0.0177 - val_loss: 0.0167\n",
      "\n",
      "Epoch 00003: val_loss improved from 0.01776 to 0.01674, saving model to ./tmp/myWeights.hdf5\n",
      "Epoch 4/50\n",
      " - 116s - loss: 0.0171 - val_loss: 0.0178\n",
      "\n",
      "Epoch 00004: val_loss did not improve from 0.01674\n",
      "Epoch 5/50\n",
      " - 116s - loss: 0.0165 - val_loss: 0.0168\n",
      "\n",
      "Epoch 00005: val_loss did not improve from 0.01674\n",
      "Epoch 6/50\n",
      " - 116s - loss: 0.0164 - val_loss: 0.0153\n",
      "\n",
      "Epoch 00006: val_loss improved from 0.01674 to 0.01531, saving model to ./tmp/myWeights.hdf5\n",
      "Epoch 7/50\n",
      " - 116s - loss: 0.0165 - val_loss: 0.0138\n",
      "\n",
      "Epoch 00007: val_loss improved from 0.01531 to 0.01380, saving model to ./tmp/myWeights.hdf5\n",
      "Epoch 8/50\n",
      " - 118s - loss: 0.0160 - val_loss: 0.0174\n",
      "\n",
      "Epoch 00008: val_loss did not improve from 0.01380\n",
      "Epoch 9/50\n",
      " - 118s - loss: 0.0156 - val_loss: 0.0157\n",
      "\n",
      "Epoch 00009: val_loss did not improve from 0.01380\n",
      "Epoch 10/50\n",
      " - 118s - loss: 0.0158 - val_loss: 0.0161\n",
      "\n",
      "Epoch 00010: val_loss did not improve from 0.01380\n",
      "Epoch 11/50\n",
      " - 120s - loss: 0.0152 - val_loss: 0.0172\n",
      "\n",
      "Epoch 00011: val_loss did not improve from 0.01380\n",
      "Epoch 12/50\n",
      " - 118s - loss: 0.0146 - val_loss: 0.0174\n",
      "\n",
      "Epoch 00012: val_loss did not improve from 0.01380\n",
      "Epoch 13/50\n",
      " - 118s - loss: 0.0148 - val_loss: 0.0145\n",
      "\n",
      "Epoch 00013: val_loss did not improve from 0.01380\n",
      "Epoch 14/50\n",
      " - 117s - loss: 0.0150 - val_loss: 0.0163\n",
      "\n",
      "Epoch 00014: val_loss did not improve from 0.01380\n",
      "Epoch 15/50\n",
      " - 117s - loss: 0.0145 - val_loss: 0.0142\n",
      "\n",
      "Epoch 00015: val_loss did not improve from 0.01380\n",
      "Epoch 16/50\n",
      " - 118s - loss: 0.0144 - val_loss: 0.0136\n",
      "\n",
      "Epoch 00016: val_loss improved from 0.01380 to 0.01361, saving model to ./tmp/myWeights.hdf5\n",
      "Epoch 17/50\n",
      " - 118s - loss: 0.0138 - val_loss: 0.0163\n",
      "\n",
      "Epoch 00017: val_loss did not improve from 0.01361\n",
      "Epoch 18/50\n",
      " - 118s - loss: 0.0144 - val_loss: 0.0143\n",
      "\n",
      "Epoch 00018: val_loss did not improve from 0.01361\n",
      "Epoch 19/50\n",
      " - 118s - loss: 0.0140 - val_loss: 0.0126\n",
      "\n",
      "Epoch 00019: val_loss improved from 0.01361 to 0.01257, saving model to ./tmp/myWeights.hdf5\n",
      "Epoch 20/50\n",
      " - 118s - loss: 0.0140 - val_loss: 0.0117\n",
      "\n",
      "Epoch 00020: val_loss improved from 0.01257 to 0.01165, saving model to ./tmp/myWeights.hdf5\n",
      "Epoch 21/50\n",
      " - 118s - loss: 0.0138 - val_loss: 0.0113\n",
      "\n",
      "Epoch 00021: val_loss improved from 0.01165 to 0.01134, saving model to ./tmp/myWeights.hdf5\n",
      "Epoch 22/50\n",
      " - 117s - loss: 0.0141 - val_loss: 0.0134\n",
      "\n",
      "Epoch 00022: val_loss did not improve from 0.01134\n",
      "Epoch 23/50\n",
      " - 117s - loss: 0.0141 - val_loss: 0.0121\n",
      "\n",
      "Epoch 00023: val_loss did not improve from 0.01134\n",
      "Epoch 24/50\n",
      " - 118s - loss: 0.0137 - val_loss: 0.0114\n",
      "\n",
      "Epoch 00024: val_loss did not improve from 0.01134\n",
      "Epoch 25/50\n",
      " - 117s - loss: 0.0138 - val_loss: 0.0142\n",
      "\n",
      "Epoch 00025: val_loss did not improve from 0.01134\n",
      "Epoch 26/50\n",
      " - 118s - loss: 0.0132 - val_loss: 0.0119\n",
      "\n",
      "Epoch 00026: val_loss did not improve from 0.01134\n",
      "Epoch 27/50\n",
      " - 118s - loss: 0.0136 - val_loss: 0.0105\n",
      "\n",
      "Epoch 00027: val_loss improved from 0.01134 to 0.01055, saving model to ./tmp/myWeights.hdf5\n",
      "Epoch 28/50\n",
      " - 117s - loss: 0.0132 - val_loss: 0.0129\n",
      "\n",
      "Epoch 00028: val_loss did not improve from 0.01055\n",
      "Epoch 29/50\n",
      " - 117s - loss: 0.0135 - val_loss: 0.0126\n",
      "\n",
      "Epoch 00029: val_loss did not improve from 0.01055\n",
      "Epoch 30/50\n",
      " - 118s - loss: 0.0131 - val_loss: 0.0135\n",
      "\n",
      "Epoch 00030: val_loss did not improve from 0.01055\n",
      "Epoch 31/50\n",
      " - 118s - loss: 0.0128 - val_loss: 0.0151\n",
      "\n",
      "Epoch 00031: val_loss did not improve from 0.01055\n",
      "Epoch 32/50\n",
      " - 118s - loss: 0.0130 - val_loss: 0.0151\n",
      "\n",
      "Epoch 00032: val_loss did not improve from 0.01055\n",
      "Epoch 33/50\n",
      " - 117s - loss: 0.0131 - val_loss: 0.0119\n",
      "\n",
      "Epoch 00033: val_loss did not improve from 0.01055\n",
      "Epoch 34/50\n",
      " - 116s - loss: 0.0131 - val_loss: 0.0130\n",
      "\n",
      "Epoch 00034: val_loss did not improve from 0.01055\n",
      "Epoch 35/50\n",
      " - 116s - loss: 0.0126 - val_loss: 0.0125\n",
      "\n",
      "Epoch 00035: val_loss did not improve from 0.01055\n",
      "Epoch 36/50\n",
      " - 116s - loss: 0.0127 - val_loss: 0.0115\n",
      "\n",
      "Epoch 00036: val_loss did not improve from 0.01055\n",
      "Epoch 37/50\n",
      " - 116s - loss: 0.0126 - val_loss: 0.0139\n",
      "\n",
      "Epoch 00037: val_loss did not improve from 0.01055\n",
      "Epoch 38/50\n",
      " - 116s - loss: 0.0128 - val_loss: 0.0115\n",
      "\n",
      "Epoch 00038: val_loss did not improve from 0.01055\n",
      "Epoch 39/50\n",
      " - 116s - loss: 0.0131 - val_loss: 0.0122\n",
      "\n",
      "Epoch 00039: val_loss did not improve from 0.01055\n",
      "Epoch 00039: early stopping\n"
     ]
    }
   ],
   "source": [
    "# 回到 myhist 加深前两层的模型深度，最后两层 activation 换 elu\n",
    "\n",
    "myhist6 = myModel.fit_generator(BatchGenerator2(fetcher),\n",
    "                    samples_per_epoch=steps_to_take*6,\n",
    "                    nb_epoch=50,\n",
    "                    verbose=2,\n",
    "                    callbacks=[history,checkpointer,early_stopping],\n",
    "                    validation_data=validGenerator2(fetcher),\n",
    "                    validation_steps=val_steps_to_take\n",
    "                   )"
   ]
  },
  {
   "cell_type": "code",
   "execution_count": 81,
   "metadata": {},
   "outputs": [],
   "source": [
    "Model = load_model('./tmp/MyWeights.hdf5')"
   ]
  },
  {
   "cell_type": "code",
   "execution_count": 80,
   "metadata": {},
   "outputs": [],
   "source": [
    "import numpy as np\n",
    "X_test = np.load('../X_test.npy')"
   ]
  },
  {
   "cell_type": "code",
   "execution_count": 19,
   "metadata": {},
   "outputs": [],
   "source": [
    "# def testGenerator(getter):\n",
    "#     while 1:\n",
    "#         for f in getter.test_images_paths:\n",
    "#             X_test = process_images2([getter.test_path + '/' + fname for fname in [f]])\n",
    "#             X_test = np.reshape(X_test, (1,69,69,3))\n",
    "#             yield (X_test)"
   ]
  },
  {
   "cell_type": "code",
   "execution_count": 83,
   "metadata": {},
   "outputs": [],
   "source": [
    "predictions = Model.predict(X_test)"
   ]
  },
  {
   "cell_type": "code",
   "execution_count": 84,
   "metadata": {},
   "outputs": [
    {
     "data": {
      "text/plain": [
       "(600, 37)"
      ]
     },
     "execution_count": 84,
     "metadata": {},
     "output_type": "execute_result"
    }
   ],
   "source": [
    "predictions.shape"
   ]
  },
  {
   "cell_type": "code",
   "execution_count": 86,
   "metadata": {},
   "outputs": [
    {
     "data": {
      "text/plain": [
       "600"
      ]
     },
     "execution_count": 86,
     "metadata": {},
     "output_type": "execute_result"
    }
   ],
   "source": [
    "import os\n",
    "lst_t = os.listdir('../images_test_rev1/')\n",
    "len(lst_t)"
   ]
  },
  {
   "cell_type": "code",
   "execution_count": 87,
   "metadata": {},
   "outputs": [],
   "source": [
    "def get_id(fname):\n",
    "    return fname.replace(\".jpg\",\"\").replace(\"data\",\"\")"
   ]
  },
  {
   "cell_type": "code",
   "execution_count": 88,
   "metadata": {},
   "outputs": [
    {
     "data": {
      "text/plain": [
       "351"
      ]
     },
     "execution_count": 88,
     "metadata": {},
     "output_type": "execute_result"
    },
    {
     "data": {
      "text/plain": [
       "432"
      ]
     },
     "execution_count": 88,
     "metadata": {},
     "output_type": "execute_result"
    },
    {
     "data": {
      "text/plain": [
       "432"
      ]
     },
     "execution_count": 88,
     "metadata": {},
     "output_type": "execute_result"
    },
    {
     "data": {
      "text/plain": [
       "462"
      ]
     },
     "execution_count": 88,
     "metadata": {},
     "output_type": "execute_result"
    },
    {
     "data": {
      "text/plain": [
       "445"
      ]
     },
     "execution_count": 88,
     "metadata": {},
     "output_type": "execute_result"
    },
    {
     "data": {
      "text/plain": [
       "431"
      ]
     },
     "execution_count": 88,
     "metadata": {},
     "output_type": "execute_result"
    },
    {
     "data": {
      "text/plain": [
       "446"
      ]
     },
     "execution_count": 88,
     "metadata": {},
     "output_type": "execute_result"
    },
    {
     "data": {
      "text/plain": [
       "444"
      ]
     },
     "execution_count": 88,
     "metadata": {},
     "output_type": "execute_result"
    },
    {
     "data": {
      "text/plain": [
       "439"
      ]
     },
     "execution_count": 88,
     "metadata": {},
     "output_type": "execute_result"
    },
    {
     "data": {
      "text/plain": [
       "434"
      ]
     },
     "execution_count": 88,
     "metadata": {},
     "output_type": "execute_result"
    },
    {
     "data": {
      "text/plain": [
       "431"
      ]
     },
     "execution_count": 88,
     "metadata": {},
     "output_type": "execute_result"
    },
    {
     "data": {
      "text/plain": [
       "431"
      ]
     },
     "execution_count": 88,
     "metadata": {},
     "output_type": "execute_result"
    },
    {
     "data": {
      "text/plain": [
       "444"
      ]
     },
     "execution_count": 88,
     "metadata": {},
     "output_type": "execute_result"
    },
    {
     "data": {
      "text/plain": [
       "437"
      ]
     },
     "execution_count": 88,
     "metadata": {},
     "output_type": "execute_result"
    },
    {
     "data": {
      "text/plain": [
       "430"
      ]
     },
     "execution_count": 88,
     "metadata": {},
     "output_type": "execute_result"
    },
    {
     "data": {
      "text/plain": [
       "437"
      ]
     },
     "execution_count": 88,
     "metadata": {},
     "output_type": "execute_result"
    },
    {
     "data": {
      "text/plain": [
       "443"
      ]
     },
     "execution_count": 88,
     "metadata": {},
     "output_type": "execute_result"
    },
    {
     "data": {
      "text/plain": [
       "430"
      ]
     },
     "execution_count": 88,
     "metadata": {},
     "output_type": "execute_result"
    },
    {
     "data": {
      "text/plain": [
       "427"
      ]
     },
     "execution_count": 88,
     "metadata": {},
     "output_type": "execute_result"
    },
    {
     "data": {
      "text/plain": [
       "438"
      ]
     },
     "execution_count": 88,
     "metadata": {},
     "output_type": "execute_result"
    },
    {
     "data": {
      "text/plain": [
       "449"
      ]
     },
     "execution_count": 88,
     "metadata": {},
     "output_type": "execute_result"
    },
    {
     "data": {
      "text/plain": [
       "427"
      ]
     },
     "execution_count": 88,
     "metadata": {},
     "output_type": "execute_result"
    },
    {
     "data": {
      "text/plain": [
       "440"
      ]
     },
     "execution_count": 88,
     "metadata": {},
     "output_type": "execute_result"
    },
    {
     "data": {
      "text/plain": [
       "435"
      ]
     },
     "execution_count": 88,
     "metadata": {},
     "output_type": "execute_result"
    },
    {
     "data": {
      "text/plain": [
       "449"
      ]
     },
     "execution_count": 88,
     "metadata": {},
     "output_type": "execute_result"
    },
    {
     "data": {
      "text/plain": [
       "439"
      ]
     },
     "execution_count": 88,
     "metadata": {},
     "output_type": "execute_result"
    },
    {
     "data": {
      "text/plain": [
       "433"
      ]
     },
     "execution_count": 88,
     "metadata": {},
     "output_type": "execute_result"
    },
    {
     "data": {
      "text/plain": [
       "443"
      ]
     },
     "execution_count": 88,
     "metadata": {},
     "output_type": "execute_result"
    },
    {
     "data": {
      "text/plain": [
       "439"
      ]
     },
     "execution_count": 88,
     "metadata": {},
     "output_type": "execute_result"
    },
    {
     "data": {
      "text/plain": [
       "436"
      ]
     },
     "execution_count": 88,
     "metadata": {},
     "output_type": "execute_result"
    },
    {
     "data": {
      "text/plain": [
       "423"
      ]
     },
     "execution_count": 88,
     "metadata": {},
     "output_type": "execute_result"
    },
    {
     "data": {
      "text/plain": [
       "425"
      ]
     },
     "execution_count": 88,
     "metadata": {},
     "output_type": "execute_result"
    },
    {
     "data": {
      "text/plain": [
       "424"
      ]
     },
     "execution_count": 88,
     "metadata": {},
     "output_type": "execute_result"
    },
    {
     "data": {
      "text/plain": [
       "438"
      ]
     },
     "execution_count": 88,
     "metadata": {},
     "output_type": "execute_result"
    },
    {
     "data": {
      "text/plain": [
       "464"
      ]
     },
     "execution_count": 88,
     "metadata": {},
     "output_type": "execute_result"
    },
    {
     "data": {
      "text/plain": [
       "428"
      ]
     },
     "execution_count": 88,
     "metadata": {},
     "output_type": "execute_result"
    },
    {
     "data": {
      "text/plain": [
       "431"
      ]
     },
     "execution_count": 88,
     "metadata": {},
     "output_type": "execute_result"
    },
    {
     "data": {
      "text/plain": [
       "427"
      ]
     },
     "execution_count": 88,
     "metadata": {},
     "output_type": "execute_result"
    },
    {
     "data": {
      "text/plain": [
       "441"
      ]
     },
     "execution_count": 88,
     "metadata": {},
     "output_type": "execute_result"
    },
    {
     "data": {
      "text/plain": [
       "434"
      ]
     },
     "execution_count": 88,
     "metadata": {},
     "output_type": "execute_result"
    },
    {
     "data": {
      "text/plain": [
       "434"
      ]
     },
     "execution_count": 88,
     "metadata": {},
     "output_type": "execute_result"
    },
    {
     "data": {
      "text/plain": [
       "451"
      ]
     },
     "execution_count": 88,
     "metadata": {},
     "output_type": "execute_result"
    },
    {
     "data": {
      "text/plain": [
       "441"
      ]
     },
     "execution_count": 88,
     "metadata": {},
     "output_type": "execute_result"
    },
    {
     "data": {
      "text/plain": [
       "427"
      ]
     },
     "execution_count": 88,
     "metadata": {},
     "output_type": "execute_result"
    },
    {
     "data": {
      "text/plain": [
       "446"
      ]
     },
     "execution_count": 88,
     "metadata": {},
     "output_type": "execute_result"
    },
    {
     "data": {
      "text/plain": [
       "430"
      ]
     },
     "execution_count": 88,
     "metadata": {},
     "output_type": "execute_result"
    },
    {
     "data": {
      "text/plain": [
       "454"
      ]
     },
     "execution_count": 88,
     "metadata": {},
     "output_type": "execute_result"
    },
    {
     "data": {
      "text/plain": [
       "427"
      ]
     },
     "execution_count": 88,
     "metadata": {},
     "output_type": "execute_result"
    },
    {
     "data": {
      "text/plain": [
       "437"
      ]
     },
     "execution_count": 88,
     "metadata": {},
     "output_type": "execute_result"
    },
    {
     "data": {
      "text/plain": [
       "433"
      ]
     },
     "execution_count": 88,
     "metadata": {},
     "output_type": "execute_result"
    },
    {
     "data": {
      "text/plain": [
       "435"
      ]
     },
     "execution_count": 88,
     "metadata": {},
     "output_type": "execute_result"
    },
    {
     "data": {
      "text/plain": [
       "449"
      ]
     },
     "execution_count": 88,
     "metadata": {},
     "output_type": "execute_result"
    },
    {
     "data": {
      "text/plain": [
       "432"
      ]
     },
     "execution_count": 88,
     "metadata": {},
     "output_type": "execute_result"
    },
    {
     "data": {
      "text/plain": [
       "426"
      ]
     },
     "execution_count": 88,
     "metadata": {},
     "output_type": "execute_result"
    },
    {
     "data": {
      "text/plain": [
       "429"
      ]
     },
     "execution_count": 88,
     "metadata": {},
     "output_type": "execute_result"
    },
    {
     "data": {
      "text/plain": [
       "441"
      ]
     },
     "execution_count": 88,
     "metadata": {},
     "output_type": "execute_result"
    },
    {
     "data": {
      "text/plain": [
       "431"
      ]
     },
     "execution_count": 88,
     "metadata": {},
     "output_type": "execute_result"
    },
    {
     "data": {
      "text/plain": [
       "440"
      ]
     },
     "execution_count": 88,
     "metadata": {},
     "output_type": "execute_result"
    },
    {
     "data": {
      "text/plain": [
       "421"
      ]
     },
     "execution_count": 88,
     "metadata": {},
     "output_type": "execute_result"
    },
    {
     "data": {
      "text/plain": [
       "434"
      ]
     },
     "execution_count": 88,
     "metadata": {},
     "output_type": "execute_result"
    },
    {
     "data": {
      "text/plain": [
       "473"
      ]
     },
     "execution_count": 88,
     "metadata": {},
     "output_type": "execute_result"
    },
    {
     "data": {
      "text/plain": [
       "432"
      ]
     },
     "execution_count": 88,
     "metadata": {},
     "output_type": "execute_result"
    },
    {
     "data": {
      "text/plain": [
       "439"
      ]
     },
     "execution_count": 88,
     "metadata": {},
     "output_type": "execute_result"
    },
    {
     "data": {
      "text/plain": [
       "436"
      ]
     },
     "execution_count": 88,
     "metadata": {},
     "output_type": "execute_result"
    },
    {
     "data": {
      "text/plain": [
       "430"
      ]
     },
     "execution_count": 88,
     "metadata": {},
     "output_type": "execute_result"
    },
    {
     "data": {
      "text/plain": [
       "431"
      ]
     },
     "execution_count": 88,
     "metadata": {},
     "output_type": "execute_result"
    },
    {
     "data": {
      "text/plain": [
       "441"
      ]
     },
     "execution_count": 88,
     "metadata": {},
     "output_type": "execute_result"
    },
    {
     "data": {
      "text/plain": [
       "443"
      ]
     },
     "execution_count": 88,
     "metadata": {},
     "output_type": "execute_result"
    },
    {
     "data": {
      "text/plain": [
       "439"
      ]
     },
     "execution_count": 88,
     "metadata": {},
     "output_type": "execute_result"
    },
    {
     "data": {
      "text/plain": [
       "429"
      ]
     },
     "execution_count": 88,
     "metadata": {},
     "output_type": "execute_result"
    },
    {
     "data": {
      "text/plain": [
       "435"
      ]
     },
     "execution_count": 88,
     "metadata": {},
     "output_type": "execute_result"
    },
    {
     "data": {
      "text/plain": [
       "436"
      ]
     },
     "execution_count": 88,
     "metadata": {},
     "output_type": "execute_result"
    },
    {
     "data": {
      "text/plain": [
       "437"
      ]
     },
     "execution_count": 88,
     "metadata": {},
     "output_type": "execute_result"
    },
    {
     "data": {
      "text/plain": [
       "431"
      ]
     },
     "execution_count": 88,
     "metadata": {},
     "output_type": "execute_result"
    },
    {
     "data": {
      "text/plain": [
       "444"
      ]
     },
     "execution_count": 88,
     "metadata": {},
     "output_type": "execute_result"
    },
    {
     "data": {
      "text/plain": [
       "436"
      ]
     },
     "execution_count": 88,
     "metadata": {},
     "output_type": "execute_result"
    },
    {
     "data": {
      "text/plain": [
       "441"
      ]
     },
     "execution_count": 88,
     "metadata": {},
     "output_type": "execute_result"
    },
    {
     "data": {
      "text/plain": [
       "446"
      ]
     },
     "execution_count": 88,
     "metadata": {},
     "output_type": "execute_result"
    },
    {
     "data": {
      "text/plain": [
       "429"
      ]
     },
     "execution_count": 88,
     "metadata": {},
     "output_type": "execute_result"
    },
    {
     "data": {
      "text/plain": [
       "424"
      ]
     },
     "execution_count": 88,
     "metadata": {},
     "output_type": "execute_result"
    },
    {
     "data": {
      "text/plain": [
       "440"
      ]
     },
     "execution_count": 88,
     "metadata": {},
     "output_type": "execute_result"
    },
    {
     "data": {
      "text/plain": [
       "435"
      ]
     },
     "execution_count": 88,
     "metadata": {},
     "output_type": "execute_result"
    },
    {
     "data": {
      "text/plain": [
       "436"
      ]
     },
     "execution_count": 88,
     "metadata": {},
     "output_type": "execute_result"
    },
    {
     "data": {
      "text/plain": [
       "437"
      ]
     },
     "execution_count": 88,
     "metadata": {},
     "output_type": "execute_result"
    },
    {
     "data": {
      "text/plain": [
       "452"
      ]
     },
     "execution_count": 88,
     "metadata": {},
     "output_type": "execute_result"
    },
    {
     "data": {
      "text/plain": [
       "429"
      ]
     },
     "execution_count": 88,
     "metadata": {},
     "output_type": "execute_result"
    },
    {
     "data": {
      "text/plain": [
       "433"
      ]
     },
     "execution_count": 88,
     "metadata": {},
     "output_type": "execute_result"
    },
    {
     "data": {
      "text/plain": [
       "470"
      ]
     },
     "execution_count": 88,
     "metadata": {},
     "output_type": "execute_result"
    },
    {
     "data": {
      "text/plain": [
       "432"
      ]
     },
     "execution_count": 88,
     "metadata": {},
     "output_type": "execute_result"
    },
    {
     "data": {
      "text/plain": [
       "438"
      ]
     },
     "execution_count": 88,
     "metadata": {},
     "output_type": "execute_result"
    },
    {
     "data": {
      "text/plain": [
       "426"
      ]
     },
     "execution_count": 88,
     "metadata": {},
     "output_type": "execute_result"
    },
    {
     "data": {
      "text/plain": [
       "437"
      ]
     },
     "execution_count": 88,
     "metadata": {},
     "output_type": "execute_result"
    },
    {
     "data": {
      "text/plain": [
       "450"
      ]
     },
     "execution_count": 88,
     "metadata": {},
     "output_type": "execute_result"
    },
    {
     "data": {
      "text/plain": [
       "441"
      ]
     },
     "execution_count": 88,
     "metadata": {},
     "output_type": "execute_result"
    },
    {
     "data": {
      "text/plain": [
       "425"
      ]
     },
     "execution_count": 88,
     "metadata": {},
     "output_type": "execute_result"
    },
    {
     "data": {
      "text/plain": [
       "438"
      ]
     },
     "execution_count": 88,
     "metadata": {},
     "output_type": "execute_result"
    },
    {
     "data": {
      "text/plain": [
       "440"
      ]
     },
     "execution_count": 88,
     "metadata": {},
     "output_type": "execute_result"
    },
    {
     "data": {
      "text/plain": [
       "423"
      ]
     },
     "execution_count": 88,
     "metadata": {},
     "output_type": "execute_result"
    },
    {
     "data": {
      "text/plain": [
       "440"
      ]
     },
     "execution_count": 88,
     "metadata": {},
     "output_type": "execute_result"
    },
    {
     "data": {
      "text/plain": [
       "446"
      ]
     },
     "execution_count": 88,
     "metadata": {},
     "output_type": "execute_result"
    },
    {
     "data": {
      "text/plain": [
       "438"
      ]
     },
     "execution_count": 88,
     "metadata": {},
     "output_type": "execute_result"
    },
    {
     "data": {
      "text/plain": [
       "464"
      ]
     },
     "execution_count": 88,
     "metadata": {},
     "output_type": "execute_result"
    },
    {
     "data": {
      "text/plain": [
       "427"
      ]
     },
     "execution_count": 88,
     "metadata": {},
     "output_type": "execute_result"
    },
    {
     "data": {
      "text/plain": [
       "437"
      ]
     },
     "execution_count": 88,
     "metadata": {},
     "output_type": "execute_result"
    },
    {
     "data": {
      "text/plain": [
       "438"
      ]
     },
     "execution_count": 88,
     "metadata": {},
     "output_type": "execute_result"
    },
    {
     "data": {
      "text/plain": [
       "441"
      ]
     },
     "execution_count": 88,
     "metadata": {},
     "output_type": "execute_result"
    },
    {
     "data": {
      "text/plain": [
       "431"
      ]
     },
     "execution_count": 88,
     "metadata": {},
     "output_type": "execute_result"
    },
    {
     "data": {
      "text/plain": [
       "444"
      ]
     },
     "execution_count": 88,
     "metadata": {},
     "output_type": "execute_result"
    },
    {
     "data": {
      "text/plain": [
       "435"
      ]
     },
     "execution_count": 88,
     "metadata": {},
     "output_type": "execute_result"
    },
    {
     "data": {
      "text/plain": [
       "441"
      ]
     },
     "execution_count": 88,
     "metadata": {},
     "output_type": "execute_result"
    },
    {
     "data": {
      "text/plain": [
       "442"
      ]
     },
     "execution_count": 88,
     "metadata": {},
     "output_type": "execute_result"
    },
    {
     "data": {
      "text/plain": [
       "436"
      ]
     },
     "execution_count": 88,
     "metadata": {},
     "output_type": "execute_result"
    },
    {
     "data": {
      "text/plain": [
       "421"
      ]
     },
     "execution_count": 88,
     "metadata": {},
     "output_type": "execute_result"
    },
    {
     "data": {
      "text/plain": [
       "438"
      ]
     },
     "execution_count": 88,
     "metadata": {},
     "output_type": "execute_result"
    },
    {
     "data": {
      "text/plain": [
       "441"
      ]
     },
     "execution_count": 88,
     "metadata": {},
     "output_type": "execute_result"
    },
    {
     "data": {
      "text/plain": [
       "432"
      ]
     },
     "execution_count": 88,
     "metadata": {},
     "output_type": "execute_result"
    },
    {
     "data": {
      "text/plain": [
       "436"
      ]
     },
     "execution_count": 88,
     "metadata": {},
     "output_type": "execute_result"
    },
    {
     "data": {
      "text/plain": [
       "439"
      ]
     },
     "execution_count": 88,
     "metadata": {},
     "output_type": "execute_result"
    },
    {
     "data": {
      "text/plain": [
       "433"
      ]
     },
     "execution_count": 88,
     "metadata": {},
     "output_type": "execute_result"
    },
    {
     "data": {
      "text/plain": [
       "433"
      ]
     },
     "execution_count": 88,
     "metadata": {},
     "output_type": "execute_result"
    },
    {
     "data": {
      "text/plain": [
       "441"
      ]
     },
     "execution_count": 88,
     "metadata": {},
     "output_type": "execute_result"
    },
    {
     "data": {
      "text/plain": [
       "439"
      ]
     },
     "execution_count": 88,
     "metadata": {},
     "output_type": "execute_result"
    },
    {
     "data": {
      "text/plain": [
       "443"
      ]
     },
     "execution_count": 88,
     "metadata": {},
     "output_type": "execute_result"
    },
    {
     "data": {
      "text/plain": [
       "440"
      ]
     },
     "execution_count": 88,
     "metadata": {},
     "output_type": "execute_result"
    },
    {
     "data": {
      "text/plain": [
       "421"
      ]
     },
     "execution_count": 88,
     "metadata": {},
     "output_type": "execute_result"
    },
    {
     "data": {
      "text/plain": [
       "433"
      ]
     },
     "execution_count": 88,
     "metadata": {},
     "output_type": "execute_result"
    },
    {
     "data": {
      "text/plain": [
       "432"
      ]
     },
     "execution_count": 88,
     "metadata": {},
     "output_type": "execute_result"
    },
    {
     "data": {
      "text/plain": [
       "435"
      ]
     },
     "execution_count": 88,
     "metadata": {},
     "output_type": "execute_result"
    },
    {
     "data": {
      "text/plain": [
       "434"
      ]
     },
     "execution_count": 88,
     "metadata": {},
     "output_type": "execute_result"
    },
    {
     "data": {
      "text/plain": [
       "435"
      ]
     },
     "execution_count": 88,
     "metadata": {},
     "output_type": "execute_result"
    },
    {
     "data": {
      "text/plain": [
       "449"
      ]
     },
     "execution_count": 88,
     "metadata": {},
     "output_type": "execute_result"
    },
    {
     "data": {
      "text/plain": [
       "428"
      ]
     },
     "execution_count": 88,
     "metadata": {},
     "output_type": "execute_result"
    },
    {
     "data": {
      "text/plain": [
       "446"
      ]
     },
     "execution_count": 88,
     "metadata": {},
     "output_type": "execute_result"
    },
    {
     "data": {
      "text/plain": [
       "445"
      ]
     },
     "execution_count": 88,
     "metadata": {},
     "output_type": "execute_result"
    },
    {
     "data": {
      "text/plain": [
       "446"
      ]
     },
     "execution_count": 88,
     "metadata": {},
     "output_type": "execute_result"
    },
    {
     "data": {
      "text/plain": [
       "431"
      ]
     },
     "execution_count": 88,
     "metadata": {},
     "output_type": "execute_result"
    },
    {
     "data": {
      "text/plain": [
       "437"
      ]
     },
     "execution_count": 88,
     "metadata": {},
     "output_type": "execute_result"
    },
    {
     "data": {
      "text/plain": [
       "440"
      ]
     },
     "execution_count": 88,
     "metadata": {},
     "output_type": "execute_result"
    },
    {
     "data": {
      "text/plain": [
       "425"
      ]
     },
     "execution_count": 88,
     "metadata": {},
     "output_type": "execute_result"
    },
    {
     "data": {
      "text/plain": [
       "440"
      ]
     },
     "execution_count": 88,
     "metadata": {},
     "output_type": "execute_result"
    },
    {
     "data": {
      "text/plain": [
       "431"
      ]
     },
     "execution_count": 88,
     "metadata": {},
     "output_type": "execute_result"
    },
    {
     "data": {
      "text/plain": [
       "450"
      ]
     },
     "execution_count": 88,
     "metadata": {},
     "output_type": "execute_result"
    },
    {
     "data": {
      "text/plain": [
       "439"
      ]
     },
     "execution_count": 88,
     "metadata": {},
     "output_type": "execute_result"
    },
    {
     "data": {
      "text/plain": [
       "438"
      ]
     },
     "execution_count": 88,
     "metadata": {},
     "output_type": "execute_result"
    },
    {
     "data": {
      "text/plain": [
       "418"
      ]
     },
     "execution_count": 88,
     "metadata": {},
     "output_type": "execute_result"
    },
    {
     "data": {
      "text/plain": [
       "428"
      ]
     },
     "execution_count": 88,
     "metadata": {},
     "output_type": "execute_result"
    },
    {
     "data": {
      "text/plain": [
       "430"
      ]
     },
     "execution_count": 88,
     "metadata": {},
     "output_type": "execute_result"
    },
    {
     "data": {
      "text/plain": [
       "432"
      ]
     },
     "execution_count": 88,
     "metadata": {},
     "output_type": "execute_result"
    },
    {
     "data": {
      "text/plain": [
       "445"
      ]
     },
     "execution_count": 88,
     "metadata": {},
     "output_type": "execute_result"
    },
    {
     "data": {
      "text/plain": [
       "433"
      ]
     },
     "execution_count": 88,
     "metadata": {},
     "output_type": "execute_result"
    },
    {
     "data": {
      "text/plain": [
       "449"
      ]
     },
     "execution_count": 88,
     "metadata": {},
     "output_type": "execute_result"
    },
    {
     "data": {
      "text/plain": [
       "442"
      ]
     },
     "execution_count": 88,
     "metadata": {},
     "output_type": "execute_result"
    },
    {
     "data": {
      "text/plain": [
       "433"
      ]
     },
     "execution_count": 88,
     "metadata": {},
     "output_type": "execute_result"
    },
    {
     "data": {
      "text/plain": [
       "434"
      ]
     },
     "execution_count": 88,
     "metadata": {},
     "output_type": "execute_result"
    },
    {
     "data": {
      "text/plain": [
       "435"
      ]
     },
     "execution_count": 88,
     "metadata": {},
     "output_type": "execute_result"
    },
    {
     "data": {
      "text/plain": [
       "446"
      ]
     },
     "execution_count": 88,
     "metadata": {},
     "output_type": "execute_result"
    },
    {
     "data": {
      "text/plain": [
       "446"
      ]
     },
     "execution_count": 88,
     "metadata": {},
     "output_type": "execute_result"
    },
    {
     "data": {
      "text/plain": [
       "429"
      ]
     },
     "execution_count": 88,
     "metadata": {},
     "output_type": "execute_result"
    },
    {
     "data": {
      "text/plain": [
       "433"
      ]
     },
     "execution_count": 88,
     "metadata": {},
     "output_type": "execute_result"
    },
    {
     "data": {
      "text/plain": [
       "430"
      ]
     },
     "execution_count": 88,
     "metadata": {},
     "output_type": "execute_result"
    },
    {
     "data": {
      "text/plain": [
       "423"
      ]
     },
     "execution_count": 88,
     "metadata": {},
     "output_type": "execute_result"
    },
    {
     "data": {
      "text/plain": [
       "434"
      ]
     },
     "execution_count": 88,
     "metadata": {},
     "output_type": "execute_result"
    },
    {
     "data": {
      "text/plain": [
       "427"
      ]
     },
     "execution_count": 88,
     "metadata": {},
     "output_type": "execute_result"
    },
    {
     "data": {
      "text/plain": [
       "432"
      ]
     },
     "execution_count": 88,
     "metadata": {},
     "output_type": "execute_result"
    },
    {
     "data": {
      "text/plain": [
       "441"
      ]
     },
     "execution_count": 88,
     "metadata": {},
     "output_type": "execute_result"
    },
    {
     "data": {
      "text/plain": [
       "430"
      ]
     },
     "execution_count": 88,
     "metadata": {},
     "output_type": "execute_result"
    },
    {
     "data": {
      "text/plain": [
       "432"
      ]
     },
     "execution_count": 88,
     "metadata": {},
     "output_type": "execute_result"
    },
    {
     "data": {
      "text/plain": [
       "436"
      ]
     },
     "execution_count": 88,
     "metadata": {},
     "output_type": "execute_result"
    },
    {
     "data": {
      "text/plain": [
       "431"
      ]
     },
     "execution_count": 88,
     "metadata": {},
     "output_type": "execute_result"
    },
    {
     "data": {
      "text/plain": [
       "452"
      ]
     },
     "execution_count": 88,
     "metadata": {},
     "output_type": "execute_result"
    },
    {
     "data": {
      "text/plain": [
       "424"
      ]
     },
     "execution_count": 88,
     "metadata": {},
     "output_type": "execute_result"
    },
    {
     "data": {
      "text/plain": [
       "436"
      ]
     },
     "execution_count": 88,
     "metadata": {},
     "output_type": "execute_result"
    },
    {
     "data": {
      "text/plain": [
       "436"
      ]
     },
     "execution_count": 88,
     "metadata": {},
     "output_type": "execute_result"
    },
    {
     "data": {
      "text/plain": [
       "454"
      ]
     },
     "execution_count": 88,
     "metadata": {},
     "output_type": "execute_result"
    },
    {
     "data": {
      "text/plain": [
       "434"
      ]
     },
     "execution_count": 88,
     "metadata": {},
     "output_type": "execute_result"
    },
    {
     "data": {
      "text/plain": [
       "439"
      ]
     },
     "execution_count": 88,
     "metadata": {},
     "output_type": "execute_result"
    },
    {
     "data": {
      "text/plain": [
       "444"
      ]
     },
     "execution_count": 88,
     "metadata": {},
     "output_type": "execute_result"
    },
    {
     "data": {
      "text/plain": [
       "434"
      ]
     },
     "execution_count": 88,
     "metadata": {},
     "output_type": "execute_result"
    },
    {
     "data": {
      "text/plain": [
       "440"
      ]
     },
     "execution_count": 88,
     "metadata": {},
     "output_type": "execute_result"
    },
    {
     "data": {
      "text/plain": [
       "429"
      ]
     },
     "execution_count": 88,
     "metadata": {},
     "output_type": "execute_result"
    },
    {
     "data": {
      "text/plain": [
       "445"
      ]
     },
     "execution_count": 88,
     "metadata": {},
     "output_type": "execute_result"
    },
    {
     "data": {
      "text/plain": [
       "423"
      ]
     },
     "execution_count": 88,
     "metadata": {},
     "output_type": "execute_result"
    },
    {
     "data": {
      "text/plain": [
       "417"
      ]
     },
     "execution_count": 88,
     "metadata": {},
     "output_type": "execute_result"
    },
    {
     "data": {
      "text/plain": [
       "435"
      ]
     },
     "execution_count": 88,
     "metadata": {},
     "output_type": "execute_result"
    },
    {
     "data": {
      "text/plain": [
       "443"
      ]
     },
     "execution_count": 88,
     "metadata": {},
     "output_type": "execute_result"
    },
    {
     "data": {
      "text/plain": [
       "425"
      ]
     },
     "execution_count": 88,
     "metadata": {},
     "output_type": "execute_result"
    },
    {
     "data": {
      "text/plain": [
       "431"
      ]
     },
     "execution_count": 88,
     "metadata": {},
     "output_type": "execute_result"
    },
    {
     "data": {
      "text/plain": [
       "446"
      ]
     },
     "execution_count": 88,
     "metadata": {},
     "output_type": "execute_result"
    },
    {
     "data": {
      "text/plain": [
       "431"
      ]
     },
     "execution_count": 88,
     "metadata": {},
     "output_type": "execute_result"
    },
    {
     "data": {
      "text/plain": [
       "444"
      ]
     },
     "execution_count": 88,
     "metadata": {},
     "output_type": "execute_result"
    },
    {
     "data": {
      "text/plain": [
       "445"
      ]
     },
     "execution_count": 88,
     "metadata": {},
     "output_type": "execute_result"
    },
    {
     "data": {
      "text/plain": [
       "447"
      ]
     },
     "execution_count": 88,
     "metadata": {},
     "output_type": "execute_result"
    },
    {
     "data": {
      "text/plain": [
       "424"
      ]
     },
     "execution_count": 88,
     "metadata": {},
     "output_type": "execute_result"
    },
    {
     "data": {
      "text/plain": [
       "429"
      ]
     },
     "execution_count": 88,
     "metadata": {},
     "output_type": "execute_result"
    },
    {
     "data": {
      "text/plain": [
       "439"
      ]
     },
     "execution_count": 88,
     "metadata": {},
     "output_type": "execute_result"
    },
    {
     "data": {
      "text/plain": [
       "440"
      ]
     },
     "execution_count": 88,
     "metadata": {},
     "output_type": "execute_result"
    },
    {
     "data": {
      "text/plain": [
       "437"
      ]
     },
     "execution_count": 88,
     "metadata": {},
     "output_type": "execute_result"
    },
    {
     "data": {
      "text/plain": [
       "434"
      ]
     },
     "execution_count": 88,
     "metadata": {},
     "output_type": "execute_result"
    },
    {
     "data": {
      "text/plain": [
       "430"
      ]
     },
     "execution_count": 88,
     "metadata": {},
     "output_type": "execute_result"
    },
    {
     "data": {
      "text/plain": [
       "442"
      ]
     },
     "execution_count": 88,
     "metadata": {},
     "output_type": "execute_result"
    },
    {
     "data": {
      "text/plain": [
       "436"
      ]
     },
     "execution_count": 88,
     "metadata": {},
     "output_type": "execute_result"
    },
    {
     "data": {
      "text/plain": [
       "440"
      ]
     },
     "execution_count": 88,
     "metadata": {},
     "output_type": "execute_result"
    },
    {
     "data": {
      "text/plain": [
       "430"
      ]
     },
     "execution_count": 88,
     "metadata": {},
     "output_type": "execute_result"
    },
    {
     "data": {
      "text/plain": [
       "459"
      ]
     },
     "execution_count": 88,
     "metadata": {},
     "output_type": "execute_result"
    },
    {
     "data": {
      "text/plain": [
       "443"
      ]
     },
     "execution_count": 88,
     "metadata": {},
     "output_type": "execute_result"
    },
    {
     "data": {
      "text/plain": [
       "457"
      ]
     },
     "execution_count": 88,
     "metadata": {},
     "output_type": "execute_result"
    },
    {
     "data": {
      "text/plain": [
       "430"
      ]
     },
     "execution_count": 88,
     "metadata": {},
     "output_type": "execute_result"
    },
    {
     "data": {
      "text/plain": [
       "429"
      ]
     },
     "execution_count": 88,
     "metadata": {},
     "output_type": "execute_result"
    },
    {
     "data": {
      "text/plain": [
       "438"
      ]
     },
     "execution_count": 88,
     "metadata": {},
     "output_type": "execute_result"
    },
    {
     "data": {
      "text/plain": [
       "432"
      ]
     },
     "execution_count": 88,
     "metadata": {},
     "output_type": "execute_result"
    },
    {
     "data": {
      "text/plain": [
       "435"
      ]
     },
     "execution_count": 88,
     "metadata": {},
     "output_type": "execute_result"
    },
    {
     "data": {
      "text/plain": [
       "440"
      ]
     },
     "execution_count": 88,
     "metadata": {},
     "output_type": "execute_result"
    },
    {
     "data": {
      "text/plain": [
       "435"
      ]
     },
     "execution_count": 88,
     "metadata": {},
     "output_type": "execute_result"
    },
    {
     "data": {
      "text/plain": [
       "446"
      ]
     },
     "execution_count": 88,
     "metadata": {},
     "output_type": "execute_result"
    },
    {
     "data": {
      "text/plain": [
       "450"
      ]
     },
     "execution_count": 88,
     "metadata": {},
     "output_type": "execute_result"
    },
    {
     "data": {
      "text/plain": [
       "432"
      ]
     },
     "execution_count": 88,
     "metadata": {},
     "output_type": "execute_result"
    },
    {
     "data": {
      "text/plain": [
       "440"
      ]
     },
     "execution_count": 88,
     "metadata": {},
     "output_type": "execute_result"
    },
    {
     "data": {
      "text/plain": [
       "422"
      ]
     },
     "execution_count": 88,
     "metadata": {},
     "output_type": "execute_result"
    },
    {
     "data": {
      "text/plain": [
       "433"
      ]
     },
     "execution_count": 88,
     "metadata": {},
     "output_type": "execute_result"
    },
    {
     "data": {
      "text/plain": [
       "451"
      ]
     },
     "execution_count": 88,
     "metadata": {},
     "output_type": "execute_result"
    },
    {
     "data": {
      "text/plain": [
       "430"
      ]
     },
     "execution_count": 88,
     "metadata": {},
     "output_type": "execute_result"
    },
    {
     "data": {
      "text/plain": [
       "436"
      ]
     },
     "execution_count": 88,
     "metadata": {},
     "output_type": "execute_result"
    },
    {
     "data": {
      "text/plain": [
       "438"
      ]
     },
     "execution_count": 88,
     "metadata": {},
     "output_type": "execute_result"
    },
    {
     "data": {
      "text/plain": [
       "426"
      ]
     },
     "execution_count": 88,
     "metadata": {},
     "output_type": "execute_result"
    },
    {
     "data": {
      "text/plain": [
       "440"
      ]
     },
     "execution_count": 88,
     "metadata": {},
     "output_type": "execute_result"
    },
    {
     "data": {
      "text/plain": [
       "434"
      ]
     },
     "execution_count": 88,
     "metadata": {},
     "output_type": "execute_result"
    },
    {
     "data": {
      "text/plain": [
       "437"
      ]
     },
     "execution_count": 88,
     "metadata": {},
     "output_type": "execute_result"
    },
    {
     "data": {
      "text/plain": [
       "442"
      ]
     },
     "execution_count": 88,
     "metadata": {},
     "output_type": "execute_result"
    },
    {
     "data": {
      "text/plain": [
       "437"
      ]
     },
     "execution_count": 88,
     "metadata": {},
     "output_type": "execute_result"
    },
    {
     "data": {
      "text/plain": [
       "436"
      ]
     },
     "execution_count": 88,
     "metadata": {},
     "output_type": "execute_result"
    },
    {
     "data": {
      "text/plain": [
       "450"
      ]
     },
     "execution_count": 88,
     "metadata": {},
     "output_type": "execute_result"
    },
    {
     "data": {
      "text/plain": [
       "431"
      ]
     },
     "execution_count": 88,
     "metadata": {},
     "output_type": "execute_result"
    },
    {
     "data": {
      "text/plain": [
       "445"
      ]
     },
     "execution_count": 88,
     "metadata": {},
     "output_type": "execute_result"
    },
    {
     "data": {
      "text/plain": [
       "443"
      ]
     },
     "execution_count": 88,
     "metadata": {},
     "output_type": "execute_result"
    },
    {
     "data": {
      "text/plain": [
       "431"
      ]
     },
     "execution_count": 88,
     "metadata": {},
     "output_type": "execute_result"
    },
    {
     "data": {
      "text/plain": [
       "445"
      ]
     },
     "execution_count": 88,
     "metadata": {},
     "output_type": "execute_result"
    },
    {
     "data": {
      "text/plain": [
       "435"
      ]
     },
     "execution_count": 88,
     "metadata": {},
     "output_type": "execute_result"
    },
    {
     "data": {
      "text/plain": [
       "439"
      ]
     },
     "execution_count": 88,
     "metadata": {},
     "output_type": "execute_result"
    },
    {
     "data": {
      "text/plain": [
       "428"
      ]
     },
     "execution_count": 88,
     "metadata": {},
     "output_type": "execute_result"
    },
    {
     "data": {
      "text/plain": [
       "451"
      ]
     },
     "execution_count": 88,
     "metadata": {},
     "output_type": "execute_result"
    },
    {
     "data": {
      "text/plain": [
       "438"
      ]
     },
     "execution_count": 88,
     "metadata": {},
     "output_type": "execute_result"
    },
    {
     "data": {
      "text/plain": [
       "436"
      ]
     },
     "execution_count": 88,
     "metadata": {},
     "output_type": "execute_result"
    },
    {
     "data": {
      "text/plain": [
       "429"
      ]
     },
     "execution_count": 88,
     "metadata": {},
     "output_type": "execute_result"
    },
    {
     "data": {
      "text/plain": [
       "445"
      ]
     },
     "execution_count": 88,
     "metadata": {},
     "output_type": "execute_result"
    },
    {
     "data": {
      "text/plain": [
       "437"
      ]
     },
     "execution_count": 88,
     "metadata": {},
     "output_type": "execute_result"
    },
    {
     "data": {
      "text/plain": [
       "472"
      ]
     },
     "execution_count": 88,
     "metadata": {},
     "output_type": "execute_result"
    },
    {
     "data": {
      "text/plain": [
       "452"
      ]
     },
     "execution_count": 88,
     "metadata": {},
     "output_type": "execute_result"
    },
    {
     "data": {
      "text/plain": [
       "431"
      ]
     },
     "execution_count": 88,
     "metadata": {},
     "output_type": "execute_result"
    },
    {
     "data": {
      "text/plain": [
       "446"
      ]
     },
     "execution_count": 88,
     "metadata": {},
     "output_type": "execute_result"
    },
    {
     "data": {
      "text/plain": [
       "436"
      ]
     },
     "execution_count": 88,
     "metadata": {},
     "output_type": "execute_result"
    },
    {
     "data": {
      "text/plain": [
       "426"
      ]
     },
     "execution_count": 88,
     "metadata": {},
     "output_type": "execute_result"
    },
    {
     "data": {
      "text/plain": [
       "427"
      ]
     },
     "execution_count": 88,
     "metadata": {},
     "output_type": "execute_result"
    },
    {
     "data": {
      "text/plain": [
       "427"
      ]
     },
     "execution_count": 88,
     "metadata": {},
     "output_type": "execute_result"
    },
    {
     "data": {
      "text/plain": [
       "443"
      ]
     },
     "execution_count": 88,
     "metadata": {},
     "output_type": "execute_result"
    },
    {
     "data": {
      "text/plain": [
       "447"
      ]
     },
     "execution_count": 88,
     "metadata": {},
     "output_type": "execute_result"
    },
    {
     "data": {
      "text/plain": [
       "430"
      ]
     },
     "execution_count": 88,
     "metadata": {},
     "output_type": "execute_result"
    },
    {
     "data": {
      "text/plain": [
       "446"
      ]
     },
     "execution_count": 88,
     "metadata": {},
     "output_type": "execute_result"
    },
    {
     "data": {
      "text/plain": [
       "425"
      ]
     },
     "execution_count": 88,
     "metadata": {},
     "output_type": "execute_result"
    },
    {
     "data": {
      "text/plain": [
       "435"
      ]
     },
     "execution_count": 88,
     "metadata": {},
     "output_type": "execute_result"
    },
    {
     "data": {
      "text/plain": [
       "423"
      ]
     },
     "execution_count": 88,
     "metadata": {},
     "output_type": "execute_result"
    },
    {
     "data": {
      "text/plain": [
       "441"
      ]
     },
     "execution_count": 88,
     "metadata": {},
     "output_type": "execute_result"
    },
    {
     "data": {
      "text/plain": [
       "437"
      ]
     },
     "execution_count": 88,
     "metadata": {},
     "output_type": "execute_result"
    },
    {
     "data": {
      "text/plain": [
       "438"
      ]
     },
     "execution_count": 88,
     "metadata": {},
     "output_type": "execute_result"
    },
    {
     "data": {
      "text/plain": [
       "444"
      ]
     },
     "execution_count": 88,
     "metadata": {},
     "output_type": "execute_result"
    },
    {
     "data": {
      "text/plain": [
       "440"
      ]
     },
     "execution_count": 88,
     "metadata": {},
     "output_type": "execute_result"
    },
    {
     "data": {
      "text/plain": [
       "427"
      ]
     },
     "execution_count": 88,
     "metadata": {},
     "output_type": "execute_result"
    },
    {
     "data": {
      "text/plain": [
       "447"
      ]
     },
     "execution_count": 88,
     "metadata": {},
     "output_type": "execute_result"
    },
    {
     "data": {
      "text/plain": [
       "433"
      ]
     },
     "execution_count": 88,
     "metadata": {},
     "output_type": "execute_result"
    },
    {
     "data": {
      "text/plain": [
       "433"
      ]
     },
     "execution_count": 88,
     "metadata": {},
     "output_type": "execute_result"
    },
    {
     "data": {
      "text/plain": [
       "443"
      ]
     },
     "execution_count": 88,
     "metadata": {},
     "output_type": "execute_result"
    },
    {
     "data": {
      "text/plain": [
       "435"
      ]
     },
     "execution_count": 88,
     "metadata": {},
     "output_type": "execute_result"
    },
    {
     "data": {
      "text/plain": [
       "441"
      ]
     },
     "execution_count": 88,
     "metadata": {},
     "output_type": "execute_result"
    },
    {
     "data": {
      "text/plain": [
       "438"
      ]
     },
     "execution_count": 88,
     "metadata": {},
     "output_type": "execute_result"
    },
    {
     "data": {
      "text/plain": [
       "434"
      ]
     },
     "execution_count": 88,
     "metadata": {},
     "output_type": "execute_result"
    },
    {
     "data": {
      "text/plain": [
       "431"
      ]
     },
     "execution_count": 88,
     "metadata": {},
     "output_type": "execute_result"
    },
    {
     "data": {
      "text/plain": [
       "430"
      ]
     },
     "execution_count": 88,
     "metadata": {},
     "output_type": "execute_result"
    },
    {
     "data": {
      "text/plain": [
       "450"
      ]
     },
     "execution_count": 88,
     "metadata": {},
     "output_type": "execute_result"
    },
    {
     "data": {
      "text/plain": [
       "435"
      ]
     },
     "execution_count": 88,
     "metadata": {},
     "output_type": "execute_result"
    },
    {
     "data": {
      "text/plain": [
       "435"
      ]
     },
     "execution_count": 88,
     "metadata": {},
     "output_type": "execute_result"
    },
    {
     "data": {
      "text/plain": [
       "449"
      ]
     },
     "execution_count": 88,
     "metadata": {},
     "output_type": "execute_result"
    },
    {
     "data": {
      "text/plain": [
       "445"
      ]
     },
     "execution_count": 88,
     "metadata": {},
     "output_type": "execute_result"
    },
    {
     "data": {
      "text/plain": [
       "433"
      ]
     },
     "execution_count": 88,
     "metadata": {},
     "output_type": "execute_result"
    },
    {
     "data": {
      "text/plain": [
       "430"
      ]
     },
     "execution_count": 88,
     "metadata": {},
     "output_type": "execute_result"
    },
    {
     "data": {
      "text/plain": [
       "441"
      ]
     },
     "execution_count": 88,
     "metadata": {},
     "output_type": "execute_result"
    },
    {
     "data": {
      "text/plain": [
       "437"
      ]
     },
     "execution_count": 88,
     "metadata": {},
     "output_type": "execute_result"
    },
    {
     "data": {
      "text/plain": [
       "439"
      ]
     },
     "execution_count": 88,
     "metadata": {},
     "output_type": "execute_result"
    },
    {
     "data": {
      "text/plain": [
       "450"
      ]
     },
     "execution_count": 88,
     "metadata": {},
     "output_type": "execute_result"
    },
    {
     "data": {
      "text/plain": [
       "437"
      ]
     },
     "execution_count": 88,
     "metadata": {},
     "output_type": "execute_result"
    },
    {
     "data": {
      "text/plain": [
       "439"
      ]
     },
     "execution_count": 88,
     "metadata": {},
     "output_type": "execute_result"
    },
    {
     "data": {
      "text/plain": [
       "432"
      ]
     },
     "execution_count": 88,
     "metadata": {},
     "output_type": "execute_result"
    },
    {
     "data": {
      "text/plain": [
       "448"
      ]
     },
     "execution_count": 88,
     "metadata": {},
     "output_type": "execute_result"
    },
    {
     "data": {
      "text/plain": [
       "438"
      ]
     },
     "execution_count": 88,
     "metadata": {},
     "output_type": "execute_result"
    },
    {
     "data": {
      "text/plain": [
       "440"
      ]
     },
     "execution_count": 88,
     "metadata": {},
     "output_type": "execute_result"
    },
    {
     "data": {
      "text/plain": [
       "441"
      ]
     },
     "execution_count": 88,
     "metadata": {},
     "output_type": "execute_result"
    },
    {
     "data": {
      "text/plain": [
       "444"
      ]
     },
     "execution_count": 88,
     "metadata": {},
     "output_type": "execute_result"
    },
    {
     "data": {
      "text/plain": [
       "424"
      ]
     },
     "execution_count": 88,
     "metadata": {},
     "output_type": "execute_result"
    },
    {
     "data": {
      "text/plain": [
       "423"
      ]
     },
     "execution_count": 88,
     "metadata": {},
     "output_type": "execute_result"
    },
    {
     "data": {
      "text/plain": [
       "457"
      ]
     },
     "execution_count": 88,
     "metadata": {},
     "output_type": "execute_result"
    },
    {
     "data": {
      "text/plain": [
       "431"
      ]
     },
     "execution_count": 88,
     "metadata": {},
     "output_type": "execute_result"
    },
    {
     "data": {
      "text/plain": [
       "441"
      ]
     },
     "execution_count": 88,
     "metadata": {},
     "output_type": "execute_result"
    },
    {
     "data": {
      "text/plain": [
       "448"
      ]
     },
     "execution_count": 88,
     "metadata": {},
     "output_type": "execute_result"
    },
    {
     "data": {
      "text/plain": [
       "438"
      ]
     },
     "execution_count": 88,
     "metadata": {},
     "output_type": "execute_result"
    },
    {
     "data": {
      "text/plain": [
       "429"
      ]
     },
     "execution_count": 88,
     "metadata": {},
     "output_type": "execute_result"
    },
    {
     "data": {
      "text/plain": [
       "445"
      ]
     },
     "execution_count": 88,
     "metadata": {},
     "output_type": "execute_result"
    },
    {
     "data": {
      "text/plain": [
       "421"
      ]
     },
     "execution_count": 88,
     "metadata": {},
     "output_type": "execute_result"
    },
    {
     "data": {
      "text/plain": [
       "441"
      ]
     },
     "execution_count": 88,
     "metadata": {},
     "output_type": "execute_result"
    },
    {
     "data": {
      "text/plain": [
       "444"
      ]
     },
     "execution_count": 88,
     "metadata": {},
     "output_type": "execute_result"
    },
    {
     "data": {
      "text/plain": [
       "426"
      ]
     },
     "execution_count": 88,
     "metadata": {},
     "output_type": "execute_result"
    },
    {
     "data": {
      "text/plain": [
       "440"
      ]
     },
     "execution_count": 88,
     "metadata": {},
     "output_type": "execute_result"
    },
    {
     "data": {
      "text/plain": [
       "438"
      ]
     },
     "execution_count": 88,
     "metadata": {},
     "output_type": "execute_result"
    },
    {
     "data": {
      "text/plain": [
       "433"
      ]
     },
     "execution_count": 88,
     "metadata": {},
     "output_type": "execute_result"
    },
    {
     "data": {
      "text/plain": [
       "432"
      ]
     },
     "execution_count": 88,
     "metadata": {},
     "output_type": "execute_result"
    },
    {
     "data": {
      "text/plain": [
       "439"
      ]
     },
     "execution_count": 88,
     "metadata": {},
     "output_type": "execute_result"
    },
    {
     "data": {
      "text/plain": [
       "437"
      ]
     },
     "execution_count": 88,
     "metadata": {},
     "output_type": "execute_result"
    },
    {
     "data": {
      "text/plain": [
       "457"
      ]
     },
     "execution_count": 88,
     "metadata": {},
     "output_type": "execute_result"
    },
    {
     "data": {
      "text/plain": [
       "443"
      ]
     },
     "execution_count": 88,
     "metadata": {},
     "output_type": "execute_result"
    },
    {
     "data": {
      "text/plain": [
       "433"
      ]
     },
     "execution_count": 88,
     "metadata": {},
     "output_type": "execute_result"
    },
    {
     "data": {
      "text/plain": [
       "435"
      ]
     },
     "execution_count": 88,
     "metadata": {},
     "output_type": "execute_result"
    },
    {
     "data": {
      "text/plain": [
       "431"
      ]
     },
     "execution_count": 88,
     "metadata": {},
     "output_type": "execute_result"
    },
    {
     "data": {
      "text/plain": [
       "432"
      ]
     },
     "execution_count": 88,
     "metadata": {},
     "output_type": "execute_result"
    },
    {
     "data": {
      "text/plain": [
       "460"
      ]
     },
     "execution_count": 88,
     "metadata": {},
     "output_type": "execute_result"
    },
    {
     "data": {
      "text/plain": [
       "436"
      ]
     },
     "execution_count": 88,
     "metadata": {},
     "output_type": "execute_result"
    },
    {
     "data": {
      "text/plain": [
       "430"
      ]
     },
     "execution_count": 88,
     "metadata": {},
     "output_type": "execute_result"
    },
    {
     "data": {
      "text/plain": [
       "451"
      ]
     },
     "execution_count": 88,
     "metadata": {},
     "output_type": "execute_result"
    },
    {
     "data": {
      "text/plain": [
       "424"
      ]
     },
     "execution_count": 88,
     "metadata": {},
     "output_type": "execute_result"
    },
    {
     "data": {
      "text/plain": [
       "432"
      ]
     },
     "execution_count": 88,
     "metadata": {},
     "output_type": "execute_result"
    },
    {
     "data": {
      "text/plain": [
       "440"
      ]
     },
     "execution_count": 88,
     "metadata": {},
     "output_type": "execute_result"
    },
    {
     "data": {
      "text/plain": [
       "433"
      ]
     },
     "execution_count": 88,
     "metadata": {},
     "output_type": "execute_result"
    },
    {
     "data": {
      "text/plain": [
       "444"
      ]
     },
     "execution_count": 88,
     "metadata": {},
     "output_type": "execute_result"
    },
    {
     "data": {
      "text/plain": [
       "457"
      ]
     },
     "execution_count": 88,
     "metadata": {},
     "output_type": "execute_result"
    },
    {
     "data": {
      "text/plain": [
       "433"
      ]
     },
     "execution_count": 88,
     "metadata": {},
     "output_type": "execute_result"
    },
    {
     "data": {
      "text/plain": [
       "440"
      ]
     },
     "execution_count": 88,
     "metadata": {},
     "output_type": "execute_result"
    },
    {
     "data": {
      "text/plain": [
       "441"
      ]
     },
     "execution_count": 88,
     "metadata": {},
     "output_type": "execute_result"
    },
    {
     "data": {
      "text/plain": [
       "468"
      ]
     },
     "execution_count": 88,
     "metadata": {},
     "output_type": "execute_result"
    },
    {
     "data": {
      "text/plain": [
       "434"
      ]
     },
     "execution_count": 88,
     "metadata": {},
     "output_type": "execute_result"
    },
    {
     "data": {
      "text/plain": [
       "424"
      ]
     },
     "execution_count": 88,
     "metadata": {},
     "output_type": "execute_result"
    },
    {
     "data": {
      "text/plain": [
       "444"
      ]
     },
     "execution_count": 88,
     "metadata": {},
     "output_type": "execute_result"
    },
    {
     "data": {
      "text/plain": [
       "422"
      ]
     },
     "execution_count": 88,
     "metadata": {},
     "output_type": "execute_result"
    },
    {
     "data": {
      "text/plain": [
       "430"
      ]
     },
     "execution_count": 88,
     "metadata": {},
     "output_type": "execute_result"
    },
    {
     "data": {
      "text/plain": [
       "448"
      ]
     },
     "execution_count": 88,
     "metadata": {},
     "output_type": "execute_result"
    },
    {
     "data": {
      "text/plain": [
       "437"
      ]
     },
     "execution_count": 88,
     "metadata": {},
     "output_type": "execute_result"
    },
    {
     "data": {
      "text/plain": [
       "451"
      ]
     },
     "execution_count": 88,
     "metadata": {},
     "output_type": "execute_result"
    },
    {
     "data": {
      "text/plain": [
       "440"
      ]
     },
     "execution_count": 88,
     "metadata": {},
     "output_type": "execute_result"
    },
    {
     "data": {
      "text/plain": [
       "438"
      ]
     },
     "execution_count": 88,
     "metadata": {},
     "output_type": "execute_result"
    },
    {
     "data": {
      "text/plain": [
       "451"
      ]
     },
     "execution_count": 88,
     "metadata": {},
     "output_type": "execute_result"
    },
    {
     "data": {
      "text/plain": [
       "437"
      ]
     },
     "execution_count": 88,
     "metadata": {},
     "output_type": "execute_result"
    },
    {
     "data": {
      "text/plain": [
       "440"
      ]
     },
     "execution_count": 88,
     "metadata": {},
     "output_type": "execute_result"
    },
    {
     "data": {
      "text/plain": [
       "444"
      ]
     },
     "execution_count": 88,
     "metadata": {},
     "output_type": "execute_result"
    },
    {
     "data": {
      "text/plain": [
       "439"
      ]
     },
     "execution_count": 88,
     "metadata": {},
     "output_type": "execute_result"
    },
    {
     "data": {
      "text/plain": [
       "447"
      ]
     },
     "execution_count": 88,
     "metadata": {},
     "output_type": "execute_result"
    },
    {
     "data": {
      "text/plain": [
       "451"
      ]
     },
     "execution_count": 88,
     "metadata": {},
     "output_type": "execute_result"
    },
    {
     "data": {
      "text/plain": [
       "469"
      ]
     },
     "execution_count": 88,
     "metadata": {},
     "output_type": "execute_result"
    },
    {
     "data": {
      "text/plain": [
       "434"
      ]
     },
     "execution_count": 88,
     "metadata": {},
     "output_type": "execute_result"
    },
    {
     "data": {
      "text/plain": [
       "438"
      ]
     },
     "execution_count": 88,
     "metadata": {},
     "output_type": "execute_result"
    },
    {
     "data": {
      "text/plain": [
       "439"
      ]
     },
     "execution_count": 88,
     "metadata": {},
     "output_type": "execute_result"
    },
    {
     "data": {
      "text/plain": [
       "437"
      ]
     },
     "execution_count": 88,
     "metadata": {},
     "output_type": "execute_result"
    },
    {
     "data": {
      "text/plain": [
       "431"
      ]
     },
     "execution_count": 88,
     "metadata": {},
     "output_type": "execute_result"
    },
    {
     "data": {
      "text/plain": [
       "449"
      ]
     },
     "execution_count": 88,
     "metadata": {},
     "output_type": "execute_result"
    },
    {
     "data": {
      "text/plain": [
       "440"
      ]
     },
     "execution_count": 88,
     "metadata": {},
     "output_type": "execute_result"
    },
    {
     "data": {
      "text/plain": [
       "443"
      ]
     },
     "execution_count": 88,
     "metadata": {},
     "output_type": "execute_result"
    },
    {
     "data": {
      "text/plain": [
       "437"
      ]
     },
     "execution_count": 88,
     "metadata": {},
     "output_type": "execute_result"
    },
    {
     "data": {
      "text/plain": [
       "442"
      ]
     },
     "execution_count": 88,
     "metadata": {},
     "output_type": "execute_result"
    },
    {
     "data": {
      "text/plain": [
       "434"
      ]
     },
     "execution_count": 88,
     "metadata": {},
     "output_type": "execute_result"
    },
    {
     "data": {
      "text/plain": [
       "435"
      ]
     },
     "execution_count": 88,
     "metadata": {},
     "output_type": "execute_result"
    },
    {
     "data": {
      "text/plain": [
       "426"
      ]
     },
     "execution_count": 88,
     "metadata": {},
     "output_type": "execute_result"
    },
    {
     "data": {
      "text/plain": [
       "446"
      ]
     },
     "execution_count": 88,
     "metadata": {},
     "output_type": "execute_result"
    },
    {
     "data": {
      "text/plain": [
       "435"
      ]
     },
     "execution_count": 88,
     "metadata": {},
     "output_type": "execute_result"
    },
    {
     "data": {
      "text/plain": [
       "436"
      ]
     },
     "execution_count": 88,
     "metadata": {},
     "output_type": "execute_result"
    },
    {
     "data": {
      "text/plain": [
       "440"
      ]
     },
     "execution_count": 88,
     "metadata": {},
     "output_type": "execute_result"
    },
    {
     "data": {
      "text/plain": [
       "434"
      ]
     },
     "execution_count": 88,
     "metadata": {},
     "output_type": "execute_result"
    },
    {
     "data": {
      "text/plain": [
       "435"
      ]
     },
     "execution_count": 88,
     "metadata": {},
     "output_type": "execute_result"
    },
    {
     "data": {
      "text/plain": [
       "451"
      ]
     },
     "execution_count": 88,
     "metadata": {},
     "output_type": "execute_result"
    },
    {
     "data": {
      "text/plain": [
       "434"
      ]
     },
     "execution_count": 88,
     "metadata": {},
     "output_type": "execute_result"
    },
    {
     "data": {
      "text/plain": [
       "429"
      ]
     },
     "execution_count": 88,
     "metadata": {},
     "output_type": "execute_result"
    },
    {
     "data": {
      "text/plain": [
       "438"
      ]
     },
     "execution_count": 88,
     "metadata": {},
     "output_type": "execute_result"
    },
    {
     "data": {
      "text/plain": [
       "435"
      ]
     },
     "execution_count": 88,
     "metadata": {},
     "output_type": "execute_result"
    },
    {
     "data": {
      "text/plain": [
       "438"
      ]
     },
     "execution_count": 88,
     "metadata": {},
     "output_type": "execute_result"
    },
    {
     "data": {
      "text/plain": [
       "437"
      ]
     },
     "execution_count": 88,
     "metadata": {},
     "output_type": "execute_result"
    },
    {
     "data": {
      "text/plain": [
       "449"
      ]
     },
     "execution_count": 88,
     "metadata": {},
     "output_type": "execute_result"
    },
    {
     "data": {
      "text/plain": [
       "437"
      ]
     },
     "execution_count": 88,
     "metadata": {},
     "output_type": "execute_result"
    },
    {
     "data": {
      "text/plain": [
       "433"
      ]
     },
     "execution_count": 88,
     "metadata": {},
     "output_type": "execute_result"
    },
    {
     "data": {
      "text/plain": [
       "441"
      ]
     },
     "execution_count": 88,
     "metadata": {},
     "output_type": "execute_result"
    },
    {
     "data": {
      "text/plain": [
       "423"
      ]
     },
     "execution_count": 88,
     "metadata": {},
     "output_type": "execute_result"
    },
    {
     "data": {
      "text/plain": [
       "431"
      ]
     },
     "execution_count": 88,
     "metadata": {},
     "output_type": "execute_result"
    },
    {
     "data": {
      "text/plain": [
       "455"
      ]
     },
     "execution_count": 88,
     "metadata": {},
     "output_type": "execute_result"
    },
    {
     "data": {
      "text/plain": [
       "442"
      ]
     },
     "execution_count": 88,
     "metadata": {},
     "output_type": "execute_result"
    },
    {
     "data": {
      "text/plain": [
       "429"
      ]
     },
     "execution_count": 88,
     "metadata": {},
     "output_type": "execute_result"
    },
    {
     "data": {
      "text/plain": [
       "446"
      ]
     },
     "execution_count": 88,
     "metadata": {},
     "output_type": "execute_result"
    },
    {
     "data": {
      "text/plain": [
       "442"
      ]
     },
     "execution_count": 88,
     "metadata": {},
     "output_type": "execute_result"
    },
    {
     "data": {
      "text/plain": [
       "431"
      ]
     },
     "execution_count": 88,
     "metadata": {},
     "output_type": "execute_result"
    },
    {
     "data": {
      "text/plain": [
       "432"
      ]
     },
     "execution_count": 88,
     "metadata": {},
     "output_type": "execute_result"
    },
    {
     "data": {
      "text/plain": [
       "432"
      ]
     },
     "execution_count": 88,
     "metadata": {},
     "output_type": "execute_result"
    },
    {
     "data": {
      "text/plain": [
       "445"
      ]
     },
     "execution_count": 88,
     "metadata": {},
     "output_type": "execute_result"
    },
    {
     "data": {
      "text/plain": [
       "424"
      ]
     },
     "execution_count": 88,
     "metadata": {},
     "output_type": "execute_result"
    },
    {
     "data": {
      "text/plain": [
       "446"
      ]
     },
     "execution_count": 88,
     "metadata": {},
     "output_type": "execute_result"
    },
    {
     "data": {
      "text/plain": [
       "439"
      ]
     },
     "execution_count": 88,
     "metadata": {},
     "output_type": "execute_result"
    },
    {
     "data": {
      "text/plain": [
       "437"
      ]
     },
     "execution_count": 88,
     "metadata": {},
     "output_type": "execute_result"
    },
    {
     "data": {
      "text/plain": [
       "440"
      ]
     },
     "execution_count": 88,
     "metadata": {},
     "output_type": "execute_result"
    },
    {
     "data": {
      "text/plain": [
       "451"
      ]
     },
     "execution_count": 88,
     "metadata": {},
     "output_type": "execute_result"
    },
    {
     "data": {
      "text/plain": [
       "448"
      ]
     },
     "execution_count": 88,
     "metadata": {},
     "output_type": "execute_result"
    },
    {
     "data": {
      "text/plain": [
       "437"
      ]
     },
     "execution_count": 88,
     "metadata": {},
     "output_type": "execute_result"
    },
    {
     "data": {
      "text/plain": [
       "435"
      ]
     },
     "execution_count": 88,
     "metadata": {},
     "output_type": "execute_result"
    },
    {
     "data": {
      "text/plain": [
       "432"
      ]
     },
     "execution_count": 88,
     "metadata": {},
     "output_type": "execute_result"
    },
    {
     "data": {
      "text/plain": [
       "428"
      ]
     },
     "execution_count": 88,
     "metadata": {},
     "output_type": "execute_result"
    },
    {
     "data": {
      "text/plain": [
       "426"
      ]
     },
     "execution_count": 88,
     "metadata": {},
     "output_type": "execute_result"
    },
    {
     "data": {
      "text/plain": [
       "427"
      ]
     },
     "execution_count": 88,
     "metadata": {},
     "output_type": "execute_result"
    },
    {
     "data": {
      "text/plain": [
       "431"
      ]
     },
     "execution_count": 88,
     "metadata": {},
     "output_type": "execute_result"
    },
    {
     "data": {
      "text/plain": [
       "440"
      ]
     },
     "execution_count": 88,
     "metadata": {},
     "output_type": "execute_result"
    },
    {
     "data": {
      "text/plain": [
       "429"
      ]
     },
     "execution_count": 88,
     "metadata": {},
     "output_type": "execute_result"
    },
    {
     "data": {
      "text/plain": [
       "430"
      ]
     },
     "execution_count": 88,
     "metadata": {},
     "output_type": "execute_result"
    },
    {
     "data": {
      "text/plain": [
       "430"
      ]
     },
     "execution_count": 88,
     "metadata": {},
     "output_type": "execute_result"
    },
    {
     "data": {
      "text/plain": [
       "430"
      ]
     },
     "execution_count": 88,
     "metadata": {},
     "output_type": "execute_result"
    },
    {
     "data": {
      "text/plain": [
       "431"
      ]
     },
     "execution_count": 88,
     "metadata": {},
     "output_type": "execute_result"
    },
    {
     "data": {
      "text/plain": [
       "442"
      ]
     },
     "execution_count": 88,
     "metadata": {},
     "output_type": "execute_result"
    },
    {
     "data": {
      "text/plain": [
       "427"
      ]
     },
     "execution_count": 88,
     "metadata": {},
     "output_type": "execute_result"
    },
    {
     "data": {
      "text/plain": [
       "442"
      ]
     },
     "execution_count": 88,
     "metadata": {},
     "output_type": "execute_result"
    },
    {
     "data": {
      "text/plain": [
       "443"
      ]
     },
     "execution_count": 88,
     "metadata": {},
     "output_type": "execute_result"
    },
    {
     "data": {
      "text/plain": [
       "445"
      ]
     },
     "execution_count": 88,
     "metadata": {},
     "output_type": "execute_result"
    },
    {
     "data": {
      "text/plain": [
       "440"
      ]
     },
     "execution_count": 88,
     "metadata": {},
     "output_type": "execute_result"
    },
    {
     "data": {
      "text/plain": [
       "431"
      ]
     },
     "execution_count": 88,
     "metadata": {},
     "output_type": "execute_result"
    },
    {
     "data": {
      "text/plain": [
       "426"
      ]
     },
     "execution_count": 88,
     "metadata": {},
     "output_type": "execute_result"
    },
    {
     "data": {
      "text/plain": [
       "464"
      ]
     },
     "execution_count": 88,
     "metadata": {},
     "output_type": "execute_result"
    },
    {
     "data": {
      "text/plain": [
       "442"
      ]
     },
     "execution_count": 88,
     "metadata": {},
     "output_type": "execute_result"
    },
    {
     "data": {
      "text/plain": [
       "436"
      ]
     },
     "execution_count": 88,
     "metadata": {},
     "output_type": "execute_result"
    },
    {
     "data": {
      "text/plain": [
       "447"
      ]
     },
     "execution_count": 88,
     "metadata": {},
     "output_type": "execute_result"
    },
    {
     "data": {
      "text/plain": [
       "438"
      ]
     },
     "execution_count": 88,
     "metadata": {},
     "output_type": "execute_result"
    },
    {
     "data": {
      "text/plain": [
       "445"
      ]
     },
     "execution_count": 88,
     "metadata": {},
     "output_type": "execute_result"
    },
    {
     "data": {
      "text/plain": [
       "435"
      ]
     },
     "execution_count": 88,
     "metadata": {},
     "output_type": "execute_result"
    },
    {
     "data": {
      "text/plain": [
       "434"
      ]
     },
     "execution_count": 88,
     "metadata": {},
     "output_type": "execute_result"
    },
    {
     "data": {
      "text/plain": [
       "444"
      ]
     },
     "execution_count": 88,
     "metadata": {},
     "output_type": "execute_result"
    },
    {
     "data": {
      "text/plain": [
       "418"
      ]
     },
     "execution_count": 88,
     "metadata": {},
     "output_type": "execute_result"
    },
    {
     "data": {
      "text/plain": [
       "444"
      ]
     },
     "execution_count": 88,
     "metadata": {},
     "output_type": "execute_result"
    },
    {
     "data": {
      "text/plain": [
       "429"
      ]
     },
     "execution_count": 88,
     "metadata": {},
     "output_type": "execute_result"
    },
    {
     "data": {
      "text/plain": [
       "435"
      ]
     },
     "execution_count": 88,
     "metadata": {},
     "output_type": "execute_result"
    },
    {
     "data": {
      "text/plain": [
       "443"
      ]
     },
     "execution_count": 88,
     "metadata": {},
     "output_type": "execute_result"
    },
    {
     "data": {
      "text/plain": [
       "427"
      ]
     },
     "execution_count": 88,
     "metadata": {},
     "output_type": "execute_result"
    },
    {
     "data": {
      "text/plain": [
       "434"
      ]
     },
     "execution_count": 88,
     "metadata": {},
     "output_type": "execute_result"
    },
    {
     "data": {
      "text/plain": [
       "430"
      ]
     },
     "execution_count": 88,
     "metadata": {},
     "output_type": "execute_result"
    },
    {
     "data": {
      "text/plain": [
       "436"
      ]
     },
     "execution_count": 88,
     "metadata": {},
     "output_type": "execute_result"
    },
    {
     "data": {
      "text/plain": [
       "444"
      ]
     },
     "execution_count": 88,
     "metadata": {},
     "output_type": "execute_result"
    },
    {
     "data": {
      "text/plain": [
       "437"
      ]
     },
     "execution_count": 88,
     "metadata": {},
     "output_type": "execute_result"
    },
    {
     "data": {
      "text/plain": [
       "433"
      ]
     },
     "execution_count": 88,
     "metadata": {},
     "output_type": "execute_result"
    },
    {
     "data": {
      "text/plain": [
       "434"
      ]
     },
     "execution_count": 88,
     "metadata": {},
     "output_type": "execute_result"
    },
    {
     "data": {
      "text/plain": [
       "430"
      ]
     },
     "execution_count": 88,
     "metadata": {},
     "output_type": "execute_result"
    },
    {
     "data": {
      "text/plain": [
       "428"
      ]
     },
     "execution_count": 88,
     "metadata": {},
     "output_type": "execute_result"
    },
    {
     "data": {
      "text/plain": [
       "436"
      ]
     },
     "execution_count": 88,
     "metadata": {},
     "output_type": "execute_result"
    },
    {
     "data": {
      "text/plain": [
       "436"
      ]
     },
     "execution_count": 88,
     "metadata": {},
     "output_type": "execute_result"
    },
    {
     "data": {
      "text/plain": [
       "438"
      ]
     },
     "execution_count": 88,
     "metadata": {},
     "output_type": "execute_result"
    },
    {
     "data": {
      "text/plain": [
       "440"
      ]
     },
     "execution_count": 88,
     "metadata": {},
     "output_type": "execute_result"
    },
    {
     "data": {
      "text/plain": [
       "429"
      ]
     },
     "execution_count": 88,
     "metadata": {},
     "output_type": "execute_result"
    },
    {
     "data": {
      "text/plain": [
       "425"
      ]
     },
     "execution_count": 88,
     "metadata": {},
     "output_type": "execute_result"
    },
    {
     "data": {
      "text/plain": [
       "441"
      ]
     },
     "execution_count": 88,
     "metadata": {},
     "output_type": "execute_result"
    },
    {
     "data": {
      "text/plain": [
       "463"
      ]
     },
     "execution_count": 88,
     "metadata": {},
     "output_type": "execute_result"
    },
    {
     "data": {
      "text/plain": [
       "456"
      ]
     },
     "execution_count": 88,
     "metadata": {},
     "output_type": "execute_result"
    },
    {
     "data": {
      "text/plain": [
       "429"
      ]
     },
     "execution_count": 88,
     "metadata": {},
     "output_type": "execute_result"
    },
    {
     "data": {
      "text/plain": [
       "441"
      ]
     },
     "execution_count": 88,
     "metadata": {},
     "output_type": "execute_result"
    },
    {
     "data": {
      "text/plain": [
       "439"
      ]
     },
     "execution_count": 88,
     "metadata": {},
     "output_type": "execute_result"
    },
    {
     "data": {
      "text/plain": [
       "443"
      ]
     },
     "execution_count": 88,
     "metadata": {},
     "output_type": "execute_result"
    },
    {
     "data": {
      "text/plain": [
       "437"
      ]
     },
     "execution_count": 88,
     "metadata": {},
     "output_type": "execute_result"
    },
    {
     "data": {
      "text/plain": [
       "428"
      ]
     },
     "execution_count": 88,
     "metadata": {},
     "output_type": "execute_result"
    },
    {
     "data": {
      "text/plain": [
       "442"
      ]
     },
     "execution_count": 88,
     "metadata": {},
     "output_type": "execute_result"
    },
    {
     "data": {
      "text/plain": [
       "431"
      ]
     },
     "execution_count": 88,
     "metadata": {},
     "output_type": "execute_result"
    },
    {
     "data": {
      "text/plain": [
       "418"
      ]
     },
     "execution_count": 88,
     "metadata": {},
     "output_type": "execute_result"
    },
    {
     "data": {
      "text/plain": [
       "431"
      ]
     },
     "execution_count": 88,
     "metadata": {},
     "output_type": "execute_result"
    },
    {
     "data": {
      "text/plain": [
       "441"
      ]
     },
     "execution_count": 88,
     "metadata": {},
     "output_type": "execute_result"
    },
    {
     "data": {
      "text/plain": [
       "439"
      ]
     },
     "execution_count": 88,
     "metadata": {},
     "output_type": "execute_result"
    },
    {
     "data": {
      "text/plain": [
       "429"
      ]
     },
     "execution_count": 88,
     "metadata": {},
     "output_type": "execute_result"
    },
    {
     "data": {
      "text/plain": [
       "448"
      ]
     },
     "execution_count": 88,
     "metadata": {},
     "output_type": "execute_result"
    },
    {
     "data": {
      "text/plain": [
       "437"
      ]
     },
     "execution_count": 88,
     "metadata": {},
     "output_type": "execute_result"
    },
    {
     "data": {
      "text/plain": [
       "443"
      ]
     },
     "execution_count": 88,
     "metadata": {},
     "output_type": "execute_result"
    },
    {
     "data": {
      "text/plain": [
       "426"
      ]
     },
     "execution_count": 88,
     "metadata": {},
     "output_type": "execute_result"
    },
    {
     "data": {
      "text/plain": [
       "425"
      ]
     },
     "execution_count": 88,
     "metadata": {},
     "output_type": "execute_result"
    },
    {
     "data": {
      "text/plain": [
       "434"
      ]
     },
     "execution_count": 88,
     "metadata": {},
     "output_type": "execute_result"
    },
    {
     "data": {
      "text/plain": [
       "440"
      ]
     },
     "execution_count": 88,
     "metadata": {},
     "output_type": "execute_result"
    },
    {
     "data": {
      "text/plain": [
       "420"
      ]
     },
     "execution_count": 88,
     "metadata": {},
     "output_type": "execute_result"
    },
    {
     "data": {
      "text/plain": [
       "432"
      ]
     },
     "execution_count": 88,
     "metadata": {},
     "output_type": "execute_result"
    },
    {
     "data": {
      "text/plain": [
       "432"
      ]
     },
     "execution_count": 88,
     "metadata": {},
     "output_type": "execute_result"
    },
    {
     "data": {
      "text/plain": [
       "445"
      ]
     },
     "execution_count": 88,
     "metadata": {},
     "output_type": "execute_result"
    },
    {
     "data": {
      "text/plain": [
       "430"
      ]
     },
     "execution_count": 88,
     "metadata": {},
     "output_type": "execute_result"
    },
    {
     "data": {
      "text/plain": [
       "443"
      ]
     },
     "execution_count": 88,
     "metadata": {},
     "output_type": "execute_result"
    },
    {
     "data": {
      "text/plain": [
       "430"
      ]
     },
     "execution_count": 88,
     "metadata": {},
     "output_type": "execute_result"
    },
    {
     "data": {
      "text/plain": [
       "436"
      ]
     },
     "execution_count": 88,
     "metadata": {},
     "output_type": "execute_result"
    },
    {
     "data": {
      "text/plain": [
       "428"
      ]
     },
     "execution_count": 88,
     "metadata": {},
     "output_type": "execute_result"
    },
    {
     "data": {
      "text/plain": [
       "434"
      ]
     },
     "execution_count": 88,
     "metadata": {},
     "output_type": "execute_result"
    },
    {
     "data": {
      "text/plain": [
       "442"
      ]
     },
     "execution_count": 88,
     "metadata": {},
     "output_type": "execute_result"
    },
    {
     "data": {
      "text/plain": [
       "442"
      ]
     },
     "execution_count": 88,
     "metadata": {},
     "output_type": "execute_result"
    },
    {
     "data": {
      "text/plain": [
       "450"
      ]
     },
     "execution_count": 88,
     "metadata": {},
     "output_type": "execute_result"
    },
    {
     "data": {
      "text/plain": [
       "431"
      ]
     },
     "execution_count": 88,
     "metadata": {},
     "output_type": "execute_result"
    },
    {
     "data": {
      "text/plain": [
       "440"
      ]
     },
     "execution_count": 88,
     "metadata": {},
     "output_type": "execute_result"
    },
    {
     "data": {
      "text/plain": [
       "433"
      ]
     },
     "execution_count": 88,
     "metadata": {},
     "output_type": "execute_result"
    },
    {
     "data": {
      "text/plain": [
       "432"
      ]
     },
     "execution_count": 88,
     "metadata": {},
     "output_type": "execute_result"
    },
    {
     "data": {
      "text/plain": [
       "430"
      ]
     },
     "execution_count": 88,
     "metadata": {},
     "output_type": "execute_result"
    },
    {
     "data": {
      "text/plain": [
       "429"
      ]
     },
     "execution_count": 88,
     "metadata": {},
     "output_type": "execute_result"
    },
    {
     "data": {
      "text/plain": [
       "428"
      ]
     },
     "execution_count": 88,
     "metadata": {},
     "output_type": "execute_result"
    },
    {
     "data": {
      "text/plain": [
       "441"
      ]
     },
     "execution_count": 88,
     "metadata": {},
     "output_type": "execute_result"
    },
    {
     "data": {
      "text/plain": [
       "423"
      ]
     },
     "execution_count": 88,
     "metadata": {},
     "output_type": "execute_result"
    },
    {
     "data": {
      "text/plain": [
       "440"
      ]
     },
     "execution_count": 88,
     "metadata": {},
     "output_type": "execute_result"
    },
    {
     "data": {
      "text/plain": [
       "438"
      ]
     },
     "execution_count": 88,
     "metadata": {},
     "output_type": "execute_result"
    },
    {
     "data": {
      "text/plain": [
       "440"
      ]
     },
     "execution_count": 88,
     "metadata": {},
     "output_type": "execute_result"
    },
    {
     "data": {
      "text/plain": [
       "427"
      ]
     },
     "execution_count": 88,
     "metadata": {},
     "output_type": "execute_result"
    },
    {
     "data": {
      "text/plain": [
       "447"
      ]
     },
     "execution_count": 88,
     "metadata": {},
     "output_type": "execute_result"
    },
    {
     "data": {
      "text/plain": [
       "438"
      ]
     },
     "execution_count": 88,
     "metadata": {},
     "output_type": "execute_result"
    },
    {
     "data": {
      "text/plain": [
       "431"
      ]
     },
     "execution_count": 88,
     "metadata": {},
     "output_type": "execute_result"
    },
    {
     "data": {
      "text/plain": [
       "440"
      ]
     },
     "execution_count": 88,
     "metadata": {},
     "output_type": "execute_result"
    },
    {
     "data": {
      "text/plain": [
       "437"
      ]
     },
     "execution_count": 88,
     "metadata": {},
     "output_type": "execute_result"
    },
    {
     "data": {
      "text/plain": [
       "436"
      ]
     },
     "execution_count": 88,
     "metadata": {},
     "output_type": "execute_result"
    },
    {
     "data": {
      "text/plain": [
       "440"
      ]
     },
     "execution_count": 88,
     "metadata": {},
     "output_type": "execute_result"
    },
    {
     "data": {
      "text/plain": [
       "441"
      ]
     },
     "execution_count": 88,
     "metadata": {},
     "output_type": "execute_result"
    },
    {
     "data": {
      "text/plain": [
       "435"
      ]
     },
     "execution_count": 88,
     "metadata": {},
     "output_type": "execute_result"
    },
    {
     "data": {
      "text/plain": [
       "433"
      ]
     },
     "execution_count": 88,
     "metadata": {},
     "output_type": "execute_result"
    },
    {
     "data": {
      "text/plain": [
       "431"
      ]
     },
     "execution_count": 88,
     "metadata": {},
     "output_type": "execute_result"
    },
    {
     "data": {
      "text/plain": [
       "441"
      ]
     },
     "execution_count": 88,
     "metadata": {},
     "output_type": "execute_result"
    },
    {
     "data": {
      "text/plain": [
       "434"
      ]
     },
     "execution_count": 88,
     "metadata": {},
     "output_type": "execute_result"
    },
    {
     "data": {
      "text/plain": [
       "438"
      ]
     },
     "execution_count": 88,
     "metadata": {},
     "output_type": "execute_result"
    },
    {
     "data": {
      "text/plain": [
       "448"
      ]
     },
     "execution_count": 88,
     "metadata": {},
     "output_type": "execute_result"
    },
    {
     "data": {
      "text/plain": [
       "437"
      ]
     },
     "execution_count": 88,
     "metadata": {},
     "output_type": "execute_result"
    },
    {
     "data": {
      "text/plain": [
       "440"
      ]
     },
     "execution_count": 88,
     "metadata": {},
     "output_type": "execute_result"
    },
    {
     "data": {
      "text/plain": [
       "444"
      ]
     },
     "execution_count": 88,
     "metadata": {},
     "output_type": "execute_result"
    },
    {
     "data": {
      "text/plain": [
       "441"
      ]
     },
     "execution_count": 88,
     "metadata": {},
     "output_type": "execute_result"
    },
    {
     "data": {
      "text/plain": [
       "423"
      ]
     },
     "execution_count": 88,
     "metadata": {},
     "output_type": "execute_result"
    },
    {
     "data": {
      "text/plain": [
       "450"
      ]
     },
     "execution_count": 88,
     "metadata": {},
     "output_type": "execute_result"
    },
    {
     "data": {
      "text/plain": [
       "449"
      ]
     },
     "execution_count": 88,
     "metadata": {},
     "output_type": "execute_result"
    },
    {
     "data": {
      "text/plain": [
       "431"
      ]
     },
     "execution_count": 88,
     "metadata": {},
     "output_type": "execute_result"
    },
    {
     "data": {
      "text/plain": [
       "428"
      ]
     },
     "execution_count": 88,
     "metadata": {},
     "output_type": "execute_result"
    },
    {
     "data": {
      "text/plain": [
       "438"
      ]
     },
     "execution_count": 88,
     "metadata": {},
     "output_type": "execute_result"
    },
    {
     "data": {
      "text/plain": [
       "428"
      ]
     },
     "execution_count": 88,
     "metadata": {},
     "output_type": "execute_result"
    },
    {
     "data": {
      "text/plain": [
       "431"
      ]
     },
     "execution_count": 88,
     "metadata": {},
     "output_type": "execute_result"
    },
    {
     "data": {
      "text/plain": [
       "434"
      ]
     },
     "execution_count": 88,
     "metadata": {},
     "output_type": "execute_result"
    },
    {
     "data": {
      "text/plain": [
       "451"
      ]
     },
     "execution_count": 88,
     "metadata": {},
     "output_type": "execute_result"
    },
    {
     "data": {
      "text/plain": [
       "429"
      ]
     },
     "execution_count": 88,
     "metadata": {},
     "output_type": "execute_result"
    },
    {
     "data": {
      "text/plain": [
       "453"
      ]
     },
     "execution_count": 88,
     "metadata": {},
     "output_type": "execute_result"
    },
    {
     "data": {
      "text/plain": [
       "439"
      ]
     },
     "execution_count": 88,
     "metadata": {},
     "output_type": "execute_result"
    },
    {
     "data": {
      "text/plain": [
       "430"
      ]
     },
     "execution_count": 88,
     "metadata": {},
     "output_type": "execute_result"
    },
    {
     "data": {
      "text/plain": [
       "432"
      ]
     },
     "execution_count": 88,
     "metadata": {},
     "output_type": "execute_result"
    },
    {
     "data": {
      "text/plain": [
       "436"
      ]
     },
     "execution_count": 88,
     "metadata": {},
     "output_type": "execute_result"
    },
    {
     "data": {
      "text/plain": [
       "443"
      ]
     },
     "execution_count": 88,
     "metadata": {},
     "output_type": "execute_result"
    },
    {
     "data": {
      "text/plain": [
       "444"
      ]
     },
     "execution_count": 88,
     "metadata": {},
     "output_type": "execute_result"
    },
    {
     "data": {
      "text/plain": [
       "430"
      ]
     },
     "execution_count": 88,
     "metadata": {},
     "output_type": "execute_result"
    },
    {
     "data": {
      "text/plain": [
       "427"
      ]
     },
     "execution_count": 88,
     "metadata": {},
     "output_type": "execute_result"
    },
    {
     "data": {
      "text/plain": [
       "435"
      ]
     },
     "execution_count": 88,
     "metadata": {},
     "output_type": "execute_result"
    },
    {
     "data": {
      "text/plain": [
       "429"
      ]
     },
     "execution_count": 88,
     "metadata": {},
     "output_type": "execute_result"
    },
    {
     "data": {
      "text/plain": [
       "446"
      ]
     },
     "execution_count": 88,
     "metadata": {},
     "output_type": "execute_result"
    },
    {
     "data": {
      "text/plain": [
       "453"
      ]
     },
     "execution_count": 88,
     "metadata": {},
     "output_type": "execute_result"
    },
    {
     "data": {
      "text/plain": [
       "435"
      ]
     },
     "execution_count": 88,
     "metadata": {},
     "output_type": "execute_result"
    },
    {
     "data": {
      "text/plain": [
       "434"
      ]
     },
     "execution_count": 88,
     "metadata": {},
     "output_type": "execute_result"
    },
    {
     "data": {
      "text/plain": [
       "450"
      ]
     },
     "execution_count": 88,
     "metadata": {},
     "output_type": "execute_result"
    },
    {
     "data": {
      "text/plain": [
       "441"
      ]
     },
     "execution_count": 88,
     "metadata": {},
     "output_type": "execute_result"
    },
    {
     "data": {
      "text/plain": [
       "420"
      ]
     },
     "execution_count": 88,
     "metadata": {},
     "output_type": "execute_result"
    },
    {
     "data": {
      "text/plain": [
       "439"
      ]
     },
     "execution_count": 88,
     "metadata": {},
     "output_type": "execute_result"
    },
    {
     "data": {
      "text/plain": [
       "439"
      ]
     },
     "execution_count": 88,
     "metadata": {},
     "output_type": "execute_result"
    },
    {
     "data": {
      "text/plain": [
       "438"
      ]
     },
     "execution_count": 88,
     "metadata": {},
     "output_type": "execute_result"
    },
    {
     "data": {
      "text/plain": [
       "431"
      ]
     },
     "execution_count": 88,
     "metadata": {},
     "output_type": "execute_result"
    },
    {
     "data": {
      "text/plain": [
       "430"
      ]
     },
     "execution_count": 88,
     "metadata": {},
     "output_type": "execute_result"
    },
    {
     "data": {
      "text/plain": [
       "439"
      ]
     },
     "execution_count": 88,
     "metadata": {},
     "output_type": "execute_result"
    },
    {
     "data": {
      "text/plain": [
       "443"
      ]
     },
     "execution_count": 88,
     "metadata": {},
     "output_type": "execute_result"
    },
    {
     "data": {
      "text/plain": [
       "447"
      ]
     },
     "execution_count": 88,
     "metadata": {},
     "output_type": "execute_result"
    },
    {
     "data": {
      "text/plain": [
       "451"
      ]
     },
     "execution_count": 88,
     "metadata": {},
     "output_type": "execute_result"
    },
    {
     "data": {
      "text/plain": [
       "433"
      ]
     },
     "execution_count": 88,
     "metadata": {},
     "output_type": "execute_result"
    },
    {
     "data": {
      "text/plain": [
       "449"
      ]
     },
     "execution_count": 88,
     "metadata": {},
     "output_type": "execute_result"
    },
    {
     "data": {
      "text/plain": [
       "431"
      ]
     },
     "execution_count": 88,
     "metadata": {},
     "output_type": "execute_result"
    },
    {
     "data": {
      "text/plain": [
       "426"
      ]
     },
     "execution_count": 88,
     "metadata": {},
     "output_type": "execute_result"
    },
    {
     "data": {
      "text/plain": [
       "462"
      ]
     },
     "execution_count": 88,
     "metadata": {},
     "output_type": "execute_result"
    },
    {
     "data": {
      "text/plain": [
       "439"
      ]
     },
     "execution_count": 88,
     "metadata": {},
     "output_type": "execute_result"
    },
    {
     "data": {
      "text/plain": [
       "443"
      ]
     },
     "execution_count": 88,
     "metadata": {},
     "output_type": "execute_result"
    },
    {
     "data": {
      "text/plain": [
       "438"
      ]
     },
     "execution_count": 88,
     "metadata": {},
     "output_type": "execute_result"
    },
    {
     "data": {
      "text/plain": [
       "439"
      ]
     },
     "execution_count": 88,
     "metadata": {},
     "output_type": "execute_result"
    },
    {
     "data": {
      "text/plain": [
       "447"
      ]
     },
     "execution_count": 88,
     "metadata": {},
     "output_type": "execute_result"
    },
    {
     "data": {
      "text/plain": [
       "426"
      ]
     },
     "execution_count": 88,
     "metadata": {},
     "output_type": "execute_result"
    },
    {
     "data": {
      "text/plain": [
       "447"
      ]
     },
     "execution_count": 88,
     "metadata": {},
     "output_type": "execute_result"
    },
    {
     "data": {
      "text/plain": [
       "465"
      ]
     },
     "execution_count": 88,
     "metadata": {},
     "output_type": "execute_result"
    },
    {
     "data": {
      "text/plain": [
       "433"
      ]
     },
     "execution_count": 88,
     "metadata": {},
     "output_type": "execute_result"
    },
    {
     "data": {
      "text/plain": [
       "440"
      ]
     },
     "execution_count": 88,
     "metadata": {},
     "output_type": "execute_result"
    },
    {
     "data": {
      "text/plain": [
       "433"
      ]
     },
     "execution_count": 88,
     "metadata": {},
     "output_type": "execute_result"
    },
    {
     "data": {
      "text/plain": [
       "429"
      ]
     },
     "execution_count": 88,
     "metadata": {},
     "output_type": "execute_result"
    },
    {
     "data": {
      "text/plain": [
       "432"
      ]
     },
     "execution_count": 88,
     "metadata": {},
     "output_type": "execute_result"
    },
    {
     "data": {
      "text/plain": [
       "433"
      ]
     },
     "execution_count": 88,
     "metadata": {},
     "output_type": "execute_result"
    },
    {
     "data": {
      "text/plain": [
       "429"
      ]
     },
     "execution_count": 88,
     "metadata": {},
     "output_type": "execute_result"
    },
    {
     "data": {
      "text/plain": [
       "452"
      ]
     },
     "execution_count": 88,
     "metadata": {},
     "output_type": "execute_result"
    },
    {
     "data": {
      "text/plain": [
       "431"
      ]
     },
     "execution_count": 88,
     "metadata": {},
     "output_type": "execute_result"
    },
    {
     "data": {
      "text/plain": [
       "444"
      ]
     },
     "execution_count": 88,
     "metadata": {},
     "output_type": "execute_result"
    },
    {
     "data": {
      "text/plain": [
       "440"
      ]
     },
     "execution_count": 88,
     "metadata": {},
     "output_type": "execute_result"
    },
    {
     "data": {
      "text/plain": [
       "450"
      ]
     },
     "execution_count": 88,
     "metadata": {},
     "output_type": "execute_result"
    },
    {
     "data": {
      "text/plain": [
       "447"
      ]
     },
     "execution_count": 88,
     "metadata": {},
     "output_type": "execute_result"
    },
    {
     "data": {
      "text/plain": [
       "437"
      ]
     },
     "execution_count": 88,
     "metadata": {},
     "output_type": "execute_result"
    },
    {
     "data": {
      "text/plain": [
       "453"
      ]
     },
     "execution_count": 88,
     "metadata": {},
     "output_type": "execute_result"
    },
    {
     "data": {
      "text/plain": [
       "444"
      ]
     },
     "execution_count": 88,
     "metadata": {},
     "output_type": "execute_result"
    },
    {
     "data": {
      "text/plain": [
       "437"
      ]
     },
     "execution_count": 88,
     "metadata": {},
     "output_type": "execute_result"
    },
    {
     "data": {
      "text/plain": [
       "432"
      ]
     },
     "execution_count": 88,
     "metadata": {},
     "output_type": "execute_result"
    },
    {
     "data": {
      "text/plain": [
       "436"
      ]
     },
     "execution_count": 88,
     "metadata": {},
     "output_type": "execute_result"
    },
    {
     "data": {
      "text/plain": [
       "448"
      ]
     },
     "execution_count": 88,
     "metadata": {},
     "output_type": "execute_result"
    },
    {
     "data": {
      "text/plain": [
       "433"
      ]
     },
     "execution_count": 88,
     "metadata": {},
     "output_type": "execute_result"
    },
    {
     "data": {
      "text/plain": [
       "441"
      ]
     },
     "execution_count": 88,
     "metadata": {},
     "output_type": "execute_result"
    },
    {
     "data": {
      "text/plain": [
       "439"
      ]
     },
     "execution_count": 88,
     "metadata": {},
     "output_type": "execute_result"
    },
    {
     "data": {
      "text/plain": [
       "448"
      ]
     },
     "execution_count": 88,
     "metadata": {},
     "output_type": "execute_result"
    },
    {
     "data": {
      "text/plain": [
       "463"
      ]
     },
     "execution_count": 88,
     "metadata": {},
     "output_type": "execute_result"
    },
    {
     "data": {
      "text/plain": [
       "452"
      ]
     },
     "execution_count": 88,
     "metadata": {},
     "output_type": "execute_result"
    },
    {
     "data": {
      "text/plain": [
       "432"
      ]
     },
     "execution_count": 88,
     "metadata": {},
     "output_type": "execute_result"
    },
    {
     "data": {
      "text/plain": [
       "431"
      ]
     },
     "execution_count": 88,
     "metadata": {},
     "output_type": "execute_result"
    },
    {
     "data": {
      "text/plain": [
       "426"
      ]
     },
     "execution_count": 88,
     "metadata": {},
     "output_type": "execute_result"
    },
    {
     "data": {
      "text/plain": [
       "453"
      ]
     },
     "execution_count": 88,
     "metadata": {},
     "output_type": "execute_result"
    },
    {
     "data": {
      "text/plain": [
       "436"
      ]
     },
     "execution_count": 88,
     "metadata": {},
     "output_type": "execute_result"
    }
   ],
   "source": [
    "header = open('../all_zeros_benchmark.csv','r').readlines()[0]\n",
    "\n",
    "with open('submission_8.csv','w') as outfile:\n",
    "    outfile.write(header)\n",
    "    for i in range(X_test.shape[0]):\n",
    "        id_ = get_id(lst_t[i])\n",
    "        pred = predictions[i]\n",
    "        outline = id_ + \",\" + \",\".join([str(x) for x in pred])\n",
    "        outfile.write(outline + \"\\n\")"
   ]
  },
  {
   "cell_type": "code",
   "execution_count": null,
   "metadata": {},
   "outputs": [],
   "source": []
  },
  {
   "cell_type": "code",
   "execution_count": null,
   "metadata": {},
   "outputs": [],
   "source": []
  }
 ],
 "metadata": {
  "kernelspec": {
   "display_name": "Python 3",
   "language": "python",
   "name": "python3"
  },
  "language_info": {
   "codemirror_mode": {
    "name": "ipython",
    "version": 3
   },
   "file_extension": ".py",
   "mimetype": "text/x-python",
   "name": "python",
   "nbconvert_exporter": "python",
   "pygments_lexer": "ipython3",
   "version": "3.6.7"
  }
 },
 "nbformat": 4,
 "nbformat_minor": 2
}
