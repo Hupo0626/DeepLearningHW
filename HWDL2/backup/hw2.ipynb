{
 "cells": [
  {
   "cell_type": "markdown",
   "metadata": {},
   "source": [
    "# CS-GY 9223-D: Deep Learning Homework 2\n",
    "Due on Friday, 12th March 2019, 11:55 PM\n",
    "\n",
    "This homework can be done in pairs.\n",
    "\n",
    "Write down the UNIs (NetIDs) of your group (if applicable)\n",
    "\n",
    "Member 1: Hupo Tang, ht1073\n",
    "\n",
    "Member 2: Name, NetID"
   ]
  },
  {
   "cell_type": "code",
   "execution_count": 64,
   "metadata": {},
   "outputs": [],
   "source": [
    "import os\n",
    "import numpy as np\n",
    "import glob\n",
    "import tensorflow as tf\n",
    "from keras.models import Sequential, Model\n",
    "from keras.layers.core import Flatten, Dense, Dropout, Lambda, Reshape\n",
    "from keras.layers import Input\n",
    "from keras.layers.convolutional import Convolution2D, MaxPooling2D, ZeroPadding2D\n",
    "from keras.layers import Conv2D, MaxPooling2D, Activation\n",
    "from keras.optimizers import SGD, RMSprop, Adam\n",
    "\n",
    "# from tensorflow.keras.models import Model, Sequential\n",
    "# from tensorflow.keras.layers import Input, Conv2D, MaxPooling2D, Activation, Flatten, Dense, Dropout, Lambda, Reshape, ZeroPadding2D\n",
    "# from tensorflow.keras.optimizers import Adam, SGD, RMSprop\n",
    "# from tensorflow.keras.datasets import mnist\n",
    "# from tensorflow.keras.utils import to_categorical\n",
    "\n",
    "import cv2\n",
    "# import matplotlib.pylab as plt\n",
    "# %matplotlib inline"
   ]
  },
  {
   "cell_type": "code",
   "execution_count": 5,
   "metadata": {},
   "outputs": [],
   "source": [
    "import warnings\n",
    "warnings.filterwarnings('ignore')\n",
    "from IPython.core.interactiveshell import InteractiveShell\n",
    "InteractiveShell.ast_node_interactivity='all'"
   ]
  },
  {
   "cell_type": "code",
   "execution_count": 6,
   "metadata": {},
   "outputs": [],
   "source": [
    "data_path = './'\n",
    "TRAIN = './images_training_rev1/'\n",
    "VALID = ''\n",
    "TEST = './images_test_rev1/'\n",
    "LABELS = './training_solutions_rev1.csv'"
   ]
  },
  {
   "cell_type": "code",
   "execution_count": 19,
   "metadata": {},
   "outputs": [],
   "source": [
    "from random import shuffle\n",
    "from scipy.misc import imresize\n",
    "import csv\n",
    "\n",
    "class data_loader:    \n",
    "    \"\"\"\n",
    "    Creates a class for handling train/valid/test data paths,\n",
    "    training labels and image IDs.\n",
    "    Useful for switching between sample and full datasets.\n",
    "    \"\"\"\n",
    "    def __init__(self, path):    \n",
    "        self.path = path \n",
    "        self.train_path = TRAIN\n",
    "        #self.val_path = path + \"valid\"\n",
    "        self.test_path = TEST\n",
    "        \n",
    "        def get_paths(directory):\n",
    "            return [f for f in os.listdir(directory)]\n",
    "        \n",
    "        self.training_images_paths = get_paths(self.train_path)\n",
    "        # self.validation_images_paths = get_paths(self.val_path)\n",
    "        self.test_images_paths = get_paths(self.test_path)    \n",
    "        \n",
    "        def get_all_solutions():\n",
    "        # Import solutions file and load into self.solutions\n",
    "            all_solutions = {}\n",
    "            # /'training_solutions_rev1.csv'\n",
    "            with open(LABELS, 'r') as f:\n",
    "                reader = csv.reader(f, delimiter=\",\")\n",
    "                next(reader)\n",
    "                for i, line in enumerate(reader):\n",
    "                    all_solutions[line[0]] = [float(x) for x in line[1:]]\n",
    "            return all_solutions\n",
    "        \n",
    "        self.all_solutions = get_all_solutions()\n",
    "\n",
    "    def get_id(self,fname):\n",
    "        return fname.replace(\".jpg\",\"\").replace(\"data\",\"\")\n",
    "        \n",
    "    def find_label(self,val):\n",
    "        return self.all_solutions[val]\n",
    "\n",
    "def process_images(paths):\n",
    "    \"\"\"\n",
    "    Import image at 'paths', decode, centre crop and prepare for batching. \n",
    "    \"\"\"\n",
    "    count = len(paths)\n",
    "    arr = np.zeros(shape=(count,3,106,106))\n",
    "    for c, path in enumerate(paths):\n",
    "        img = cv2.imread(path).T\n",
    "        img = img[:,106:106*3,106:106*3] #crop 424x424 -> 212x212\n",
    "        img = imresize(img,size=(106,106,3),interp=\"cubic\").T # downsample to half res\n",
    "        arr[c] = img\n",
    "    return arr\n",
    "\n",
    "def BatchGenerator(getter):\n",
    "    while 1:\n",
    "        for f in getter.training_images_paths:\n",
    "            X_train = process_images([getter.train_path + '/' + fname for fname in [f]])\n",
    "            id_ = getter.get_id(f)\n",
    "            y_train = np.array(getter.find_label(id_))\n",
    "            y_train = np.reshape(y_train,(1,37))\n",
    "            yield (X_train, y_train)\n"
   ]
  },
  {
   "cell_type": "code",
   "execution_count": 20,
   "metadata": {},
   "outputs": [],
   "source": [
    "def rotate(img):\n",
    "    return np.rot90(img,axes=(1,2))\n",
    "\n",
    "def flip(img):\n",
    "    return np.flip(img, axis=1)            \n",
    "\n",
    "def process_withaug(paths,aug=0):\n",
    "    count = len(paths)\n",
    "    arr = np.zeros(shape=(count,3,106,106))\n",
    "    for c, path in enumerate(paths):\n",
    "        raw_img = cv2.imread(path).T\n",
    "        if not aug:\n",
    "            img=raw_img\n",
    "        else:\n",
    "            auger={1:rotate,2:flip}.get(aug)\n",
    "            img=auger(raw_img)\n",
    "        img = img[:,106:106*3,106:106*3] #crop 424x424 -> 212x212\n",
    "        img = imresize(img,size=(106,106,3),interp=\"cubic\").T # downsample to half res\n",
    "        arr[c] = img\n",
    "    return arr\n",
    "\n",
    "def BatchGenerator_withaug(getter):\n",
    "    while 1:\n",
    "        for f in getter.training_images_paths:\n",
    "            for aug in {0,1,2}:\n",
    "                X_train = process_withaug([getter.train_path + '/' + fname for fname in [f]], aug)\n",
    "                id_ = getter.get_id(f)\n",
    "                y_train = np.array(getter.find_label(id_))\n",
    "                y_train = np.reshape(y_train,(1,37))\n",
    "                yield (X_train, y_train)\n"
   ]
  },
  {
   "cell_type": "code",
   "execution_count": 8,
   "metadata": {},
   "outputs": [],
   "source": [
    "fetcher = data_loader(data_path)"
   ]
  },
  {
   "cell_type": "code",
   "execution_count": 9,
   "metadata": {},
   "outputs": [],
   "source": [
    "def ConvBlock(layers, model, filters):\n",
    "    \"\"\"\n",
    "    Create a layered Conv/Pooling block\n",
    "    \"\"\"\n",
    "    for i in range(layers): \n",
    "        model.add(ZeroPadding2D((1,1)))  # zero padding of size 1\n",
    "        model.add(Convolution2D(filters, 3, 3, activation='relu'))  # 3x3 filter size \n",
    "    model.add(MaxPooling2D((1,1), strides=(2,2)))\n",
    "\n",
    "def FCBlock(model):\n",
    "    \"\"\"\n",
    "    Fully connected block with ReLU and dropout\n",
    "    \"\"\"\n",
    "    model.add(Dense(4096, activation='relu'))\n",
    "    model.add(Dropout(0.5))\n",
    "    \n",
    "def VGG_16():\n",
    "    \"\"\"\n",
    "    Implement VGG16 architecture\n",
    "    \"\"\"\n",
    "    model = Sequential()\n",
    "    model.add(Lambda(lambda x : x, input_shape=(3,106,106)))\n",
    "    \n",
    "    ConvBlock(2, model, 64)\n",
    "    ConvBlock(2, model, 128)\n",
    "    ConvBlock(3, model, 256)\n",
    "    ConvBlock(3, model, 512)\n",
    "    ConvBlock(3, model, 512)\n",
    "\n",
    "    model.add(Flatten())\n",
    "    FCBlock(model)\n",
    "    FCBlock(model)\n",
    "    \n",
    "    model.add(Dense(37, activation = 'sigmoid'))\n",
    "    return model\n"
   ]
  },
  {
   "cell_type": "code",
   "execution_count": 10,
   "metadata": {},
   "outputs": [],
   "source": [
    "# Compile \n",
    "optimizer = RMSprop(lr=1e-6)\n",
    "model = VGG_16()\n",
    "model.compile(loss='mean_squared_error', optimizer=optimizer)"
   ]
  },
  {
   "cell_type": "code",
   "execution_count": 30,
   "metadata": {},
   "outputs": [],
   "source": [
    "from keras.callbacks import Callback\n",
    "from keras.callbacks import ModelCheckpoint, Callback, EarlyStopping\n",
    "\n",
    "class LossHistory(Callback):\n",
    "    def on_train_begin(self, logs={}):\n",
    "        self.losses = []\n",
    "        self.val_losses = []\n",
    "\n",
    "    def on_batch_end(self, batch, logs={}):\n",
    "        self.losses.append(logs.get('loss'))\n",
    "        self.val_losses.append(logs.get('val_loss'))\n",
    "    \n",
    "early_stopping = EarlyStopping(monitor='val_loss', patience=7, verbose=1, mode='auto')\n",
    "checkpointer = ModelCheckpoint(filepath='./tmp/weights.hdf5', verbose=1, save_best_only=True)\n",
    "\n",
    "batch_size = 32\n",
    "steps_to_take = int(len(fetcher.training_images_paths)/batch_size)\n",
    "\n",
    "history = LossHistory()"
   ]
  },
  {
   "cell_type": "code",
   "execution_count": 4,
   "metadata": {},
   "outputs": [
    {
     "data": {
      "text/plain": [
       "['/job:localhost/replica:0/task:0/device:GPU:0']"
      ]
     },
     "execution_count": 4,
     "metadata": {},
     "output_type": "execute_result"
    }
   ],
   "source": [
    "from keras import backend as K\n",
    "K.tensorflow_backend._get_available_gpus()"
   ]
  },
  {
   "cell_type": "code",
   "execution_count": 12,
   "metadata": {},
   "outputs": [
    {
     "name": "stdout",
     "output_type": "stream",
     "text": [
      "Epoch 1/50\n",
      " - 67s - loss: 0.0969\n",
      "Epoch 2/50\n",
      " - 58s - loss: 0.0324\n",
      "Epoch 3/50\n",
      " - 60s - loss: 0.0314\n",
      "Epoch 4/50\n",
      " - 56s - loss: 0.0310\n",
      "Epoch 5/50\n",
      " - 61s - loss: 0.0299\n",
      "Epoch 6/50\n",
      " - 57s - loss: 0.0292\n",
      "Epoch 7/50\n",
      " - 60s - loss: 0.0292\n",
      "Epoch 8/50\n",
      " - 63s - loss: 0.0288\n",
      "Epoch 9/50\n",
      " - 61s - loss: 0.0284\n",
      "Epoch 10/50\n",
      " - 56s - loss: 0.0289\n",
      "Epoch 11/50\n",
      " - 70s - loss: 0.0281\n",
      "Epoch 12/50\n",
      " - 67s - loss: 0.0279\n",
      "Epoch 13/50\n",
      " - 71s - loss: 0.0279\n",
      "Epoch 14/50\n",
      " - 63s - loss: 0.0280\n",
      "Epoch 15/50\n",
      " - 62s - loss: 0.0278\n",
      "Epoch 16/50\n",
      " - 65s - loss: 0.0271\n",
      "Epoch 17/50\n",
      " - 63s - loss: 0.0269\n",
      "Epoch 18/50\n",
      " - 60s - loss: 0.0277\n",
      "Epoch 19/50\n",
      " - 64s - loss: 0.0267\n",
      "Epoch 20/50\n",
      " - 61s - loss: 0.0265\n",
      "Epoch 21/50\n",
      " - 62s - loss: 0.0265\n",
      "Epoch 22/50\n",
      " - 60s - loss: 0.0266\n",
      "Epoch 23/50\n",
      " - 60s - loss: 0.0273\n",
      "Epoch 24/50\n",
      " - 61s - loss: 0.0264\n",
      "Epoch 25/50\n",
      " - 67s - loss: 0.0256\n",
      "Epoch 26/50\n",
      " - 64s - loss: 0.0250\n",
      "Epoch 27/50\n",
      " - 59s - loss: 0.0246\n",
      "Epoch 28/50\n",
      " - 63s - loss: 0.0242\n",
      "Epoch 29/50\n",
      " - 67s - loss: 0.0243\n",
      "Epoch 30/50\n",
      " - 58s - loss: 0.0235\n",
      "Epoch 31/50\n",
      " - 66s - loss: 0.0230\n",
      "Epoch 32/50\n",
      " - 65s - loss: 0.0229\n",
      "Epoch 33/50\n",
      " - 65s - loss: 0.0231\n",
      "Epoch 34/50\n",
      " - 63s - loss: 0.0225\n",
      "Epoch 35/50\n",
      " - 63s - loss: 0.0224\n",
      "Epoch 36/50\n",
      " - 54s - loss: 0.0218\n",
      "Epoch 37/50\n",
      " - 54s - loss: 0.0218\n",
      "Epoch 38/50\n",
      " - 62s - loss: 0.0220\n",
      "Epoch 39/50\n",
      " - 59s - loss: 0.0223\n",
      "Epoch 40/50\n",
      " - 56s - loss: 0.0223\n",
      "Epoch 41/50\n",
      " - 55s - loss: 0.0222\n",
      "Epoch 42/50\n",
      " - 56s - loss: 0.0223\n",
      "Epoch 43/50\n",
      " - 57s - loss: 0.0219\n",
      "Epoch 44/50\n",
      " - 63s - loss: 0.0217\n",
      "Epoch 45/50\n",
      " - 54s - loss: 0.0214\n",
      "Epoch 46/50\n",
      " - 54s - loss: 0.0215\n",
      "Epoch 47/50\n",
      " - 55s - loss: 0.0214\n",
      "Epoch 48/50\n",
      " - 53s - loss: 0.0213\n",
      "Epoch 49/50\n",
      " - 57s - loss: 0.0209\n",
      "Epoch 50/50\n",
      " - 56s - loss: 0.0216\n"
     ]
    }
   ],
   "source": [
    "# VGG16 with no augmentation\n",
    "\n",
    "hist = model.fit_generator(BatchGenerator(fetcher),\n",
    "                    samples_per_epoch=steps_to_take, \n",
    "                    nb_epoch=50,\n",
    "                    verbose=2,\n",
    "                    callbacks=[history,checkpointer,early_stopping],\n",
    "                   )"
   ]
  },
  {
   "cell_type": "code",
   "execution_count": 22,
   "metadata": {},
   "outputs": [
    {
     "name": "stdout",
     "output_type": "stream",
     "text": [
      "Epoch 1/25\n",
      " - 117s - loss: 0.0219\n",
      "Epoch 2/25\n",
      " - 117s - loss: 0.0211\n",
      "Epoch 3/25\n",
      " - 118s - loss: 0.0205\n",
      "Epoch 4/25\n",
      " - 118s - loss: 0.0199\n",
      "Epoch 5/25\n",
      " - 119s - loss: 0.0199\n",
      "Epoch 6/25\n",
      " - 125s - loss: 0.0201\n",
      "Epoch 7/25\n",
      " - 120s - loss: 0.0200\n",
      "Epoch 8/25\n",
      " - 117s - loss: 0.0198\n",
      "Epoch 9/25\n",
      " - 118s - loss: 0.0195\n",
      "Epoch 10/25\n",
      " - 124s - loss: 0.0197\n",
      "Epoch 11/25\n",
      " - 130s - loss: 0.0190\n",
      "Epoch 12/25\n",
      " - 117s - loss: 0.0187\n",
      "Epoch 13/25\n",
      " - 117s - loss: 0.0186\n",
      "Epoch 14/25\n",
      " - 117s - loss: 0.0186\n",
      "Epoch 15/25\n",
      " - 117s - loss: 0.0187\n",
      "Epoch 16/25\n",
      " - 117s - loss: 0.0183\n",
      "Epoch 17/25\n",
      " - 117s - loss: 0.0176\n",
      "Epoch 18/25\n",
      " - 117s - loss: 0.0185\n",
      "Epoch 19/25\n",
      " - 117s - loss: 0.0176\n",
      "Epoch 20/25\n",
      " - 117s - loss: 0.0175\n",
      "Epoch 21/25\n",
      " - 117s - loss: 0.0174\n",
      "Epoch 22/25\n",
      " - 117s - loss: 0.0178\n",
      "Epoch 23/25\n",
      " - 117s - loss: 0.0178\n",
      "Epoch 24/25\n",
      " - 117s - loss: 0.0173\n",
      "Epoch 25/25\n",
      " - 117s - loss: 0.0174\n"
     ]
    }
   ],
   "source": [
    "# VGG16 with augmentation\n",
    "\n",
    "hist_aug = model.fit_generator(BatchGenerator_withaug(fetcher),\n",
    "                    samples_per_epoch=steps_to_take*3, \n",
    "                    nb_epoch=25,\n",
    "                    verbose=2,\n",
    "                    callbacks=[hist,checkpointer,early_stopping],\n",
    "                   )"
   ]
  },
  {
   "cell_type": "code",
   "execution_count": 29,
   "metadata": {},
   "outputs": [
    {
     "data": {
      "text/plain": [
       "[<matplotlib.lines.Line2D at 0x2ab71c966748>]"
      ]
     },
     "execution_count": 29,
     "metadata": {},
     "output_type": "execute_result"
    },
    {
     "data": {
      "image/png": "[encoded data removed]",
      "text/plain": [
       "<Figure size 432x288 with 1 Axes>"
      ]
     },
     "metadata": {
      "needs_background": "light"
     },
     "output_type": "display_data"
    }
   ],
   "source": [
    "plt.plot(list(hist_aug.history.values())[0])"
   ]
  },
  {
   "cell_type": "code",
   "execution_count": 11,
   "metadata": {},
   "outputs": [
    {
     "data": {
      "text/plain": [
       "61578"
      ]
     },
     "execution_count": 11,
     "metadata": {},
     "output_type": "execute_result"
    }
   ],
   "source": [
    "len(fetcher.training_images_paths)"
   ]
  },
  {
   "cell_type": "code",
   "execution_count": 31,
   "metadata": {},
   "outputs": [
    {
     "name": "stdout",
     "output_type": "stream",
     "text": [
      "Epoch 1/50\n",
      " - 116s - loss: 0.0173\n",
      "Epoch 2/50\n",
      " - 116s - loss: 0.0170\n",
      "Epoch 3/50\n",
      " - 116s - loss: 0.0163\n",
      "Epoch 4/50\n",
      " - 116s - loss: 0.0166\n",
      "Epoch 5/50\n",
      " - 116s - loss: 0.0168\n",
      "Epoch 6/50\n",
      " - 116s - loss: 0.0169\n",
      "Epoch 7/50\n",
      " - 116s - loss: 0.0168\n",
      "Epoch 8/50\n",
      " - 117s - loss: 0.0165\n",
      "Epoch 9/50\n",
      " - 116s - loss: 0.0164\n",
      "Epoch 10/50\n",
      " - 116s - loss: 0.0167\n",
      "Epoch 11/50\n",
      " - 116s - loss: 0.0163\n",
      "Epoch 12/50\n",
      " - 116s - loss: 0.0161\n",
      "Epoch 13/50\n",
      " - 116s - loss: 0.0164\n",
      "Epoch 14/50\n",
      " - 116s - loss: 0.0164\n",
      "Epoch 15/50\n",
      " - 116s - loss: 0.0165\n",
      "Epoch 16/50\n",
      " - 116s - loss: 0.0160\n",
      "Epoch 17/50\n",
      " - 116s - loss: 0.0155\n",
      "Epoch 18/50\n",
      " - 116s - loss: 0.0164\n",
      "Epoch 19/50\n",
      " - 116s - loss: 0.0156\n",
      "Epoch 20/50\n",
      " - 116s - loss: 0.0158\n",
      "Epoch 21/50\n",
      " - 116s - loss: 0.0155\n",
      "Epoch 22/50\n",
      " - 116s - loss: 0.0162\n",
      "Epoch 23/50\n",
      " - 116s - loss: 0.0161\n",
      "Epoch 24/50\n",
      " - 116s - loss: 0.0156\n",
      "Epoch 25/50\n",
      " - 116s - loss: 0.0158\n",
      "Epoch 26/50\n",
      " - 118s - loss: 0.0153\n",
      "Epoch 27/50\n",
      " - 122s - loss: 0.0158\n",
      "Epoch 28/50\n",
      " - 133s - loss: 0.0155\n",
      "Epoch 29/50\n",
      " - 123s - loss: 0.0160\n",
      "Epoch 30/50\n",
      " - 120s - loss: 0.0154\n",
      "Epoch 31/50\n",
      " - 117s - loss: 0.0150\n",
      "Epoch 32/50\n",
      " - 117s - loss: 0.0151\n",
      "Epoch 33/50\n",
      " - 117s - loss: 0.0155\n",
      "Epoch 34/50\n",
      " - 116s - loss: 0.0153\n",
      "Epoch 35/50\n",
      " - 116s - loss: 0.0149\n",
      "Epoch 36/50\n",
      " - 116s - loss: 0.0150\n",
      "Epoch 37/50\n",
      " - 116s - loss: 0.0151\n",
      "Epoch 38/50\n",
      " - 116s - loss: 0.0152\n",
      "Epoch 39/50\n",
      " - 116s - loss: 0.0155\n",
      "Epoch 40/50\n",
      " - 116s - loss: 0.0150\n",
      "Epoch 41/50\n",
      " - 116s - loss: 0.0150\n",
      "Epoch 42/50\n",
      " - 116s - loss: 0.0154\n",
      "Epoch 43/50\n",
      " - 116s - loss: 0.0150\n",
      "Epoch 44/50\n",
      " - 116s - loss: 0.0147\n",
      "Epoch 45/50\n",
      " - 116s - loss: 0.0149\n",
      "Epoch 46/50\n",
      " - 116s - loss: 0.0151\n",
      "Epoch 47/50\n",
      " - 116s - loss: 0.0150\n",
      "Epoch 48/50\n",
      " - 116s - loss: 0.0149\n",
      "Epoch 49/50\n",
      " - 116s - loss: 0.0144\n",
      "Epoch 50/50\n",
      " - 116s - loss: 0.0150\n"
     ]
    }
   ],
   "source": [
    "#Aug with larger epochs\n",
    "\n",
    "hist_aug2 = model.fit_generator(BatchGenerator_withaug(fetcher),\n",
    "                    samples_per_epoch=steps_to_take*3, \n",
    "                    nb_epoch=50,\n",
    "                    verbose=2,\n",
    "                    callbacks=[hist,checkpointer,early_stopping],\n",
    "                   )"
   ]
  },
  {
   "cell_type": "code",
   "execution_count": 32,
   "metadata": {},
   "outputs": [],
   "source": [
    "model.save_weights('./tmp/weights.hdf5')"
   ]
  },
  {
   "cell_type": "code",
   "execution_count": 35,
   "metadata": {},
   "outputs": [],
   "source": [
    "def testGenerator(getter):\n",
    "    while 1:\n",
    "        for f in getter.test_images_paths:\n",
    "            X_test = process_images([getter.test_path + '/' + fname for fname in [f]])\n",
    "            yield (X_test)\n"
   ]
  },
  {
   "cell_type": "code",
   "execution_count": 36,
   "metadata": {},
   "outputs": [],
   "source": [
    "predictions = model.predict_generator(testGenerator(fetcher),\n",
    "                       val_samples = len(fetcher.test_images_paths),\n",
    "                        max_q_size = 32)"
   ]
  },
  {
   "cell_type": "code",
   "execution_count": 37,
   "metadata": {},
   "outputs": [
    {
     "data": {
      "text/plain": [
       "(600, 37)"
      ]
     },
     "execution_count": 37,
     "metadata": {},
     "output_type": "execute_result"
    }
   ],
   "source": [
    "predictions.shape"
   ]
  },
  {
   "cell_type": "code",
   "execution_count": null,
   "metadata": {},
   "outputs": [],
   "source": [
    "header = open('all_zeros_benchmark.csv','r').readlines()[0]\n",
    "\n",
    "with open('submission_1.csv','w') as outfile:\n",
    "    outfile.write(header)\n",
    "    for i in range(len(fetcher.test_images_paths)):\n",
    "        id_ = (fetcher.get_id(fetcher.test_images_paths[i]))\n",
    "        pred = predictions[i]\n",
    "        outline = id_ + \",\" + \",\".join([str(x) for x in pred])\n",
    "        outfile.write(outline + \"\\n\")"
   ]
  },
  {
   "cell_type": "code",
   "execution_count": null,
   "metadata": {},
   "outputs": [],
   "source": []
  },
  {
   "cell_type": "code",
   "execution_count": 58,
   "metadata": {},
   "outputs": [],
   "source": [
    "class LeNet(Model):\n",
    "    def __init__(self, input_shape=(3, 106, 106), num_classes=37):\n",
    "        # super(LeNet, self).__init__(name=\"LeNet\")\n",
    "        self.num_classes = num_classes\n",
    "        ''' 定义要用到的层 layers '''\n",
    "        # 输入层\n",
    "        img_input = Input(shape=input_shape)\n",
    "\n",
    "        # Conv => ReLu => Pool\n",
    "        x = Conv2D(filters=20, kernel_size=5, padding=\"same\", activation=\"relu\" ,name='block1_conv1')(img_input)\n",
    "        x = MaxPooling2D(pool_size=(2, 2), strides=(2, 2), name='block1_pool')(x)\n",
    "        # Conv => ReLu => Pool\n",
    "        x = Conv2D(filters=50, kernel_size=5, padding=\"same\", activation=\"relu\", name='block1_conv2')(x)\n",
    "        x = MaxPooling2D(pool_size=(2, 2), strides=(2, 2), padding=\"same\", name='block1_poo2')(x)\n",
    "        # 压成一维\n",
    "        x = Flatten(name='flatten')(x)\n",
    "        # 全连接层\n",
    "        x = Dense(units=500, activation=\"relu\", name=\"f1\")(x)\n",
    "        # softmax分类器\n",
    "        x = Dense(units=num_classes, activation=\"softmax\", name=\"prediction\")(x)\n",
    "\n",
    "        # 调用Model类的Model(input, output, name=\"***\")构造方法\n",
    "        super(LeNet, self).__init__(img_input, x, name=\"LeNet\")\n",
    "\n",
    "    def call(self, inputs):\n",
    "        # 前向传播计算\n",
    "        # 使用在__init__方法中定义的层\n",
    "        return self.output(inputs)\n"
   ]
  },
  {
   "cell_type": "code",
   "execution_count": 44,
   "metadata": {},
   "outputs": [],
   "source": [
    "input_shape = (3,106,106)\n",
    "classes = 37\n",
    "\n",
    "NB_EPOCH = 20\n",
    "BATCH_SIZE = 64\n",
    "VERBOSE = 1\n",
    "OPTIMIZER = Adam()\n",
    "VALIDATION_SPLIT = 0.2\n",
    "IMG_ROWS, IMG_COLS = 106, 106\n",
    "NB_CLASSES = 37\n",
    "INPUT_SHAPE = (3, IMG_ROWS, IMG_COLS)"
   ]
  },
  {
   "cell_type": "code",
   "execution_count": 60,
   "metadata": {},
   "outputs": [],
   "source": [
    "def X_generator(getter):\n",
    "    while 1:\n",
    "        for f in getter.training_images_paths:\n",
    "            X_train = process_images([getter.train_path + '/' + fname for fname in [f]])\n",
    "            yield X_train\n",
    "            \n",
    "def y_generator(getter):\n",
    "    while 1:\n",
    "        for f in getter.training_images_paths:\n",
    "            id_ = getter.get_id(f)\n",
    "            y_train = np.array(getter.find_label(id_))\n",
    "            y_train = np.reshape(y_train, (1,37))\n",
    "            yield y_train"
   ]
  },
  {
   "cell_type": "code",
   "execution_count": 59,
   "metadata": {},
   "outputs": [
    {
     "ename": "NameError",
     "evalue": "name 'y' is not defined",
     "output_type": "error",
     "traceback": [
      "\u001b[0;31m---------------------------------------------------------------------------\u001b[0m",
      "\u001b[0;31mNameError\u001b[0m                                 Traceback (most recent call last)",
      "\u001b[0;32m<ipython-input-59-50381a88c258>\u001b[0m in \u001b[0;36m<module>\u001b[0;34m\u001b[0m\n\u001b[0;32m----> 1\u001b[0;31m \u001b[0mLeModel\u001b[0m \u001b[0;34m=\u001b[0m \u001b[0mLeNet\u001b[0m\u001b[0;34m(\u001b[0m\u001b[0mINPUT_SHAPE\u001b[0m\u001b[0;34m,\u001b[0m \u001b[0mNB_CLASSES\u001b[0m\u001b[0;34m)\u001b[0m\u001b[0;34m\u001b[0m\u001b[0;34m\u001b[0m\u001b[0m\n\u001b[0m\u001b[1;32m      2\u001b[0m \u001b[0mLeModel\u001b[0m\u001b[0;34m.\u001b[0m\u001b[0msummary\u001b[0m\u001b[0;34m(\u001b[0m\u001b[0;34m)\u001b[0m\u001b[0;34m\u001b[0m\u001b[0;34m\u001b[0m\u001b[0m\n\u001b[1;32m      3\u001b[0m \u001b[0;34m\u001b[0m\u001b[0m\n\u001b[1;32m      4\u001b[0m LeModel.compile(loss=\"categorical_crossentropy\", optimizer=tf.train.RMSPropOptimizer(learning_rate=0.0001),\n\u001b[1;32m      5\u001b[0m               metrics=[\"accuracy\"])\n",
      "\u001b[0;32m<ipython-input-58-ec88fde04119>\u001b[0m in \u001b[0;36m__init__\u001b[0;34m(self, input_shape, num_classes)\u001b[0m\n\u001b[1;32m     21\u001b[0m \u001b[0;34m\u001b[0m\u001b[0m\n\u001b[1;32m     22\u001b[0m         \u001b[0;31m# 调用Model类的Model(input, output, name=\"***\")构造方法\u001b[0m\u001b[0;34m\u001b[0m\u001b[0;34m\u001b[0m\u001b[0;34m\u001b[0m\u001b[0m\n\u001b[0;32m---> 23\u001b[0;31m         \u001b[0msuper\u001b[0m\u001b[0;34m(\u001b[0m\u001b[0mLeNet\u001b[0m\u001b[0;34m,\u001b[0m \u001b[0mself\u001b[0m\u001b[0;34m)\u001b[0m\u001b[0;34m.\u001b[0m\u001b[0m__init__\u001b[0m\u001b[0;34m(\u001b[0m\u001b[0mimg_input\u001b[0m\u001b[0;34m,\u001b[0m \u001b[0mx\u001b[0m\u001b[0;34m,\u001b[0m\u001b[0my\u001b[0m\u001b[0;34m,\u001b[0m \u001b[0mname\u001b[0m\u001b[0;34m=\u001b[0m\u001b[0;34m\"LeNet\"\u001b[0m\u001b[0;34m)\u001b[0m\u001b[0;34m\u001b[0m\u001b[0;34m\u001b[0m\u001b[0m\n\u001b[0m\u001b[1;32m     24\u001b[0m \u001b[0;34m\u001b[0m\u001b[0m\n\u001b[1;32m     25\u001b[0m     \u001b[0;32mdef\u001b[0m \u001b[0mcall\u001b[0m\u001b[0;34m(\u001b[0m\u001b[0mself\u001b[0m\u001b[0;34m,\u001b[0m \u001b[0minputs\u001b[0m\u001b[0;34m)\u001b[0m\u001b[0;34m:\u001b[0m\u001b[0;34m\u001b[0m\u001b[0;34m\u001b[0m\u001b[0m\n",
      "\u001b[0;31mNameError\u001b[0m: name 'y' is not defined"
     ]
    }
   ],
   "source": [
    "LeModel = LeNet(INPUT_SHAPE, NB_CLASSES)\n",
    "LeModel.summary()\n",
    "\n",
    "LeModel.compile(loss=\"categorical_crossentropy\", optimizer=tf.train.RMSPropOptimizer(learning_rate=0.0001),\n",
    "              metrics=[\"accuracy\"])\n",
    "\n",
    "history = LeModel.fit(x=X_generator(fetcher), y=X_generator, batch_size=BATCH_SIZE, epochs=NB_EPOCH, verbose=VERBOSE,\n",
    "                    validation_split=VALIDATION_SPLIT)"
   ]
  },
  {
   "cell_type": "code",
   "execution_count": null,
   "metadata": {},
   "outputs": [],
   "source": []
  }
 ],
 "metadata": {
  "kernelspec": {
   "display_name": "Python 3",
   "language": "python",
   "name": "python3"
  },
  "language_info": {
   "codemirror_mode": {
    "name": "ipython",
    "version": 3
   },
   "file_extension": ".py",
   "mimetype": "text/x-python",
   "name": "python",
   "nbconvert_exporter": "python",
   "pygments_lexer": "ipython3",
   "version": "3.6.7"
  }
 },
 "nbformat": 4,
 "nbformat_minor": 2
}
